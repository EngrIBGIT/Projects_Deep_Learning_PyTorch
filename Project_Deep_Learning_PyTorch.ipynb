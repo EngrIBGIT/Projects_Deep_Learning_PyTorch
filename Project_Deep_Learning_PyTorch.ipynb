{
  "nbformat": 4,
  "nbformat_minor": 0,
  "metadata": {
    "colab": {
      "provenance": [],
      "authorship_tag": "ABX9TyNMQdCE2ykITrucq/X8+2sO",
      "include_colab_link": true
    },
    "kernelspec": {
      "name": "python3",
      "display_name": "Python 3"
    },
    "language_info": {
      "name": "python"
    }
  },
  "cells": [
    {
      "cell_type": "markdown",
      "metadata": {
        "id": "view-in-github",
        "colab_type": "text"
      },
      "source": [
        "<a href=\"https://colab.research.google.com/github/EngrIBGIT/Projects_Deep_Learning_PyTorch/blob/main/Project_Deep_Learning_PyTorch.ipynb\" target=\"_parent\"><img src=\"https://colab.research.google.com/assets/colab-badge.svg\" alt=\"Open In Colab\"/></a>"
      ]
    },
    {
      "cell_type": "code",
      "execution_count": null,
      "metadata": {
        "id": "j999KdQ-iYYl"
      },
      "outputs": [],
      "source": []
    },
    {
      "cell_type": "markdown",
      "source": [],
      "metadata": {
        "id": "ED6xvfxJi4FW"
      }
    },
    {
      "cell_type": "code",
      "source": [
        "device = torch.device('cuda') if torch.cuda.is_available() else torch.device('cpu')\n",
        "\n",
        "x = torch.rand(5, 3).to(device)\n",
        "\n",
        "\n",
        "x = torch.rand(5, 3, device=device)\n"
      ],
      "metadata": {
        "id": "7801y4ECi5gK"
      },
      "execution_count": null,
      "outputs": []
    },
    {
      "cell_type": "markdown",
      "source": [
        "### Autograd:\n",
        "\n",
        "Package provide automatic differentiation for all operations on Tensors.\n",
        "Torch.autograd is an engine for computing the vector-jacobian product. It computes partial derivatives while applying the chain rule.\n",
        "\n",
        "`Set requires_grad = True:`"
      ],
      "metadata": {
        "id": "OncC3TarjYME"
      }
    },
    {
      "cell_type": "code",
      "source": [
        "import torch\n",
        "\n",
        "# requires_grad = True --> tracks all operations on the tensor.\n",
        "x = torch.randn(3, requires_grad=True)\n",
        "y = x + 2\n",
        "\n",
        "# y was created as a result of an operation, so it has a grad_fn attribute.\n",
        "# grad_fn: references a Function that has created the Tensor\n",
        "print(x) # created by the user --> grad_fn is None\n",
        "print(y)\n",
        "print(y.grad_fn)"
      ],
      "metadata": {
        "colab": {
          "base_uri": "https://localhost:8080/"
        },
        "id": "ASl7JMkJj9vz",
        "outputId": "28f338ad-569f-4216-b133-0da8b9f3c731"
      },
      "execution_count": null,
      "outputs": [
        {
          "output_type": "stream",
          "name": "stdout",
          "text": [
            "tensor([-1.5407, -1.0599,  0.1572], requires_grad=True)\n",
            "tensor([0.4593, 0.9401, 2.1572], grad_fn=<AddBackward0>)\n",
            "<AddBackward0 object at 0x7d4098934910>\n"
          ]
        }
      ]
    },
    {
      "cell_type": "code",
      "source": [
        "# Do more operations on y\n",
        "z = y * y * 3\n",
        "print(z)\n",
        "z = z.mean()\n",
        "print(z)"
      ],
      "metadata": {
        "colab": {
          "base_uri": "https://localhost:8080/"
        },
        "id": "WrCBFGzqknZS",
        "outputId": "bd09f6fc-d115-4380-99c2-435cab836fb0"
      },
      "execution_count": null,
      "outputs": [
        {
          "output_type": "stream",
          "name": "stdout",
          "text": [
            "tensor([ 0.6329,  2.6513, 13.9610], grad_fn=<MulBackward0>)\n",
            "tensor(5.7484, grad_fn=<MeanBackward0>)\n"
          ]
        }
      ]
    },
    {
      "cell_type": "code",
      "source": [
        "z.backward() # dz/dx\n",
        "print(x.grad)"
      ],
      "metadata": {
        "colab": {
          "base_uri": "https://localhost:8080/"
        },
        "id": "V1qKykRNk8Ic",
        "outputId": "1290890c-5370-4f3a-91ec-8c4d85c1eb7b"
      },
      "execution_count": null,
      "outputs": [
        {
          "output_type": "stream",
          "name": "stdout",
          "text": [
            "tensor([0.9186, 1.8802, 4.3145])\n"
          ]
        }
      ]
    },
    {
      "cell_type": "code",
      "source": [],
      "metadata": {
        "id": "EwlWRE7elEDV"
      },
      "execution_count": null,
      "outputs": []
    }
  ]
}