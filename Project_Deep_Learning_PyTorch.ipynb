{
  "nbformat": 4,
  "nbformat_minor": 0,
  "metadata": {
    "colab": {
      "provenance": [],
      "gpuType": "T4",
      "authorship_tag": "ABX9TyPpJlaKiBzkkO/jQQKo1rGu",
      "include_colab_link": true
    },
    "kernelspec": {
      "name": "python3",
      "display_name": "Python 3"
    },
    "language_info": {
      "name": "python"
    },
    "accelerator": "GPU"
  },
  "cells": [
    {
      "cell_type": "markdown",
      "metadata": {
        "id": "view-in-github",
        "colab_type": "text"
      },
      "source": [
        "<a href=\"https://colab.research.google.com/github/EngrIBGIT/Projects_Deep_Learning_PyTorch/blob/main/Project_Deep_Learning_PyTorch.ipynb\" target=\"_parent\"><img src=\"https://colab.research.google.com/assets/colab-badge.svg\" alt=\"Open In Colab\"/></a>"
      ]
    },
    {
      "cell_type": "markdown",
      "source": [
        "# Pytorch Fundamentals"
      ],
      "metadata": {
        "id": "tDFUwUlSnAel"
      }
    },
    {
      "cell_type": "markdown",
      "source": [
        "## Resources\n",
        "`Notebook:` [Pytorch](https://www.learnpytorch.io/00_pytorch_fundamentals/)\n",
        "\n",
        "`Guided Learning:` [Udacity Deep Learning Pytorch](https://www.udacity.com/course/deep-learning-pytorch--ud188?irclickid=3u50vqRulxyPWoN36uVfJR3zUkFSahxmE2bO040&irgwc=1&utm_source=affiliate&utm_medium=&aff=259799&utm_term=&utm_campaign=_gtc_www_classcentral_com_&utm_content=&adid=788805)\n",
        "\n",
        "[Deep Learning: CS 182 Spring 2021](https://www.youtube.com/playlist?list=PL_iWQOsE6TfVmKkQHucjPAoRtIJYt8a5A)\n"
      ],
      "metadata": {
        "id": "El6n33UpoRNR"
      }
    },
    {
      "cell_type": "code",
      "source": [],
      "metadata": {
        "id": "uUybhC9CoRT5"
      },
      "execution_count": null,
      "outputs": []
    },
    {
      "cell_type": "code",
      "execution_count": 1,
      "metadata": {
        "id": "j999KdQ-iYYl",
        "colab": {
          "base_uri": "https://localhost:8080/"
        },
        "outputId": "516d75ee-a6f8-4037-ad7a-47a7584b7bc0"
      },
      "outputs": [
        {
          "output_type": "stream",
          "name": "stdout",
          "text": [
            "Thu Oct 10 05:28:54 2024       \n",
            "+---------------------------------------------------------------------------------------+\n",
            "| NVIDIA-SMI 535.104.05             Driver Version: 535.104.05   CUDA Version: 12.2     |\n",
            "|-----------------------------------------+----------------------+----------------------+\n",
            "| GPU  Name                 Persistence-M | Bus-Id        Disp.A | Volatile Uncorr. ECC |\n",
            "| Fan  Temp   Perf          Pwr:Usage/Cap |         Memory-Usage | GPU-Util  Compute M. |\n",
            "|                                         |                      |               MIG M. |\n",
            "|=========================================+======================+======================|\n",
            "|   0  Tesla T4                       Off | 00000000:00:04.0 Off |                    0 |\n",
            "| N/A   44C    P8               9W /  70W |      0MiB / 15360MiB |      0%      Default |\n",
            "|                                         |                      |                  N/A |\n",
            "+-----------------------------------------+----------------------+----------------------+\n",
            "                                                                                         \n",
            "+---------------------------------------------------------------------------------------+\n",
            "| Processes:                                                                            |\n",
            "|  GPU   GI   CI        PID   Type   Process name                            GPU Memory |\n",
            "|        ID   ID                                                             Usage      |\n",
            "|=======================================================================================|\n",
            "|  No running processes found                                                           |\n",
            "+---------------------------------------------------------------------------------------+\n"
          ]
        }
      ],
      "source": [
        "!nvidia-smi"
      ]
    },
    {
      "cell_type": "code",
      "source": [
        "import torch\n",
        "import pandas as pd\n",
        "import numpy as np\n",
        "import matplotlib.pyplot as plt\n",
        "import seaborn as sns\n",
        "\n",
        "%matplotlib inline\n",
        "\n",
        "import warnings\n",
        "warnings.filterwarnings('ignore')"
      ],
      "metadata": {
        "id": "28fB3ivroQk3"
      },
      "execution_count": 2,
      "outputs": []
    },
    {
      "cell_type": "code",
      "source": [
        "print(torch.__version__)"
      ],
      "metadata": {
        "colab": {
          "base_uri": "https://localhost:8080/"
        },
        "id": "Ch82C5vpq1Ho",
        "outputId": "6f351c25-842c-4c2d-c8a5-5c2a6e8492f5"
      },
      "execution_count": 3,
      "outputs": [
        {
          "output_type": "stream",
          "name": "stdout",
          "text": [
            "2.4.1+cu121\n"
          ]
        }
      ]
    },
    {
      "cell_type": "markdown",
      "source": [
        "## Introduction to Tensors: Tensors are the main building blocks of pytorch\n",
        "\n",
        "#### Creating Tensors; Pytorch tensors are created using `torch.Tensor()` = [Create Tensor](https://pytorch.org/docs/stable/tensors.html)"
      ],
      "metadata": {
        "id": "jG5ZAHQ3rSz5"
      }
    },
    {
      "cell_type": "code",
      "source": [
        "# Scalar: A way to create tensor in pytorch, has no dimensions its a single number\n",
        "\n",
        "scalar = torch.tensor(7)\n",
        "scalar"
      ],
      "metadata": {
        "colab": {
          "base_uri": "https://localhost:8080/"
        },
        "id": "VTpo22bpm2-G",
        "outputId": "6cba5629-a14a-4a8f-a125-873502059eaf"
      },
      "execution_count": 4,
      "outputs": [
        {
          "output_type": "execute_result",
          "data": {
            "text/plain": [
              "tensor(7)"
            ]
          },
          "metadata": {},
          "execution_count": 4
        }
      ]
    },
    {
      "cell_type": "code",
      "source": [
        "scalar.ndim"
      ],
      "metadata": {
        "colab": {
          "base_uri": "https://localhost:8080/"
        },
        "id": "bjZRyhdpm3FO",
        "outputId": "95d814e2-806b-4e48-b6ec-3ca155f7fb1e"
      },
      "execution_count": 5,
      "outputs": [
        {
          "output_type": "execute_result",
          "data": {
            "text/plain": [
              "0"
            ]
          },
          "metadata": {},
          "execution_count": 5
        }
      ]
    },
    {
      "cell_type": "code",
      "source": [
        "# Get tensor as python int\n",
        "scalar.item()"
      ],
      "metadata": {
        "colab": {
          "base_uri": "https://localhost:8080/"
        },
        "id": "B5A2wd4qm3Hq",
        "outputId": "a453bf35-369a-42b2-88b7-9af0bcdd7869"
      },
      "execution_count": 6,
      "outputs": [
        {
          "output_type": "execute_result",
          "data": {
            "text/plain": [
              "7"
            ]
          },
          "metadata": {},
          "execution_count": 6
        }
      ]
    },
    {
      "cell_type": "code",
      "source": [
        "# vector; Typically has more than one dimention\n",
        "\n",
        "vector = torch.tensor([7, 7])\n",
        "vector"
      ],
      "metadata": {
        "colab": {
          "base_uri": "https://localhost:8080/"
        },
        "id": "oDSgvKNcm3Js",
        "outputId": "ed75f260-112b-440a-def9-9f6c656fc5df"
      },
      "execution_count": 7,
      "outputs": [
        {
          "output_type": "execute_result",
          "data": {
            "text/plain": [
              "tensor([7, 7])"
            ]
          },
          "metadata": {},
          "execution_count": 7
        }
      ]
    },
    {
      "cell_type": "code",
      "source": [
        "vector.ndim"
      ],
      "metadata": {
        "colab": {
          "base_uri": "https://localhost:8080/"
        },
        "id": "_atm7koMm3Mp",
        "outputId": "339fbb04-344c-4c1a-9e1b-baaa6c486a6a"
      },
      "execution_count": 8,
      "outputs": [
        {
          "output_type": "execute_result",
          "data": {
            "text/plain": [
              "1"
            ]
          },
          "metadata": {},
          "execution_count": 8
        }
      ]
    },
    {
      "cell_type": "code",
      "source": [
        "vector.shape"
      ],
      "metadata": {
        "colab": {
          "base_uri": "https://localhost:8080/"
        },
        "id": "OJJLH7J8m3PG",
        "outputId": "97824abb-ee06-4f54-f250-68d6f298878c"
      },
      "execution_count": 9,
      "outputs": [
        {
          "output_type": "execute_result",
          "data": {
            "text/plain": [
              "torch.Size([2])"
            ]
          },
          "metadata": {},
          "execution_count": 9
        }
      ]
    },
    {
      "cell_type": "code",
      "source": [
        "# MATRIX:\n",
        "MATRIX = torch.tensor([[7, 8],\n",
        "                       [9, 10]])\n",
        "MATRIX"
      ],
      "metadata": {
        "colab": {
          "base_uri": "https://localhost:8080/"
        },
        "id": "rPY7v-Yum3Ub",
        "outputId": "f2169b50-3021-43a4-fa9e-a29bb40c6412"
      },
      "execution_count": 10,
      "outputs": [
        {
          "output_type": "execute_result",
          "data": {
            "text/plain": [
              "tensor([[ 7,  8],\n",
              "        [ 9, 10]])"
            ]
          },
          "metadata": {},
          "execution_count": 10
        }
      ]
    },
    {
      "cell_type": "code",
      "source": [
        "MATRIX.ndim"
      ],
      "metadata": {
        "colab": {
          "base_uri": "https://localhost:8080/"
        },
        "id": "I2srw-cem3WG",
        "outputId": "ea81ddd1-3716-41f9-98db-daf8c468f8c0"
      },
      "execution_count": 11,
      "outputs": [
        {
          "output_type": "execute_result",
          "data": {
            "text/plain": [
              "2"
            ]
          },
          "metadata": {},
          "execution_count": 11
        }
      ]
    },
    {
      "cell_type": "code",
      "source": [
        "MATRIX.shape"
      ],
      "metadata": {
        "colab": {
          "base_uri": "https://localhost:8080/"
        },
        "id": "aECE9VJCm3Xn",
        "outputId": "4b67874f-656a-47f8-a05c-b2c672a7a393"
      },
      "execution_count": 12,
      "outputs": [
        {
          "output_type": "execute_result",
          "data": {
            "text/plain": [
              "torch.Size([2, 2])"
            ]
          },
          "metadata": {},
          "execution_count": 12
        }
      ]
    },
    {
      "cell_type": "code",
      "source": [
        "MATRIX[1]"
      ],
      "metadata": {
        "colab": {
          "base_uri": "https://localhost:8080/"
        },
        "id": "eY1IgIshm3ZU",
        "outputId": "6b7ce15c-2e04-4ff4-9ade-cb8fcb07a240"
      },
      "execution_count": 13,
      "outputs": [
        {
          "output_type": "execute_result",
          "data": {
            "text/plain": [
              "tensor([ 9, 10])"
            ]
          },
          "metadata": {},
          "execution_count": 13
        }
      ]
    },
    {
      "cell_type": "code",
      "source": [
        "# TENSOR\n",
        "TENSOR = torch.tensor([[[1, 2, 3],\n",
        "                        [3, 6, 9],\n",
        "                        [2, 4, 5]]])\n",
        "TENSOR"
      ],
      "metadata": {
        "colab": {
          "base_uri": "https://localhost:8080/"
        },
        "id": "tH7YozRfm3cM",
        "outputId": "6eccbdbf-d8f4-4d7d-badf-43563a87b149"
      },
      "execution_count": 14,
      "outputs": [
        {
          "output_type": "execute_result",
          "data": {
            "text/plain": [
              "tensor([[[1, 2, 3],\n",
              "         [3, 6, 9],\n",
              "         [2, 4, 5]]])"
            ]
          },
          "metadata": {},
          "execution_count": 14
        }
      ]
    },
    {
      "cell_type": "code",
      "source": [
        "TENSOR.ndim"
      ],
      "metadata": {
        "colab": {
          "base_uri": "https://localhost:8080/"
        },
        "id": "2WEZutSTm3eF",
        "outputId": "1f9f67cf-b482-4fc8-9082-a42cb399e92d"
      },
      "execution_count": 15,
      "outputs": [
        {
          "output_type": "execute_result",
          "data": {
            "text/plain": [
              "3"
            ]
          },
          "metadata": {},
          "execution_count": 15
        }
      ]
    },
    {
      "cell_type": "code",
      "source": [
        "TENSOR.shape"
      ],
      "metadata": {
        "colab": {
          "base_uri": "https://localhost:8080/"
        },
        "id": "n0u9CJUUm3hP",
        "outputId": "a78b0d78-2218-4e6f-ea5d-f67a68a0c67a"
      },
      "execution_count": 16,
      "outputs": [
        {
          "output_type": "execute_result",
          "data": {
            "text/plain": [
              "torch.Size([1, 3, 3])"
            ]
          },
          "metadata": {},
          "execution_count": 16
        }
      ]
    },
    {
      "cell_type": "code",
      "source": [
        "TENSOR[0]"
      ],
      "metadata": {
        "colab": {
          "base_uri": "https://localhost:8080/"
        },
        "id": "KjYADIXZm3jo",
        "outputId": "8e578f66-03e8-4f9a-81ec-0e4883c6a7f4"
      },
      "execution_count": 17,
      "outputs": [
        {
          "output_type": "execute_result",
          "data": {
            "text/plain": [
              "tensor([[1, 2, 3],\n",
              "        [3, 6, 9],\n",
              "        [2, 4, 5]])"
            ]
          },
          "metadata": {},
          "execution_count": 17
        }
      ]
    },
    {
      "cell_type": "markdown",
      "source": [
        "__Random Tensors:__\n",
        "\n",
        "*Why random tensors?*\n",
        "\n",
        "`Random tensors are important because many neural networks learn by starting with tensor full of numbers and then adjust those random numbers to better represent data`\n",
        "\n",
        "Start with random numbers --> Look at data --> update random numbers --> Look at data --> update random numbers -->\n",
        "\n",
        "[Torch random tensors](https://pytorch.org/docs/stable/generated/torch.rand.html)"
      ],
      "metadata": {
        "id": "YjWZP3wsm3m9"
      }
    },
    {
      "cell_type": "code",
      "source": [
        "# Create a random tensor of size (3, 4)\n",
        "random_tensor = torch.rand(3, 4)\n",
        "random_tensor"
      ],
      "metadata": {
        "colab": {
          "base_uri": "https://localhost:8080/"
        },
        "id": "baUHNwcUm3p2",
        "outputId": "4413ce63-afab-4e4a-da92-fb79feabf709"
      },
      "execution_count": 18,
      "outputs": [
        {
          "output_type": "execute_result",
          "data": {
            "text/plain": [
              "tensor([[0.2920, 0.9899, 0.5187, 0.4389],\n",
              "        [0.2602, 0.1344, 0.7058, 0.9630],\n",
              "        [0.0849, 0.4831, 0.7724, 0.6491]])"
            ]
          },
          "metadata": {},
          "execution_count": 18
        }
      ]
    },
    {
      "cell_type": "code",
      "source": [
        "random_tensor.ndim"
      ],
      "metadata": {
        "colab": {
          "base_uri": "https://localhost:8080/"
        },
        "id": "__eu9SAkm3_c",
        "outputId": "f36b3a2c-ff69-4de1-b31c-35f4d5cdd259"
      },
      "execution_count": 19,
      "outputs": [
        {
          "output_type": "execute_result",
          "data": {
            "text/plain": [
              "2"
            ]
          },
          "metadata": {},
          "execution_count": 19
        }
      ]
    },
    {
      "cell_type": "code",
      "source": [
        "random_tensor2 = torch.rand(2, 5, 6)\n",
        "random_tensor2"
      ],
      "metadata": {
        "colab": {
          "base_uri": "https://localhost:8080/"
        },
        "id": "gys27bJtm4H2",
        "outputId": "f9fe4efb-cb69-4312-e9af-b24d14279837"
      },
      "execution_count": 20,
      "outputs": [
        {
          "output_type": "execute_result",
          "data": {
            "text/plain": [
              "tensor([[[0.7633, 0.7519, 0.0022, 0.7826, 0.4091, 0.7184],\n",
              "         [0.3397, 0.8221, 0.9738, 0.5537, 0.0857, 0.7436],\n",
              "         [0.5177, 0.7016, 0.6991, 0.0893, 0.8657, 0.1333],\n",
              "         [0.0738, 0.4382, 0.5371, 0.0442, 0.9546, 0.2785],\n",
              "         [0.2941, 0.4028, 0.3402, 0.3285, 0.5118, 0.9123]],\n",
              "\n",
              "        [[0.7292, 0.1060, 0.8762, 0.2539, 0.6854, 0.4872],\n",
              "         [0.3899, 0.3255, 0.6555, 0.4890, 0.3023, 0.1723],\n",
              "         [0.3741, 0.3497, 0.8628, 0.7280, 0.2664, 0.7257],\n",
              "         [0.5508, 0.3384, 0.9071, 0.5971, 0.3599, 0.0461],\n",
              "         [0.1245, 0.7264, 0.3001, 0.3654, 0.7978, 0.1287]]])"
            ]
          },
          "metadata": {},
          "execution_count": 20
        }
      ]
    },
    {
      "cell_type": "code",
      "source": [
        "random_tensor2.ndim"
      ],
      "metadata": {
        "colab": {
          "base_uri": "https://localhost:8080/"
        },
        "id": "mKUhUG2Wm4LD",
        "outputId": "1c44cd9f-21a9-4938-dd39-2d546efc0ce9"
      },
      "execution_count": 21,
      "outputs": [
        {
          "output_type": "execute_result",
          "data": {
            "text/plain": [
              "3"
            ]
          },
          "metadata": {},
          "execution_count": 21
        }
      ]
    },
    {
      "cell_type": "code",
      "source": [
        "# Create random tensor with similar shape to an image tensor\n",
        "\n",
        "random_image_size_tensor = torch.rand(size=(224, 224, 3)) # height, width, color channels (R, G, B)\n",
        "random_image_size_tensor.shape, random_image_size_tensor.ndim"
      ],
      "metadata": {
        "colab": {
          "base_uri": "https://localhost:8080/"
        },
        "id": "0kc-WymMm4OH",
        "outputId": "cc407ad3-39d5-461a-b7c4-c90faa0fd070"
      },
      "execution_count": 22,
      "outputs": [
        {
          "output_type": "execute_result",
          "data": {
            "text/plain": [
              "(torch.Size([224, 224, 3]), 3)"
            ]
          },
          "metadata": {},
          "execution_count": 22
        }
      ]
    },
    {
      "cell_type": "code",
      "source": [
        "torch.rand(size=(3, 3))"
      ],
      "metadata": {
        "id": "bw19Az-9m4TX",
        "colab": {
          "base_uri": "https://localhost:8080/"
        },
        "outputId": "9df07865-dbee-4d22-9dae-851259736e09"
      },
      "execution_count": 23,
      "outputs": [
        {
          "output_type": "execute_result",
          "data": {
            "text/plain": [
              "tensor([[0.3211, 0.7207, 0.3249],\n",
              "        [0.9665, 0.9062, 0.1771],\n",
              "        [0.8000, 0.2114, 0.9215]])"
            ]
          },
          "metadata": {},
          "execution_count": 23
        }
      ]
    },
    {
      "cell_type": "markdown",
      "source": [
        "### Zeros and ones"
      ],
      "metadata": {
        "id": "Ur3xLGcYm4WJ"
      }
    },
    {
      "cell_type": "code",
      "source": [
        "# Tensors of all zeros\n",
        "zeros = torch.zeros(size=(3, 4))\n",
        "zeros"
      ],
      "metadata": {
        "id": "wqrC3cHcm4Yx",
        "colab": {
          "base_uri": "https://localhost:8080/"
        },
        "outputId": "6af8c2e2-8cf4-4bce-c475-3e80c0c069d0"
      },
      "execution_count": 24,
      "outputs": [
        {
          "output_type": "execute_result",
          "data": {
            "text/plain": [
              "tensor([[0., 0., 0., 0.],\n",
              "        [0., 0., 0., 0.],\n",
              "        [0., 0., 0., 0.]])"
            ]
          },
          "metadata": {},
          "execution_count": 24
        }
      ]
    },
    {
      "cell_type": "code",
      "source": [
        "# Tensors of all ones\n",
        "ones = torch.ones(size=(3, 4))\n",
        "ones"
      ],
      "metadata": {
        "id": "dHbPCpKUm4er",
        "colab": {
          "base_uri": "https://localhost:8080/"
        },
        "outputId": "fadf1ec8-651a-4fcf-a91a-42d133c689f9"
      },
      "execution_count": 25,
      "outputs": [
        {
          "output_type": "execute_result",
          "data": {
            "text/plain": [
              "tensor([[1., 1., 1., 1.],\n",
              "        [1., 1., 1., 1.],\n",
              "        [1., 1., 1., 1.]])"
            ]
          },
          "metadata": {},
          "execution_count": 25
        }
      ]
    },
    {
      "cell_type": "code",
      "source": [
        "ones.dtype"
      ],
      "metadata": {
        "id": "ICS0pEeUm4hh",
        "colab": {
          "base_uri": "https://localhost:8080/"
        },
        "outputId": "4f7e4fef-2100-4780-98d8-886c686f340a"
      },
      "execution_count": 26,
      "outputs": [
        {
          "output_type": "execute_result",
          "data": {
            "text/plain": [
              "torch.float32"
            ]
          },
          "metadata": {},
          "execution_count": 26
        }
      ]
    },
    {
      "cell_type": "markdown",
      "source": [
        "### Range of tensors"
      ],
      "metadata": {
        "id": "kK23j9Vdm4nA"
      }
    },
    {
      "cell_type": "code",
      "source": [
        "# Torch.range"
      ],
      "metadata": {
        "id": "CuMmNu6Xm4pp"
      },
      "execution_count": 27,
      "outputs": []
    },
    {
      "cell_type": "code",
      "source": [
        "torch.range(0, 10)"
      ],
      "metadata": {
        "id": "TyCkPfG_m4s5",
        "colab": {
          "base_uri": "https://localhost:8080/"
        },
        "outputId": "6f40cf4b-ddb6-4100-d1da-1da6bdb92990"
      },
      "execution_count": 28,
      "outputs": [
        {
          "output_type": "execute_result",
          "data": {
            "text/plain": [
              "tensor([ 0.,  1.,  2.,  3.,  4.,  5.,  6.,  7.,  8.,  9., 10.])"
            ]
          },
          "metadata": {},
          "execution_count": 28
        }
      ]
    },
    {
      "cell_type": "code",
      "source": [
        "torch.arange(1, 11)"
      ],
      "metadata": {
        "id": "T7rQLsfhm4v-",
        "colab": {
          "base_uri": "https://localhost:8080/"
        },
        "outputId": "45f5df27-c354-40b7-9c37-a4ef7068856e"
      },
      "execution_count": 29,
      "outputs": [
        {
          "output_type": "execute_result",
          "data": {
            "text/plain": [
              "tensor([ 1,  2,  3,  4,  5,  6,  7,  8,  9, 10])"
            ]
          },
          "metadata": {},
          "execution_count": 29
        }
      ]
    },
    {
      "cell_type": "code",
      "source": [
        "one = torch.arange(start=1, end=11, step=1)\n",
        "one"
      ],
      "metadata": {
        "id": "K9GGXop_m4y8",
        "colab": {
          "base_uri": "https://localhost:8080/"
        },
        "outputId": "75f21a11-4d64-4e9f-a712-fcc2db074223"
      },
      "execution_count": 30,
      "outputs": [
        {
          "output_type": "execute_result",
          "data": {
            "text/plain": [
              "tensor([ 1,  2,  3,  4,  5,  6,  7,  8,  9, 10])"
            ]
          },
          "metadata": {},
          "execution_count": 30
        }
      ]
    },
    {
      "cell_type": "code",
      "source": [
        "thousand = torch.arange(start=0, end=1000, step=77)\n",
        "thousand"
      ],
      "metadata": {
        "id": "1bMTLSMmm41l",
        "colab": {
          "base_uri": "https://localhost:8080/"
        },
        "outputId": "22fb4d2c-5b3a-457f-8268-902c58b9c6e9"
      },
      "execution_count": 31,
      "outputs": [
        {
          "output_type": "execute_result",
          "data": {
            "text/plain": [
              "tensor([  0,  77, 154, 231, 308, 385, 462, 539, 616, 693, 770, 847, 924])"
            ]
          },
          "metadata": {},
          "execution_count": 31
        }
      ]
    },
    {
      "cell_type": "code",
      "source": [
        "# Tensors like\n",
        "\n",
        "ten_zeros = torch.zeros_like(input=one)\n",
        "ten_zeros"
      ],
      "metadata": {
        "id": "PJKI8rn0m44l",
        "colab": {
          "base_uri": "https://localhost:8080/"
        },
        "outputId": "fb194cad-9139-426e-c2ac-a49acbd7f033"
      },
      "execution_count": 32,
      "outputs": [
        {
          "output_type": "execute_result",
          "data": {
            "text/plain": [
              "tensor([0, 0, 0, 0, 0, 0, 0, 0, 0, 0])"
            ]
          },
          "metadata": {},
          "execution_count": 32
        }
      ]
    },
    {
      "cell_type": "markdown",
      "source": [
        "### Tensor datatypes\n",
        "\n",
        "**Note:** Tensor datatypes among one of the 3 big errors to come across with Pytorch deep learning:\n",
        " 1. Tensors not in right datatype\n",
        " 2. Tensors not in right shape\n",
        " 3. Tensors not on right device\n",
        "\n",
        " [Precision in computing](https://en.wikipedia.org/wiki/Precision_(computer_science))"
      ],
      "metadata": {
        "id": "gbsdVh3gm47C"
      }
    },
    {
      "cell_type": "code",
      "source": [
        "# FLoat 32 tensor\n",
        "float_32_tensor = torch.tensor([3.0, 6.0, 9.0],\n",
        "                               dtype=None, # what datatype is the tensor (e.g. float32 or float16)\n",
        "                               device = None, # What device is tensor on ?e.g cpu, cuda\n",
        "                               requires_grad=False) # whether or not to track gradients with this tensors operations\n",
        "float_32_tensor\n",
        "float_32_tensor"
      ],
      "metadata": {
        "id": "TOmuE0Kbm4-G",
        "colab": {
          "base_uri": "https://localhost:8080/"
        },
        "outputId": "a3bd7df3-7812-43ef-a2b5-4e60666c5c4f"
      },
      "execution_count": 33,
      "outputs": [
        {
          "output_type": "execute_result",
          "data": {
            "text/plain": [
              "tensor([3., 6., 9.])"
            ]
          },
          "metadata": {},
          "execution_count": 33
        }
      ]
    },
    {
      "cell_type": "code",
      "source": [
        "float_32_tensor.dtype"
      ],
      "metadata": {
        "id": "FcD0AGdhm5Ah",
        "colab": {
          "base_uri": "https://localhost:8080/"
        },
        "outputId": "d0114de5-33c1-4008-a096-bd4c423ff11a"
      },
      "execution_count": 34,
      "outputs": [
        {
          "output_type": "execute_result",
          "data": {
            "text/plain": [
              "torch.float32"
            ]
          },
          "metadata": {},
          "execution_count": 34
        }
      ]
    },
    {
      "cell_type": "code",
      "source": [
        "float_16_tensor = float_32_tensor.type(torch.float16)\n",
        "float_16_tensor"
      ],
      "metadata": {
        "id": "zaAtKJWFm5Du",
        "colab": {
          "base_uri": "https://localhost:8080/"
        },
        "outputId": "bb691d85-33ee-4ba8-8052-f0d558682392"
      },
      "execution_count": 35,
      "outputs": [
        {
          "output_type": "execute_result",
          "data": {
            "text/plain": [
              "tensor([3., 6., 9.], dtype=torch.float16)"
            ]
          },
          "metadata": {},
          "execution_count": 35
        }
      ]
    },
    {
      "cell_type": "code",
      "source": [
        "float_16_tensor * float_32_tensor"
      ],
      "metadata": {
        "colab": {
          "base_uri": "https://localhost:8080/"
        },
        "id": "GsTDxQS0sYzS",
        "outputId": "ca5e1e2f-8948-4991-b8fd-b41d01cfa506"
      },
      "execution_count": 36,
      "outputs": [
        {
          "output_type": "execute_result",
          "data": {
            "text/plain": [
              "tensor([ 9., 36., 81.])"
            ]
          },
          "metadata": {},
          "execution_count": 36
        }
      ]
    },
    {
      "cell_type": "code",
      "source": [
        "int_32_tensor = torch.tensor([3, 6, 9], dtype=torch.int32)\n",
        "int_32_tensor"
      ],
      "metadata": {
        "colab": {
          "base_uri": "https://localhost:8080/"
        },
        "id": "aHOljbG_sYvq",
        "outputId": "93ba2411-3519-4e40-a22c-650e1bd79514"
      },
      "execution_count": 37,
      "outputs": [
        {
          "output_type": "execute_result",
          "data": {
            "text/plain": [
              "tensor([3, 6, 9], dtype=torch.int32)"
            ]
          },
          "metadata": {},
          "execution_count": 37
        }
      ]
    },
    {
      "cell_type": "code",
      "source": [
        "float_32_tensor * int_32_tensor"
      ],
      "metadata": {
        "colab": {
          "base_uri": "https://localhost:8080/"
        },
        "id": "JioEG64asYtN",
        "outputId": "d4fdd93f-8968-4743-a0df-62dddb4b7d03"
      },
      "execution_count": 38,
      "outputs": [
        {
          "output_type": "execute_result",
          "data": {
            "text/plain": [
              "tensor([ 9., 36., 81.])"
            ]
          },
          "metadata": {},
          "execution_count": 38
        }
      ]
    },
    {
      "cell_type": "code",
      "source": [
        "int_64_tensor = torch.tensor([3, 6, 9], dtype=torch.long)\n",
        "int_64_tensor"
      ],
      "metadata": {
        "colab": {
          "base_uri": "https://localhost:8080/"
        },
        "id": "K7la_LVGsYqF",
        "outputId": "57497c0c-acd0-48c4-828a-e80400e8405d"
      },
      "execution_count": 39,
      "outputs": [
        {
          "output_type": "execute_result",
          "data": {
            "text/plain": [
              "tensor([3, 6, 9])"
            ]
          },
          "metadata": {},
          "execution_count": 39
        }
      ]
    },
    {
      "cell_type": "code",
      "source": [
        "int_64_tensor * int_32_tensor"
      ],
      "metadata": {
        "colab": {
          "base_uri": "https://localhost:8080/"
        },
        "id": "cq91Vi1zsYn8",
        "outputId": "3e3d0a62-c690-4756-ce23-fd8bf3c066bd"
      },
      "execution_count": 40,
      "outputs": [
        {
          "output_type": "execute_result",
          "data": {
            "text/plain": [
              "tensor([ 9, 36, 81])"
            ]
          },
          "metadata": {},
          "execution_count": 40
        }
      ]
    },
    {
      "cell_type": "code",
      "source": [
        "int_64 = torch.tensor([3, 6, 9], dtype=torch.int64)\n",
        "int_64"
      ],
      "metadata": {
        "colab": {
          "base_uri": "https://localhost:8080/"
        },
        "id": "kXblz8K4sYlx",
        "outputId": "762a2285-bad1-49b6-b5b0-d56e51c90e9a"
      },
      "execution_count": 41,
      "outputs": [
        {
          "output_type": "execute_result",
          "data": {
            "text/plain": [
              "tensor([3, 6, 9])"
            ]
          },
          "metadata": {},
          "execution_count": 41
        }
      ]
    },
    {
      "cell_type": "markdown",
      "source": [
        "### Get information  from tensors: How to (tensor attributes)\n",
        "\n",
        "1. Tensors not in right datatype - to get datatype from a tensor, can use `tensor.dtype`\n",
        "2. Tensors not in right shape - to get shape from a tensor, can use `tensor.shape`\n",
        "3. Tensors not on right device - to get device from a tensor, can use `tensor.device`"
      ],
      "metadata": {
        "id": "nExfG-e4sYjp"
      }
    },
    {
      "cell_type": "code",
      "source": [
        "# Tensor:\n",
        "some_tensor = torch.rand(3, 4)\n",
        "some_tensor"
      ],
      "metadata": {
        "colab": {
          "base_uri": "https://localhost:8080/"
        },
        "id": "vXLE8TrLsYh2",
        "outputId": "7c3f0a81-3827-4438-9452-326521592ece"
      },
      "execution_count": 42,
      "outputs": [
        {
          "output_type": "execute_result",
          "data": {
            "text/plain": [
              "tensor([[0.4358, 0.5996, 0.9305, 0.5024],\n",
              "        [0.0563, 0.3575, 0.8771, 0.6634],\n",
              "        [0.3467, 0.8983, 0.3427, 0.1484]])"
            ]
          },
          "metadata": {},
          "execution_count": 42
        }
      ]
    },
    {
      "cell_type": "code",
      "source": [
        "# Details on some_tensor\n",
        "print(some_tensor)\n",
        "print(f\"Datatype of tensor: {some_tensor.dtype}\")\n",
        "print(f\"Shape of tensor: {some_tensor.shape}\")\n",
        "print(f\"Device tensor is on: {some_tensor.device}\")"
      ],
      "metadata": {
        "colab": {
          "base_uri": "https://localhost:8080/"
        },
        "id": "E9zYao2esYf7",
        "outputId": "1636ae84-cfea-43ca-ab21-b13ec426f3ee"
      },
      "execution_count": 43,
      "outputs": [
        {
          "output_type": "stream",
          "name": "stdout",
          "text": [
            "tensor([[0.4358, 0.5996, 0.9305, 0.5024],\n",
            "        [0.0563, 0.3575, 0.8771, 0.6634],\n",
            "        [0.3467, 0.8983, 0.3427, 0.1484]])\n",
            "Datatype of tensor: torch.float32\n",
            "Shape of tensor: torch.Size([3, 4])\n",
            "Device tensor is on: cpu\n"
          ]
        }
      ]
    },
    {
      "cell_type": "markdown",
      "source": [
        "### Manipulating Tensors (Tensor Operations)\n",
        "\n",
        "Tensor operations include:\n",
        "* Addition\n",
        "* Subtraction\n",
        "* Multiplication (element-wise)\n",
        "* Division\n",
        "* Matrix multiplication"
      ],
      "metadata": {
        "id": "oFOwr7dfsYd6"
      }
    },
    {
      "cell_type": "code",
      "source": [
        "# Additions\n",
        "tensoradd = torch.tensor([1, 2, 3]) + 10\n",
        "tensoradd"
      ],
      "metadata": {
        "colab": {
          "base_uri": "https://localhost:8080/"
        },
        "id": "lwfdAhMHsYbn",
        "outputId": "97cf2852-0a72-44a1-a415-e52b9b9a0157"
      },
      "execution_count": 44,
      "outputs": [
        {
          "output_type": "execute_result",
          "data": {
            "text/plain": [
              "tensor([11, 12, 13])"
            ]
          },
          "metadata": {},
          "execution_count": 44
        }
      ]
    },
    {
      "cell_type": "code",
      "source": [
        "# Subtaction\n",
        "tensorsubract = torch.tensor([1, 2, 3]) - 10\n",
        "tensorsubract"
      ],
      "metadata": {
        "colab": {
          "base_uri": "https://localhost:8080/"
        },
        "id": "yp8xAAP-sYVO",
        "outputId": "9fc7fc44-a0d1-4c83-a975-0fbd8eee803b"
      },
      "execution_count": 45,
      "outputs": [
        {
          "output_type": "execute_result",
          "data": {
            "text/plain": [
              "tensor([-9, -8, -7])"
            ]
          },
          "metadata": {},
          "execution_count": 45
        }
      ]
    },
    {
      "cell_type": "code",
      "source": [
        "# Multiplication\n",
        "tensormultiply = torch.tensor([1, 2, 3]) * 10\n",
        "tensormultiply"
      ],
      "metadata": {
        "colab": {
          "base_uri": "https://localhost:8080/"
        },
        "id": "3CnVxM_7sYRS",
        "outputId": "1e40bbd1-8f4b-48c7-e35d-632fba6b1921"
      },
      "execution_count": 46,
      "outputs": [
        {
          "output_type": "execute_result",
          "data": {
            "text/plain": [
              "tensor([10, 20, 30])"
            ]
          },
          "metadata": {},
          "execution_count": 46
        }
      ]
    },
    {
      "cell_type": "code",
      "source": [
        "# Pytroch inbuilt functions\n",
        "tensormultiply = torch.mul(torch.tensor([1, 2, 3]), 10)\n",
        "tensormultiply"
      ],
      "metadata": {
        "colab": {
          "base_uri": "https://localhost:8080/"
        },
        "id": "jZ6pJhpAsYNP",
        "outputId": "66b6d129-1ee4-48e2-ec2d-406fdf32b3e4"
      },
      "execution_count": 47,
      "outputs": [
        {
          "output_type": "execute_result",
          "data": {
            "text/plain": [
              "tensor([10, 20, 30])"
            ]
          },
          "metadata": {},
          "execution_count": 47
        }
      ]
    },
    {
      "cell_type": "markdown",
      "source": [
        "from re import M\n",
        "### MATRIX MULTIPLICATION:\n",
        "\n",
        "Two main ways  to perform multiplication in neural networks and deep learning:\n",
        "1. Element-wise multiplication\n",
        "2. Matrix multiplication (dot product)\n",
        "\n",
        "More information on multiplying matrices - [multiplying matrices](https://www.mathsisfun.com/algebra/matrix-multiplying.html)\n",
        "\n",
        "Two main rules matrix multiplication must satisfy\n",
        "1. **Inner dimensions** must match:\n",
        "* `(3,2) @ (3,2)` wont work\n",
        "* `(2,3) @ (3,2)` will work\n",
        "* `(3,2) @ (2,3)` will work\n",
        "\n",
        "2. The resulting matrix has shape of **outer dimensions**\n",
        "* `(2, 3) @ (3, 2)` --> (2, 2)\n",
        "* `(3, 2) @ (2, 3)` --> (3, 3)\n"
      ],
      "metadata": {
        "id": "CKdNhDK3sYKa"
      }
    },
    {
      "cell_type": "code",
      "source": [
        "tensor = torch.tensor([1, 2, 3])\n",
        "tensor.shape"
      ],
      "metadata": {
        "colab": {
          "base_uri": "https://localhost:8080/"
        },
        "id": "r3-4tYFsx9Xc",
        "outputId": "deddf034-22ab-4811-d4c7-20fba550d484"
      },
      "execution_count": 48,
      "outputs": [
        {
          "output_type": "execute_result",
          "data": {
            "text/plain": [
              "torch.Size([3])"
            ]
          },
          "metadata": {},
          "execution_count": 48
        }
      ]
    },
    {
      "cell_type": "code",
      "source": [
        "# Element wise multiplication\n",
        "print(tensor, \"*\", tensor) #, \"=\", tensor * tensor)\n",
        "print(f\"Equals: {tensor * tensor}\")"
      ],
      "metadata": {
        "colab": {
          "base_uri": "https://localhost:8080/"
        },
        "id": "WqLb_liesYHU",
        "outputId": "c38f9077-6d2c-47dd-fad8-1d7bba060d80"
      },
      "execution_count": 49,
      "outputs": [
        {
          "output_type": "stream",
          "name": "stdout",
          "text": [
            "tensor([1, 2, 3]) * tensor([1, 2, 3])\n",
            "Equals: tensor([1, 4, 9])\n"
          ]
        }
      ]
    },
    {
      "cell_type": "code",
      "source": [
        "# Matrix Multiplication\n",
        "torch.matmul(tensor, tensor)"
      ],
      "metadata": {
        "colab": {
          "base_uri": "https://localhost:8080/"
        },
        "id": "ib0MQdfasYEd",
        "outputId": "f8d734f2-2460-4ac3-89d8-1eb7e9a00070"
      },
      "execution_count": 50,
      "outputs": [
        {
          "output_type": "execute_result",
          "data": {
            "text/plain": [
              "tensor(14)"
            ]
          },
          "metadata": {},
          "execution_count": 50
        }
      ]
    },
    {
      "cell_type": "code",
      "source": [
        "# Matrix multiplication by Hand\n",
        "1*1 + 2*2 + 3*3"
      ],
      "metadata": {
        "colab": {
          "base_uri": "https://localhost:8080/"
        },
        "id": "51vHvJtzsYBe",
        "outputId": "061c388c-a518-4808-e00f-a1eac2e3a1ec"
      },
      "execution_count": 51,
      "outputs": [
        {
          "output_type": "execute_result",
          "data": {
            "text/plain": [
              "14"
            ]
          },
          "metadata": {},
          "execution_count": 51
        }
      ]
    },
    {
      "cell_type": "code",
      "source": [
        "%%time\n",
        "value = 0\n",
        "for i in range(len(tensor)):\n",
        "  value += tensor[i] * tensor[i]\n",
        "print(value)"
      ],
      "metadata": {
        "colab": {
          "base_uri": "https://localhost:8080/"
        },
        "id": "KqJpwYkRsX9j",
        "outputId": "5323561b-7968-4937-b23f-7aadb7546677"
      },
      "execution_count": 52,
      "outputs": [
        {
          "output_type": "stream",
          "name": "stdout",
          "text": [
            "tensor(14)\n",
            "CPU times: user 974 µs, sys: 0 ns, total: 974 µs\n",
            "Wall time: 5.49 ms\n"
          ]
        }
      ]
    },
    {
      "cell_type": "code",
      "source": [
        "%%time\n",
        "torch.matmul(tensor, tensor)"
      ],
      "metadata": {
        "id": "shv39vMom5Gg",
        "colab": {
          "base_uri": "https://localhost:8080/"
        },
        "outputId": "2a7820b1-f95a-4139-ec3e-d32c2c28bbb0"
      },
      "execution_count": 53,
      "outputs": [
        {
          "output_type": "stream",
          "name": "stdout",
          "text": [
            "CPU times: user 83 µs, sys: 819 µs, total: 902 µs\n",
            "Wall time: 1.9 ms\n"
          ]
        },
        {
          "output_type": "execute_result",
          "data": {
            "text/plain": [
              "tensor(14)"
            ]
          },
          "metadata": {},
          "execution_count": 53
        }
      ]
    },
    {
      "cell_type": "code",
      "source": [
        "# Shapes for Matrix Multiplication\n",
        "tensor_A = torch.tensor([[1, 2],\n",
        "                         [3, 4],\n",
        "                         [5, 6]])\n",
        "\n",
        "tensor_B = torch.tensor([[7, 10],\n",
        "                         [8, 11],\n",
        "                         [9, 12]])\n",
        "\n",
        "#torch.mm(tensor_A, tensor_B) # torch.mm is the same as torch.matmul (it's an alias for writing less code)\n",
        "torch.matmul(tensor_A, tensor_B"
      ],
      "metadata": {
        "colab": {
          "base_uri": "https://localhost:8080/",
          "height": 183
        },
        "id": "iKZSz4pa0aZB",
        "outputId": "c2d80973-5c4f-4af0-e141-20109a040a18"
      },
      "execution_count": 54,
      "outputs": [
        {
          "output_type": "error",
          "ename": "RuntimeError",
          "evalue": "mat1 and mat2 shapes cannot be multiplied (3x2 and 3x2)",
          "traceback": [
            "\u001b[0;31m---------------------------------------------------------------------------\u001b[0m",
            "\u001b[0;31mRuntimeError\u001b[0m                              Traceback (most recent call last)",
            "\u001b[0;32m<ipython-input-54-ce0c8c4cf74b>\u001b[0m in \u001b[0;36m<cell line: 11>\u001b[0;34m()\u001b[0m\n\u001b[1;32m      9\u001b[0m \u001b[0;34m\u001b[0m\u001b[0m\n\u001b[1;32m     10\u001b[0m \u001b[0;31m#torch.mm(tensor_A, tensor_B) # torch.mm is the same as torch.matmul (it's an alias for writing less code)\u001b[0m\u001b[0;34m\u001b[0m\u001b[0;34m\u001b[0m\u001b[0m\n\u001b[0;32m---> 11\u001b[0;31m \u001b[0mtorch\u001b[0m\u001b[0;34m.\u001b[0m\u001b[0mmatmul\u001b[0m\u001b[0;34m(\u001b[0m\u001b[0mtensor_A\u001b[0m\u001b[0;34m,\u001b[0m \u001b[0mtensor_B\u001b[0m\u001b[0;34m)\u001b[0m\u001b[0;34m\u001b[0m\u001b[0;34m\u001b[0m\u001b[0m\n\u001b[0m",
            "\u001b[0;31mRuntimeError\u001b[0m: mat1 and mat2 shapes cannot be multiplied (3x2 and 3x2)"
          ]
        }
      ]
    },
    {
      "cell_type": "markdown",
      "source": [
        "To fix shape issues, we can manipulate the shape of one of our tensors using a **transpose**.\n",
        "A **transpose** switches the axes or dimensions of a given tensor.\n"
      ],
      "metadata": {
        "id": "-YdNEFTx0aWm"
      }
    },
    {
      "cell_type": "code",
      "source": [
        "tensor_B, tensor_B.shape"
      ],
      "metadata": {
        "colab": {
          "base_uri": "https://localhost:8080/"
        },
        "id": "ujbIaFKF0aUG",
        "outputId": "51feb957-ae4d-40d2-ba4e-da1e4545060b"
      },
      "execution_count": 55,
      "outputs": [
        {
          "output_type": "execute_result",
          "data": {
            "text/plain": [
              "(tensor([[ 7, 10],\n",
              "         [ 8, 11],\n",
              "         [ 9, 12]]),\n",
              " torch.Size([3, 2]))"
            ]
          },
          "metadata": {},
          "execution_count": 55
        }
      ]
    },
    {
      "cell_type": "code",
      "source": [
        "tensor_B.T, tensor_B.T.shape"
      ],
      "metadata": {
        "colab": {
          "base_uri": "https://localhost:8080/"
        },
        "id": "K_Px0mgJ0aQW",
        "outputId": "f28cdf9e-16ac-48e2-e840-58525343c75a"
      },
      "execution_count": 56,
      "outputs": [
        {
          "output_type": "execute_result",
          "data": {
            "text/plain": [
              "(tensor([[ 7,  8,  9],\n",
              "         [10, 11, 12]]),\n",
              " torch.Size([2, 3]))"
            ]
          },
          "metadata": {},
          "execution_count": 56
        }
      ]
    },
    {
      "cell_type": "code",
      "source": [
        "torch.matmul(tensor_A, tensor_B.T)"
      ],
      "metadata": {
        "colab": {
          "base_uri": "https://localhost:8080/"
        },
        "id": "LurqXBmv0aM_",
        "outputId": "d94ae822-5955-45ef-e86e-bb17ca6b3065"
      },
      "execution_count": 57,
      "outputs": [
        {
          "output_type": "execute_result",
          "data": {
            "text/plain": [
              "tensor([[ 27,  30,  33],\n",
              "        [ 61,  68,  75],\n",
              "        [ 95, 106, 117]])"
            ]
          },
          "metadata": {},
          "execution_count": 57
        }
      ]
    },
    {
      "cell_type": "code",
      "source": [],
      "metadata": {
        "id": "gdOexahh0Z8H"
      },
      "execution_count": null,
      "outputs": []
    },
    {
      "cell_type": "code",
      "source": [],
      "metadata": {
        "id": "59trLf0S0Z6B"
      },
      "execution_count": null,
      "outputs": []
    },
    {
      "cell_type": "code",
      "source": [],
      "metadata": {
        "id": "Z_Vk10S60Z3F"
      },
      "execution_count": null,
      "outputs": []
    },
    {
      "cell_type": "code",
      "source": [],
      "metadata": {
        "id": "qKaljTdX0Z0W"
      },
      "execution_count": null,
      "outputs": []
    },
    {
      "cell_type": "code",
      "source": [],
      "metadata": {
        "id": "tDxQRWaA0ZxK"
      },
      "execution_count": null,
      "outputs": []
    },
    {
      "cell_type": "code",
      "source": [],
      "metadata": {
        "id": "yMELouRq0ZoS"
      },
      "execution_count": null,
      "outputs": []
    },
    {
      "cell_type": "code",
      "source": [],
      "metadata": {
        "id": "MP0TflPMm5Jv"
      },
      "execution_count": null,
      "outputs": []
    },
    {
      "cell_type": "code",
      "source": [],
      "metadata": {
        "id": "yMX-vPDjm5M5"
      },
      "execution_count": null,
      "outputs": []
    },
    {
      "cell_type": "code",
      "source": [],
      "metadata": {
        "id": "VW_bSUURm5QM"
      },
      "execution_count": null,
      "outputs": []
    },
    {
      "cell_type": "markdown",
      "source": [],
      "metadata": {
        "id": "ED6xvfxJi4FW"
      }
    },
    {
      "cell_type": "code",
      "source": [
        "device = torch.device('cuda') if torch.cuda.is_available() else torch.device('cpu')\n",
        "\n",
        "x = torch.rand(5, 3).to(device)\n",
        "\n",
        "\n",
        "x = torch.rand(5, 3, device=device)\n"
      ],
      "metadata": {
        "id": "7801y4ECi5gK"
      },
      "execution_count": null,
      "outputs": []
    },
    {
      "cell_type": "markdown",
      "source": [
        "### Autograd:\n",
        "\n",
        "Package provide automatic differentiation for all operations on Tensors.\n",
        "Torch.autograd is an engine for computing the vector-jacobian product. It computes partial derivatives while applying the chain rule.\n",
        "\n",
        "`Set requires_grad = True:`"
      ],
      "metadata": {
        "id": "OncC3TarjYME"
      }
    },
    {
      "cell_type": "code",
      "source": [
        "import torch\n",
        "\n",
        "# requires_grad = True --> tracks all operations on the tensor.\n",
        "x = torch.randn(3, requires_grad=True)\n",
        "y = x + 2\n",
        "\n",
        "# y was created as a result of an operation, so it has a grad_fn attribute.\n",
        "# grad_fn: references a Function that has created the Tensor\n",
        "print(x) # created by the user --> grad_fn is None\n",
        "print(y)\n",
        "print(y.grad_fn)"
      ],
      "metadata": {
        "id": "ASl7JMkJj9vz"
      },
      "execution_count": null,
      "outputs": []
    },
    {
      "cell_type": "code",
      "source": [
        "# Do more operations on y\n",
        "z = y * y * 3\n",
        "print(z)\n",
        "z = z.mean()\n",
        "print(z)"
      ],
      "metadata": {
        "id": "WrCBFGzqknZS"
      },
      "execution_count": null,
      "outputs": []
    },
    {
      "cell_type": "code",
      "source": [
        "z.backward() # dz/dx\n",
        "print(x.grad)"
      ],
      "metadata": {
        "id": "V1qKykRNk8Ic"
      },
      "execution_count": null,
      "outputs": []
    },
    {
      "cell_type": "code",
      "source": [],
      "metadata": {
        "id": "EwlWRE7elEDV"
      },
      "execution_count": null,
      "outputs": []
    }
  ]
}