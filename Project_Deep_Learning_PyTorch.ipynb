{
  "cells": [
    {
      "cell_type": "markdown",
      "metadata": {
        "id": "view-in-github",
        "colab_type": "text"
      },
      "source": [
        "<a href=\"https://colab.research.google.com/github/EngrIBGIT/Projects_Deep_Learning_PyTorch/blob/main/Project_Deep_Learning_PyTorch.ipynb\" target=\"_parent\"><img src=\"https://colab.research.google.com/assets/colab-badge.svg\" alt=\"Open In Colab\"/></a>"
      ]
    },
    {
      "cell_type": "markdown",
      "metadata": {
        "id": "tDFUwUlSnAel"
      },
      "source": [
        "# Pytorch Fundamentals"
      ]
    },
    {
      "cell_type": "markdown",
      "metadata": {
        "id": "El6n33UpoRNR"
      },
      "source": [
        "## Resources\n",
        "`Notebook:` [Pytorch](https://www.learnpytorch.io/00_pytorch_fundamentals/)\n",
        "\n",
        "`Guided Learning:` [Udacity Deep Learning Pytorch](https://www.udacity.com/course/deep-learning-pytorch--ud188?irclickid=3u50vqRulxyPWoN36uVfJR3zUkFSahxmE2bO040&irgwc=1&utm_source=affiliate&utm_medium=&aff=259799&utm_term=&utm_campaign=_gtc_www_classcentral_com_&utm_content=&adid=788805)\n",
        "\n",
        "[Deep Learning: CS 182 Spring 2021](https://www.youtube.com/playlist?list=PL_iWQOsE6TfVmKkQHucjPAoRtIJYt8a5A)\n"
      ]
    },
    {
      "cell_type": "code",
      "execution_count": null,
      "metadata": {
        "id": "uUybhC9CoRT5"
      },
      "outputs": [],
      "source": []
    },
    {
      "cell_type": "code",
      "execution_count": null,
      "metadata": {
        "colab": {
          "base_uri": "https://localhost:8080/"
        },
        "id": "j999KdQ-iYYl",
        "outputId": "eb05d05d-0dc4-4dc1-8062-9a14b66251a3"
      },
      "outputs": [
        {
          "output_type": "stream",
          "name": "stdout",
          "text": [
            "Sat Oct 12 07:54:05 2024       \n",
            "+---------------------------------------------------------------------------------------+\n",
            "| NVIDIA-SMI 535.104.05             Driver Version: 535.104.05   CUDA Version: 12.2     |\n",
            "|-----------------------------------------+----------------------+----------------------+\n",
            "| GPU  Name                 Persistence-M | Bus-Id        Disp.A | Volatile Uncorr. ECC |\n",
            "| Fan  Temp   Perf          Pwr:Usage/Cap |         Memory-Usage | GPU-Util  Compute M. |\n",
            "|                                         |                      |               MIG M. |\n",
            "|=========================================+======================+======================|\n",
            "|   0  Tesla T4                       Off | 00000000:00:04.0 Off |                    0 |\n",
            "| N/A   58C    P8              10W /  70W |      0MiB / 15360MiB |      0%      Default |\n",
            "|                                         |                      |                  N/A |\n",
            "+-----------------------------------------+----------------------+----------------------+\n",
            "                                                                                         \n",
            "+---------------------------------------------------------------------------------------+\n",
            "| Processes:                                                                            |\n",
            "|  GPU   GI   CI        PID   Type   Process name                            GPU Memory |\n",
            "|        ID   ID                                                             Usage      |\n",
            "|=======================================================================================|\n",
            "|  No running processes found                                                           |\n",
            "+---------------------------------------------------------------------------------------+\n"
          ]
        }
      ],
      "source": [
        "!nvidia-smi"
      ]
    },
    {
      "cell_type": "code",
      "execution_count": null,
      "metadata": {
        "id": "28fB3ivroQk3"
      },
      "outputs": [],
      "source": [
        "import torch\n",
        "import pandas as pd\n",
        "import numpy as np\n",
        "import matplotlib.pyplot as plt\n",
        "import seaborn as sns\n",
        "\n",
        "%matplotlib inline\n",
        "\n",
        "import warnings\n",
        "warnings.filterwarnings('ignore')"
      ]
    },
    {
      "cell_type": "code",
      "execution_count": null,
      "metadata": {
        "colab": {
          "base_uri": "https://localhost:8080/"
        },
        "id": "Ch82C5vpq1Ho",
        "outputId": "7c98d72f-36f1-4c60-8a0b-3639a15f7bc8"
      },
      "outputs": [
        {
          "output_type": "stream",
          "name": "stdout",
          "text": [
            "2.4.1+cu121\n"
          ]
        }
      ],
      "source": [
        "print(torch.__version__)"
      ]
    },
    {
      "cell_type": "markdown",
      "metadata": {
        "id": "jG5ZAHQ3rSz5"
      },
      "source": [
        "## Introduction to Tensors: Tensors are the main building blocks of pytorch\n",
        "\n",
        "#### Creating Tensors; Pytorch tensors are created using `torch.Tensor()` = [Create Tensor](https://pytorch.org/docs/stable/tensors.html)"
      ]
    },
    {
      "cell_type": "code",
      "execution_count": null,
      "metadata": {
        "colab": {
          "base_uri": "https://localhost:8080/"
        },
        "id": "VTpo22bpm2-G",
        "outputId": "98714db5-c9e4-4988-c4a1-b3fa181f7416"
      },
      "outputs": [
        {
          "output_type": "execute_result",
          "data": {
            "text/plain": [
              "tensor(7)"
            ]
          },
          "metadata": {},
          "execution_count": 4
        }
      ],
      "source": [
        "# Scalar: A way to create tensor in pytorch, has no dimensions its a single number\n",
        "\n",
        "scalar = torch.tensor(7)\n",
        "scalar"
      ]
    },
    {
      "cell_type": "code",
      "execution_count": null,
      "metadata": {
        "colab": {
          "base_uri": "https://localhost:8080/"
        },
        "id": "bjZRyhdpm3FO",
        "outputId": "17adeae5-95d2-416c-fac4-4a253831d451"
      },
      "outputs": [
        {
          "output_type": "execute_result",
          "data": {
            "text/plain": [
              "0"
            ]
          },
          "metadata": {},
          "execution_count": 5
        }
      ],
      "source": [
        "scalar.ndim"
      ]
    },
    {
      "cell_type": "code",
      "execution_count": null,
      "metadata": {
        "colab": {
          "base_uri": "https://localhost:8080/"
        },
        "id": "B5A2wd4qm3Hq",
        "outputId": "279760d8-3ba8-4b6a-bbd9-fa6937d302de"
      },
      "outputs": [
        {
          "output_type": "execute_result",
          "data": {
            "text/plain": [
              "7"
            ]
          },
          "metadata": {},
          "execution_count": 6
        }
      ],
      "source": [
        "# Get tensor as python int\n",
        "scalar.item()"
      ]
    },
    {
      "cell_type": "code",
      "execution_count": null,
      "metadata": {
        "colab": {
          "base_uri": "https://localhost:8080/"
        },
        "id": "oDSgvKNcm3Js",
        "outputId": "c24a8481-892a-4c0e-ddb7-c42e29e7bf0a"
      },
      "outputs": [
        {
          "output_type": "execute_result",
          "data": {
            "text/plain": [
              "tensor([7, 7])"
            ]
          },
          "metadata": {},
          "execution_count": 7
        }
      ],
      "source": [
        "# vector; Typically has more than one dimention\n",
        "\n",
        "vector = torch.tensor([7, 7])\n",
        "vector"
      ]
    },
    {
      "cell_type": "code",
      "execution_count": null,
      "metadata": {
        "colab": {
          "base_uri": "https://localhost:8080/"
        },
        "id": "_atm7koMm3Mp",
        "outputId": "dcc73718-b49e-4b9d-f893-bf5c25119713"
      },
      "outputs": [
        {
          "output_type": "execute_result",
          "data": {
            "text/plain": [
              "1"
            ]
          },
          "metadata": {},
          "execution_count": 8
        }
      ],
      "source": [
        "vector.ndim"
      ]
    },
    {
      "cell_type": "code",
      "execution_count": null,
      "metadata": {
        "colab": {
          "base_uri": "https://localhost:8080/"
        },
        "id": "OJJLH7J8m3PG",
        "outputId": "b592a024-3790-4572-e1a8-05d16a797f0d"
      },
      "outputs": [
        {
          "output_type": "execute_result",
          "data": {
            "text/plain": [
              "torch.Size([2])"
            ]
          },
          "metadata": {},
          "execution_count": 9
        }
      ],
      "source": [
        "vector.shape"
      ]
    },
    {
      "cell_type": "code",
      "execution_count": null,
      "metadata": {
        "colab": {
          "base_uri": "https://localhost:8080/"
        },
        "id": "rPY7v-Yum3Ub",
        "outputId": "224d0078-db7f-4d7d-9eff-a044052bc6a3"
      },
      "outputs": [
        {
          "output_type": "execute_result",
          "data": {
            "text/plain": [
              "tensor([[ 7,  8],\n",
              "        [ 9, 10]])"
            ]
          },
          "metadata": {},
          "execution_count": 10
        }
      ],
      "source": [
        "# MATRIX:\n",
        "MATRIX = torch.tensor([[7, 8],\n",
        "                       [9, 10]])\n",
        "MATRIX"
      ]
    },
    {
      "cell_type": "code",
      "execution_count": null,
      "metadata": {
        "colab": {
          "base_uri": "https://localhost:8080/"
        },
        "id": "I2srw-cem3WG",
        "outputId": "3429f9aa-4924-478b-c7c4-ac8f19bf6539"
      },
      "outputs": [
        {
          "output_type": "execute_result",
          "data": {
            "text/plain": [
              "2"
            ]
          },
          "metadata": {},
          "execution_count": 11
        }
      ],
      "source": [
        "MATRIX.ndim"
      ]
    },
    {
      "cell_type": "code",
      "execution_count": null,
      "metadata": {
        "colab": {
          "base_uri": "https://localhost:8080/"
        },
        "id": "aECE9VJCm3Xn",
        "outputId": "8a70fb32-eeb0-4a50-fd45-a9a715aa6dab"
      },
      "outputs": [
        {
          "output_type": "execute_result",
          "data": {
            "text/plain": [
              "torch.Size([2, 2])"
            ]
          },
          "metadata": {},
          "execution_count": 12
        }
      ],
      "source": [
        "MATRIX.shape"
      ]
    },
    {
      "cell_type": "code",
      "execution_count": null,
      "metadata": {
        "colab": {
          "base_uri": "https://localhost:8080/"
        },
        "id": "eY1IgIshm3ZU",
        "outputId": "49d91f15-98c0-4213-db61-60a7e4aa2a5b"
      },
      "outputs": [
        {
          "output_type": "execute_result",
          "data": {
            "text/plain": [
              "tensor([ 9, 10])"
            ]
          },
          "metadata": {},
          "execution_count": 13
        }
      ],
      "source": [
        "MATRIX[1]"
      ]
    },
    {
      "cell_type": "code",
      "execution_count": null,
      "metadata": {
        "colab": {
          "base_uri": "https://localhost:8080/"
        },
        "id": "tH7YozRfm3cM",
        "outputId": "a9e593d6-a375-4245-c85c-e59311cb1cad"
      },
      "outputs": [
        {
          "output_type": "execute_result",
          "data": {
            "text/plain": [
              "tensor([[[1, 2, 3],\n",
              "         [3, 6, 9],\n",
              "         [2, 4, 5]]])"
            ]
          },
          "metadata": {},
          "execution_count": 14
        }
      ],
      "source": [
        "# TENSOR\n",
        "TENSOR = torch.tensor([[[1, 2, 3],\n",
        "                        [3, 6, 9],\n",
        "                        [2, 4, 5]]])\n",
        "TENSOR"
      ]
    },
    {
      "cell_type": "code",
      "execution_count": null,
      "metadata": {
        "colab": {
          "base_uri": "https://localhost:8080/"
        },
        "id": "2WEZutSTm3eF",
        "outputId": "4fafd077-f147-4a46-edb1-74109348af96"
      },
      "outputs": [
        {
          "output_type": "execute_result",
          "data": {
            "text/plain": [
              "3"
            ]
          },
          "metadata": {},
          "execution_count": 15
        }
      ],
      "source": [
        "TENSOR.ndim"
      ]
    },
    {
      "cell_type": "code",
      "execution_count": null,
      "metadata": {
        "colab": {
          "base_uri": "https://localhost:8080/"
        },
        "id": "n0u9CJUUm3hP",
        "outputId": "61b48097-53b2-4cb1-8078-21bbc4ca989c"
      },
      "outputs": [
        {
          "output_type": "execute_result",
          "data": {
            "text/plain": [
              "torch.Size([1, 3, 3])"
            ]
          },
          "metadata": {},
          "execution_count": 16
        }
      ],
      "source": [
        "TENSOR.shape"
      ]
    },
    {
      "cell_type": "code",
      "execution_count": null,
      "metadata": {
        "colab": {
          "base_uri": "https://localhost:8080/"
        },
        "id": "KjYADIXZm3jo",
        "outputId": "fe639217-773e-4c55-d2a2-645080e4de25"
      },
      "outputs": [
        {
          "output_type": "execute_result",
          "data": {
            "text/plain": [
              "tensor([[1, 2, 3],\n",
              "        [3, 6, 9],\n",
              "        [2, 4, 5]])"
            ]
          },
          "metadata": {},
          "execution_count": 17
        }
      ],
      "source": [
        "TENSOR[0]"
      ]
    },
    {
      "cell_type": "markdown",
      "metadata": {
        "id": "YjWZP3wsm3m9"
      },
      "source": [
        "__Random Tensors:__\n",
        "\n",
        "*Why random tensors?*\n",
        "\n",
        "`Random tensors are important because many neural networks learn by starting with tensor full of numbers and then adjust those random numbers to better represent data`\n",
        "\n",
        "Start with random numbers --> Look at data --> update random numbers --> Look at data --> update random numbers -->\n",
        "\n",
        "[Torch random tensors](https://pytorch.org/docs/stable/generated/torch.rand.html)"
      ]
    },
    {
      "cell_type": "code",
      "execution_count": null,
      "metadata": {
        "colab": {
          "base_uri": "https://localhost:8080/"
        },
        "id": "baUHNwcUm3p2",
        "outputId": "5a508317-4e05-4973-e0b4-354a3a332194"
      },
      "outputs": [
        {
          "output_type": "execute_result",
          "data": {
            "text/plain": [
              "tensor([[0.9947, 0.3848, 0.2065, 0.3011],\n",
              "        [0.5255, 0.5765, 0.2627, 0.1060],\n",
              "        [0.6364, 0.1906, 0.4166, 0.1845]])"
            ]
          },
          "metadata": {},
          "execution_count": 18
        }
      ],
      "source": [
        "# Create a random tensor of size (3, 4)\n",
        "random_tensor = torch.rand(3, 4)\n",
        "random_tensor"
      ]
    },
    {
      "cell_type": "code",
      "execution_count": null,
      "metadata": {
        "colab": {
          "base_uri": "https://localhost:8080/"
        },
        "id": "__eu9SAkm3_c",
        "outputId": "74ebf936-f981-4798-ba47-beaded760651"
      },
      "outputs": [
        {
          "output_type": "execute_result",
          "data": {
            "text/plain": [
              "2"
            ]
          },
          "metadata": {},
          "execution_count": 19
        }
      ],
      "source": [
        "random_tensor.ndim"
      ]
    },
    {
      "cell_type": "code",
      "execution_count": null,
      "metadata": {
        "colab": {
          "base_uri": "https://localhost:8080/"
        },
        "id": "gys27bJtm4H2",
        "outputId": "91ea39f4-47c8-42d3-8c8c-86eafbc8dc0f"
      },
      "outputs": [
        {
          "output_type": "execute_result",
          "data": {
            "text/plain": [
              "tensor([[[0.9615, 0.8908, 0.9544, 0.7554, 0.1772, 0.9541],\n",
              "         [0.2976, 0.2715, 0.8954, 0.8376, 0.5362, 0.8415],\n",
              "         [0.6665, 0.6517, 0.4787, 0.5595, 0.1230, 0.6370],\n",
              "         [0.1287, 0.2177, 0.1395, 0.9264, 0.5076, 0.3771],\n",
              "         [0.8540, 0.4544, 0.8534, 0.3615, 0.9075, 0.4053]],\n",
              "\n",
              "        [[0.7199, 0.8272, 0.4521, 0.5846, 0.0464, 0.9737],\n",
              "         [0.6726, 0.7872, 0.9174, 0.5042, 0.5266, 0.5211],\n",
              "         [0.1532, 0.5253, 0.3544, 0.2512, 0.6396, 0.9384],\n",
              "         [0.3145, 0.5093, 0.0471, 0.3517, 0.1611, 0.9349],\n",
              "         [0.0481, 0.2630, 0.8760, 0.1037, 0.6453, 0.1794]]])"
            ]
          },
          "metadata": {},
          "execution_count": 20
        }
      ],
      "source": [
        "random_tensor2 = torch.rand(2, 5, 6)\n",
        "random_tensor2"
      ]
    },
    {
      "cell_type": "code",
      "execution_count": null,
      "metadata": {
        "colab": {
          "base_uri": "https://localhost:8080/"
        },
        "id": "mKUhUG2Wm4LD",
        "outputId": "3dcdd9fa-99d7-406a-a349-7de3351bedab"
      },
      "outputs": [
        {
          "output_type": "execute_result",
          "data": {
            "text/plain": [
              "3"
            ]
          },
          "metadata": {},
          "execution_count": 21
        }
      ],
      "source": [
        "random_tensor2.ndim"
      ]
    },
    {
      "cell_type": "code",
      "execution_count": null,
      "metadata": {
        "colab": {
          "base_uri": "https://localhost:8080/"
        },
        "id": "0kc-WymMm4OH",
        "outputId": "a5adbc57-db6f-44a3-fb25-9a214d35d7d3"
      },
      "outputs": [
        {
          "output_type": "execute_result",
          "data": {
            "text/plain": [
              "(torch.Size([224, 224, 3]), 3)"
            ]
          },
          "metadata": {},
          "execution_count": 22
        }
      ],
      "source": [
        "# Create random tensor with similar shape to an image tensor\n",
        "\n",
        "random_image_size_tensor = torch.rand(size=(224, 224, 3)) # height, width, color channels (R, G, B)\n",
        "random_image_size_tensor.shape, random_image_size_tensor.ndim"
      ]
    },
    {
      "cell_type": "code",
      "execution_count": null,
      "metadata": {
        "colab": {
          "base_uri": "https://localhost:8080/"
        },
        "id": "bw19Az-9m4TX",
        "outputId": "65520ce3-ad53-4cd7-ab5f-567e48d406c8"
      },
      "outputs": [
        {
          "output_type": "execute_result",
          "data": {
            "text/plain": [
              "tensor([[0.4235, 0.9228, 0.5295],\n",
              "        [0.2574, 0.4272, 0.1430],\n",
              "        [0.2278, 0.7029, 0.0797]])"
            ]
          },
          "metadata": {},
          "execution_count": 23
        }
      ],
      "source": [
        "torch.rand(size=(3, 3))"
      ]
    },
    {
      "cell_type": "markdown",
      "metadata": {
        "id": "Ur3xLGcYm4WJ"
      },
      "source": [
        "### Zeros and ones"
      ]
    },
    {
      "cell_type": "code",
      "execution_count": null,
      "metadata": {
        "colab": {
          "base_uri": "https://localhost:8080/"
        },
        "id": "wqrC3cHcm4Yx",
        "outputId": "0c9bba05-2b1d-4ed0-9211-5a6c816948e6"
      },
      "outputs": [
        {
          "output_type": "execute_result",
          "data": {
            "text/plain": [
              "tensor([[0., 0., 0., 0.],\n",
              "        [0., 0., 0., 0.],\n",
              "        [0., 0., 0., 0.]])"
            ]
          },
          "metadata": {},
          "execution_count": 24
        }
      ],
      "source": [
        "# Tensors of all zeros\n",
        "zeros = torch.zeros(size=(3, 4))\n",
        "zeros"
      ]
    },
    {
      "cell_type": "code",
      "execution_count": null,
      "metadata": {
        "colab": {
          "base_uri": "https://localhost:8080/"
        },
        "id": "dHbPCpKUm4er",
        "outputId": "5d9b1a5e-d085-4e60-ccdb-e365efef979f"
      },
      "outputs": [
        {
          "output_type": "execute_result",
          "data": {
            "text/plain": [
              "tensor([[1., 1., 1., 1.],\n",
              "        [1., 1., 1., 1.],\n",
              "        [1., 1., 1., 1.]])"
            ]
          },
          "metadata": {},
          "execution_count": 25
        }
      ],
      "source": [
        "# Tensors of all ones\n",
        "ones = torch.ones(size=(3, 4))\n",
        "ones"
      ]
    },
    {
      "cell_type": "code",
      "execution_count": null,
      "metadata": {
        "colab": {
          "base_uri": "https://localhost:8080/"
        },
        "id": "ICS0pEeUm4hh",
        "outputId": "cf54d58f-1c01-4b41-f946-65194b01d8e9"
      },
      "outputs": [
        {
          "output_type": "execute_result",
          "data": {
            "text/plain": [
              "torch.float32"
            ]
          },
          "metadata": {},
          "execution_count": 26
        }
      ],
      "source": [
        "ones.dtype"
      ]
    },
    {
      "cell_type": "markdown",
      "metadata": {
        "id": "kK23j9Vdm4nA"
      },
      "source": [
        "### Range of tensors"
      ]
    },
    {
      "cell_type": "code",
      "execution_count": null,
      "metadata": {
        "id": "CuMmNu6Xm4pp"
      },
      "outputs": [],
      "source": [
        "# Torch.range"
      ]
    },
    {
      "cell_type": "code",
      "execution_count": null,
      "metadata": {
        "colab": {
          "base_uri": "https://localhost:8080/"
        },
        "id": "TyCkPfG_m4s5",
        "outputId": "354f7b63-ace0-46f8-ed64-08d3bdf71943"
      },
      "outputs": [
        {
          "output_type": "execute_result",
          "data": {
            "text/plain": [
              "tensor([ 0.,  1.,  2.,  3.,  4.,  5.,  6.,  7.,  8.,  9., 10.])"
            ]
          },
          "metadata": {},
          "execution_count": 28
        }
      ],
      "source": [
        "torch.range(0, 10)"
      ]
    },
    {
      "cell_type": "code",
      "execution_count": null,
      "metadata": {
        "colab": {
          "base_uri": "https://localhost:8080/"
        },
        "id": "T7rQLsfhm4v-",
        "outputId": "419badaa-5905-4920-b686-feb05c3bc379"
      },
      "outputs": [
        {
          "output_type": "execute_result",
          "data": {
            "text/plain": [
              "tensor([ 1,  2,  3,  4,  5,  6,  7,  8,  9, 10])"
            ]
          },
          "metadata": {},
          "execution_count": 29
        }
      ],
      "source": [
        "torch.arange(1, 11)"
      ]
    },
    {
      "cell_type": "code",
      "execution_count": null,
      "metadata": {
        "colab": {
          "base_uri": "https://localhost:8080/"
        },
        "id": "K9GGXop_m4y8",
        "outputId": "4944d5e7-7370-47d5-9915-0fa162609749"
      },
      "outputs": [
        {
          "output_type": "execute_result",
          "data": {
            "text/plain": [
              "tensor([ 1,  2,  3,  4,  5,  6,  7,  8,  9, 10])"
            ]
          },
          "metadata": {},
          "execution_count": 30
        }
      ],
      "source": [
        "one = torch.arange(start=1, end=11, step=1)\n",
        "one"
      ]
    },
    {
      "cell_type": "code",
      "execution_count": null,
      "metadata": {
        "colab": {
          "base_uri": "https://localhost:8080/"
        },
        "id": "1bMTLSMmm41l",
        "outputId": "3c735533-943f-4460-f15a-0b4737bf29d9"
      },
      "outputs": [
        {
          "output_type": "execute_result",
          "data": {
            "text/plain": [
              "tensor([  0,  77, 154, 231, 308, 385, 462, 539, 616, 693, 770, 847, 924])"
            ]
          },
          "metadata": {},
          "execution_count": 31
        }
      ],
      "source": [
        "thousand = torch.arange(start=0, end=1000, step=77)\n",
        "thousand"
      ]
    },
    {
      "cell_type": "code",
      "execution_count": null,
      "metadata": {
        "colab": {
          "base_uri": "https://localhost:8080/"
        },
        "id": "PJKI8rn0m44l",
        "outputId": "2a69fbfc-ea34-435d-9f75-b51ea4a3a1d7"
      },
      "outputs": [
        {
          "output_type": "execute_result",
          "data": {
            "text/plain": [
              "tensor([0, 0, 0, 0, 0, 0, 0, 0, 0, 0])"
            ]
          },
          "metadata": {},
          "execution_count": 32
        }
      ],
      "source": [
        "# Tensors like\n",
        "\n",
        "ten_zeros = torch.zeros_like(input=one)\n",
        "ten_zeros"
      ]
    },
    {
      "cell_type": "markdown",
      "metadata": {
        "id": "gbsdVh3gm47C"
      },
      "source": [
        "### Tensor datatypes\n",
        "\n",
        "**Note:** Tensor datatypes among one of the 3 big errors to come across with Pytorch deep learning:\n",
        " 1. Tensors not in right datatype\n",
        " 2. Tensors not in right shape\n",
        " 3. Tensors not on right device\n",
        "\n",
        " [Precision in computing](https://en.wikipedia.org/wiki/Precision_(computer_science))"
      ]
    },
    {
      "cell_type": "code",
      "execution_count": null,
      "metadata": {
        "colab": {
          "base_uri": "https://localhost:8080/"
        },
        "id": "TOmuE0Kbm4-G",
        "outputId": "e2105585-207a-44af-a570-514870952cad"
      },
      "outputs": [
        {
          "output_type": "execute_result",
          "data": {
            "text/plain": [
              "tensor([3., 6., 9.])"
            ]
          },
          "metadata": {},
          "execution_count": 33
        }
      ],
      "source": [
        "# FLoat 32 tensor\n",
        "float_32_tensor = torch.tensor([3.0, 6.0, 9.0],\n",
        "                               dtype=None, # what datatype is the tensor (e.g. float32 or float16)\n",
        "                               device = None, # What device is tensor on ?e.g cpu, cuda\n",
        "                               requires_grad=False) # whether or not to track gradients with this tensors operations\n",
        "float_32_tensor\n",
        "float_32_tensor"
      ]
    },
    {
      "cell_type": "code",
      "execution_count": null,
      "metadata": {
        "colab": {
          "base_uri": "https://localhost:8080/"
        },
        "id": "FcD0AGdhm5Ah",
        "outputId": "a8c7f23c-20a9-4680-9dc5-ba447ece4d2d"
      },
      "outputs": [
        {
          "output_type": "execute_result",
          "data": {
            "text/plain": [
              "torch.float32"
            ]
          },
          "metadata": {},
          "execution_count": 34
        }
      ],
      "source": [
        "float_32_tensor.dtype"
      ]
    },
    {
      "cell_type": "code",
      "execution_count": null,
      "metadata": {
        "colab": {
          "base_uri": "https://localhost:8080/"
        },
        "id": "zaAtKJWFm5Du",
        "outputId": "a6980522-e8fc-4c5e-e2f5-6ae4e3a3bddc"
      },
      "outputs": [
        {
          "output_type": "execute_result",
          "data": {
            "text/plain": [
              "tensor([3., 6., 9.], dtype=torch.float16)"
            ]
          },
          "metadata": {},
          "execution_count": 35
        }
      ],
      "source": [
        "float_16_tensor = float_32_tensor.type(torch.float16)\n",
        "float_16_tensor"
      ]
    },
    {
      "cell_type": "code",
      "execution_count": null,
      "metadata": {
        "colab": {
          "base_uri": "https://localhost:8080/"
        },
        "id": "GsTDxQS0sYzS",
        "outputId": "7ea8cfb8-e5dd-4eb5-bf6d-2a5140e23a82"
      },
      "outputs": [
        {
          "output_type": "execute_result",
          "data": {
            "text/plain": [
              "tensor([ 9., 36., 81.])"
            ]
          },
          "metadata": {},
          "execution_count": 36
        }
      ],
      "source": [
        "float_16_tensor * float_32_tensor"
      ]
    },
    {
      "cell_type": "code",
      "execution_count": null,
      "metadata": {
        "colab": {
          "base_uri": "https://localhost:8080/"
        },
        "id": "aHOljbG_sYvq",
        "outputId": "b183cda3-cb61-4664-8689-1b42d1e01939"
      },
      "outputs": [
        {
          "output_type": "execute_result",
          "data": {
            "text/plain": [
              "tensor([3, 6, 9], dtype=torch.int32)"
            ]
          },
          "metadata": {},
          "execution_count": 37
        }
      ],
      "source": [
        "int_32_tensor = torch.tensor([3, 6, 9], dtype=torch.int32)\n",
        "int_32_tensor"
      ]
    },
    {
      "cell_type": "code",
      "execution_count": null,
      "metadata": {
        "colab": {
          "base_uri": "https://localhost:8080/"
        },
        "id": "JioEG64asYtN",
        "outputId": "2cc91c2c-40c2-426e-886a-abb35707a725"
      },
      "outputs": [
        {
          "output_type": "execute_result",
          "data": {
            "text/plain": [
              "tensor([ 9., 36., 81.])"
            ]
          },
          "metadata": {},
          "execution_count": 38
        }
      ],
      "source": [
        "float_32_tensor * int_32_tensor"
      ]
    },
    {
      "cell_type": "code",
      "execution_count": null,
      "metadata": {
        "colab": {
          "base_uri": "https://localhost:8080/"
        },
        "id": "K7la_LVGsYqF",
        "outputId": "06a8abfa-b728-4dfe-d85e-7f0f3bf59c85"
      },
      "outputs": [
        {
          "output_type": "execute_result",
          "data": {
            "text/plain": [
              "tensor([3, 6, 9])"
            ]
          },
          "metadata": {},
          "execution_count": 39
        }
      ],
      "source": [
        "int_64_tensor = torch.tensor([3, 6, 9], dtype=torch.long)\n",
        "int_64_tensor"
      ]
    },
    {
      "cell_type": "code",
      "execution_count": null,
      "metadata": {
        "colab": {
          "base_uri": "https://localhost:8080/"
        },
        "id": "cq91Vi1zsYn8",
        "outputId": "77bc68fd-68b8-47f2-8146-ad56c7a4a610"
      },
      "outputs": [
        {
          "output_type": "execute_result",
          "data": {
            "text/plain": [
              "tensor([ 9, 36, 81])"
            ]
          },
          "metadata": {},
          "execution_count": 40
        }
      ],
      "source": [
        "int_64_tensor * int_32_tensor"
      ]
    },
    {
      "cell_type": "code",
      "execution_count": null,
      "metadata": {
        "colab": {
          "base_uri": "https://localhost:8080/"
        },
        "id": "kXblz8K4sYlx",
        "outputId": "a87fa949-28f1-4a13-e917-55346f71e1dd"
      },
      "outputs": [
        {
          "output_type": "execute_result",
          "data": {
            "text/plain": [
              "tensor([3, 6, 9])"
            ]
          },
          "metadata": {},
          "execution_count": 41
        }
      ],
      "source": [
        "int_64 = torch.tensor([3, 6, 9], dtype=torch.int64)\n",
        "int_64"
      ]
    },
    {
      "cell_type": "markdown",
      "metadata": {
        "id": "nExfG-e4sYjp"
      },
      "source": [
        "### Get information  from tensors: How to (tensor attributes)\n",
        "\n",
        "1. Tensors not in right datatype - to get datatype from a tensor, can use `tensor.dtype`\n",
        "2. Tensors not in right shape - to get shape from a tensor, can use `tensor.shape`\n",
        "3. Tensors not on right device - to get device from a tensor, can use `tensor.device`"
      ]
    },
    {
      "cell_type": "code",
      "execution_count": null,
      "metadata": {
        "colab": {
          "base_uri": "https://localhost:8080/"
        },
        "id": "vXLE8TrLsYh2",
        "outputId": "cd4890ac-3482-45db-a90a-4432531742c2"
      },
      "outputs": [
        {
          "output_type": "execute_result",
          "data": {
            "text/plain": [
              "tensor([[0.4331, 0.1416, 0.9337, 0.6145],\n",
              "        [0.8676, 0.9477, 0.7489, 0.4118],\n",
              "        [0.4333, 0.5643, 0.0648, 0.9509]])"
            ]
          },
          "metadata": {},
          "execution_count": 42
        }
      ],
      "source": [
        "# Tensor:\n",
        "some_tensor = torch.rand(3, 4)\n",
        "some_tensor"
      ]
    },
    {
      "cell_type": "code",
      "execution_count": null,
      "metadata": {
        "colab": {
          "base_uri": "https://localhost:8080/"
        },
        "id": "E9zYao2esYf7",
        "outputId": "030c4910-f445-4bce-929e-6589ec2fe513"
      },
      "outputs": [
        {
          "output_type": "stream",
          "name": "stdout",
          "text": [
            "tensor([[0.4331, 0.1416, 0.9337, 0.6145],\n",
            "        [0.8676, 0.9477, 0.7489, 0.4118],\n",
            "        [0.4333, 0.5643, 0.0648, 0.9509]])\n",
            "Datatype of tensor: torch.float32\n",
            "Shape of tensor: torch.Size([3, 4])\n",
            "Device tensor is on: cpu\n"
          ]
        }
      ],
      "source": [
        "# Details on some_tensor\n",
        "print(some_tensor)\n",
        "print(f\"Datatype of tensor: {some_tensor.dtype}\")\n",
        "print(f\"Shape of tensor: {some_tensor.shape}\")\n",
        "print(f\"Device tensor is on: {some_tensor.device}\")"
      ]
    },
    {
      "cell_type": "markdown",
      "metadata": {
        "id": "oFOwr7dfsYd6"
      },
      "source": [
        "### Manipulating Tensors (Tensor Operations)\n",
        "\n",
        "Tensor operations include:\n",
        "* Addition\n",
        "* Subtraction\n",
        "* Multiplication (element-wise)\n",
        "* Division\n",
        "* Matrix multiplication"
      ]
    },
    {
      "cell_type": "code",
      "execution_count": null,
      "metadata": {
        "colab": {
          "base_uri": "https://localhost:8080/"
        },
        "id": "lwfdAhMHsYbn",
        "outputId": "1f5f64d2-b991-44f8-93bd-0644529a098b"
      },
      "outputs": [
        {
          "output_type": "execute_result",
          "data": {
            "text/plain": [
              "tensor([11, 12, 13])"
            ]
          },
          "metadata": {},
          "execution_count": 44
        }
      ],
      "source": [
        "# Additions\n",
        "tensoradd = torch.tensor([1, 2, 3]) + 10\n",
        "tensoradd"
      ]
    },
    {
      "cell_type": "code",
      "execution_count": null,
      "metadata": {
        "colab": {
          "base_uri": "https://localhost:8080/"
        },
        "id": "yp8xAAP-sYVO",
        "outputId": "03b8468a-3e01-4c59-ec7b-27ea7f7fc268"
      },
      "outputs": [
        {
          "output_type": "execute_result",
          "data": {
            "text/plain": [
              "tensor([-9, -8, -7])"
            ]
          },
          "metadata": {},
          "execution_count": 45
        }
      ],
      "source": [
        "# Subtaction\n",
        "tensorsubract = torch.tensor([1, 2, 3]) - 10\n",
        "tensorsubract"
      ]
    },
    {
      "cell_type": "code",
      "execution_count": null,
      "metadata": {
        "colab": {
          "base_uri": "https://localhost:8080/"
        },
        "id": "3CnVxM_7sYRS",
        "outputId": "24d75b03-b04a-4fc4-fac7-bf9170ebcf53"
      },
      "outputs": [
        {
          "output_type": "execute_result",
          "data": {
            "text/plain": [
              "tensor([10, 20, 30])"
            ]
          },
          "metadata": {},
          "execution_count": 46
        }
      ],
      "source": [
        "# Multiplication\n",
        "tensormultiply = torch.tensor([1, 2, 3]) * 10\n",
        "tensormultiply"
      ]
    },
    {
      "cell_type": "code",
      "execution_count": null,
      "metadata": {
        "colab": {
          "base_uri": "https://localhost:8080/"
        },
        "id": "jZ6pJhpAsYNP",
        "outputId": "10d239bc-a1de-480b-e6f0-a49233f5ae19"
      },
      "outputs": [
        {
          "output_type": "execute_result",
          "data": {
            "text/plain": [
              "tensor([10, 20, 30])"
            ]
          },
          "metadata": {},
          "execution_count": 47
        }
      ],
      "source": [
        "# Pytroch inbuilt functions\n",
        "tensormultiply = torch.mul(torch.tensor([1, 2, 3]), 10)\n",
        "tensormultiply"
      ]
    },
    {
      "cell_type": "markdown",
      "metadata": {
        "id": "CKdNhDK3sYKa"
      },
      "source": [
        "from re import M\n",
        "### MATRIX MULTIPLICATION:\n",
        "\n",
        "Two main ways  to perform multiplication in neural networks and deep learning:\n",
        "1. Element-wise multiplication\n",
        "2. Matrix multiplication (dot product)\n",
        "\n",
        "More information on multiplying matrices - [multiplying matrices](https://www.mathsisfun.com/algebra/matrix-multiplying.html)\n",
        "\n",
        "Two main rules matrix multiplication must satisfy\n",
        "1. **Inner dimensions** must match:\n",
        "* `(3,2) @ (3,2)` wont work\n",
        "* `(2,3) @ (3,2)` will work\n",
        "* `(3,2) @ (2,3)` will work\n",
        "\n",
        "2. The resulting matrix has shape of **outer dimensions**\n",
        "* `(2, 3) @ (3, 2)` --> (2, 2)\n",
        "* `(3, 2) @ (2, 3)` --> (3, 3)\n"
      ]
    },
    {
      "cell_type": "code",
      "execution_count": null,
      "metadata": {
        "colab": {
          "base_uri": "https://localhost:8080/"
        },
        "id": "r3-4tYFsx9Xc",
        "outputId": "864073dd-22ad-49d7-d05f-40e3d8ce7913"
      },
      "outputs": [
        {
          "output_type": "execute_result",
          "data": {
            "text/plain": [
              "torch.Size([3])"
            ]
          },
          "metadata": {},
          "execution_count": 48
        }
      ],
      "source": [
        "tensor = torch.tensor([1, 2, 3])\n",
        "tensor.shape"
      ]
    },
    {
      "cell_type": "code",
      "execution_count": null,
      "metadata": {
        "colab": {
          "base_uri": "https://localhost:8080/"
        },
        "id": "WqLb_liesYHU",
        "outputId": "15608cb1-c3d4-4622-c5fe-8a8d779c613e"
      },
      "outputs": [
        {
          "output_type": "stream",
          "name": "stdout",
          "text": [
            "tensor([1, 2, 3]) * tensor([1, 2, 3])\n",
            "Equals: tensor([1, 4, 9])\n"
          ]
        }
      ],
      "source": [
        "# Element wise multiplication\n",
        "print(tensor, \"*\", tensor) #, \"=\", tensor * tensor)\n",
        "print(f\"Equals: {tensor * tensor}\")"
      ]
    },
    {
      "cell_type": "code",
      "execution_count": null,
      "metadata": {
        "colab": {
          "base_uri": "https://localhost:8080/"
        },
        "id": "ib0MQdfasYEd",
        "outputId": "7fe63309-90b3-41a0-bfa8-85c1e831a8e5"
      },
      "outputs": [
        {
          "output_type": "execute_result",
          "data": {
            "text/plain": [
              "tensor(14)"
            ]
          },
          "metadata": {},
          "execution_count": 50
        }
      ],
      "source": [
        "# Matrix Multiplication\n",
        "torch.matmul(tensor, tensor)"
      ]
    },
    {
      "cell_type": "code",
      "execution_count": null,
      "metadata": {
        "colab": {
          "base_uri": "https://localhost:8080/"
        },
        "id": "51vHvJtzsYBe",
        "outputId": "4a95a9b3-17c0-4d89-9988-0c908a0ac0c4"
      },
      "outputs": [
        {
          "output_type": "execute_result",
          "data": {
            "text/plain": [
              "14"
            ]
          },
          "metadata": {},
          "execution_count": 51
        }
      ],
      "source": [
        "# Matrix multiplication by Hand\n",
        "1*1 + 2*2 + 3*3"
      ]
    },
    {
      "cell_type": "code",
      "execution_count": null,
      "metadata": {
        "colab": {
          "base_uri": "https://localhost:8080/"
        },
        "id": "KqJpwYkRsX9j",
        "outputId": "3c3b9b69-fc1c-40ca-d560-890935491897"
      },
      "outputs": [
        {
          "output_type": "stream",
          "name": "stdout",
          "text": [
            "tensor(14)\n",
            "CPU times: user 2.37 ms, sys: 64 µs, total: 2.44 ms\n",
            "Wall time: 2.53 ms\n"
          ]
        }
      ],
      "source": [
        "%%time\n",
        "value = 0\n",
        "for i in range(len(tensor)):\n",
        "  value += tensor[i] * tensor[i]\n",
        "print(value)"
      ]
    },
    {
      "cell_type": "code",
      "execution_count": null,
      "metadata": {
        "colab": {
          "base_uri": "https://localhost:8080/"
        },
        "id": "shv39vMom5Gg",
        "outputId": "5d484c26-8e8b-4ab2-a224-5f8ece0c20fd"
      },
      "outputs": [
        {
          "name": "stdout",
          "output_type": "stream",
          "text": [
            "CPU times: user 83 µs, sys: 0 ns, total: 83 µs\n",
            "Wall time: 86.8 µs\n"
          ]
        },
        {
          "data": {
            "text/plain": [
              "tensor(14)"
            ]
          },
          "execution_count": 54,
          "metadata": {},
          "output_type": "execute_result"
        }
      ],
      "source": [
        "%%time\n",
        "torch.matmul(tensor, tensor)"
      ]
    },
    {
      "cell_type": "code",
      "execution_count": null,
      "metadata": {
        "colab": {
          "base_uri": "https://localhost:8080/",
          "height": 176
        },
        "id": "iKZSz4pa0aZB",
        "outputId": "ed3a40bb-7243-40c7-8486-215d6118a488"
      },
      "outputs": [
        {
          "ename": "RuntimeError",
          "evalue": "mat1 and mat2 shapes cannot be multiplied (3x2 and 3x2)",
          "output_type": "error",
          "traceback": [
            "\u001b[0;31m---------------------------------------------------------------------------\u001b[0m",
            "\u001b[0;31mRuntimeError\u001b[0m                              Traceback (most recent call last)",
            "\u001b[0;32m<ipython-input-56-ce0c8c4cf74b>\u001b[0m in \u001b[0;36m<cell line: 11>\u001b[0;34m()\u001b[0m\n\u001b[1;32m      9\u001b[0m \u001b[0;34m\u001b[0m\u001b[0m\n\u001b[1;32m     10\u001b[0m \u001b[0;31m#torch.mm(tensor_A, tensor_B) # torch.mm is the same as torch.matmul (it's an alias for writing less code)\u001b[0m\u001b[0;34m\u001b[0m\u001b[0;34m\u001b[0m\u001b[0m\n\u001b[0;32m---> 11\u001b[0;31m \u001b[0mtorch\u001b[0m\u001b[0;34m.\u001b[0m\u001b[0mmatmul\u001b[0m\u001b[0;34m(\u001b[0m\u001b[0mtensor_A\u001b[0m\u001b[0;34m,\u001b[0m \u001b[0mtensor_B\u001b[0m\u001b[0;34m)\u001b[0m\u001b[0;34m\u001b[0m\u001b[0;34m\u001b[0m\u001b[0m\n\u001b[0m",
            "\u001b[0;31mRuntimeError\u001b[0m: mat1 and mat2 shapes cannot be multiplied (3x2 and 3x2)"
          ]
        }
      ],
      "source": [
        "# Shapes for Matrix Multiplication\n",
        "tensor_A = torch.tensor([[1, 2],\n",
        "                         [3, 4],\n",
        "                         [5, 6]])\n",
        "\n",
        "tensor_B = torch.tensor([[7, 10],\n",
        "                         [8, 11],\n",
        "                         [9, 12]])\n",
        "\n",
        "#torch.mm(tensor_A, tensor_B) # torch.mm is the same as torch.matmul (it's an alias for writing less code)\n",
        "torch.matmul(tensor_A, tensor_B)"
      ]
    },
    {
      "cell_type": "markdown",
      "metadata": {
        "id": "-YdNEFTx0aWm"
      },
      "source": [
        "To fix shape issues, we can manipulate the shape of one of our tensors using a **transpose**.\n",
        "A **transpose** switches the axes or dimensions of a given tensor.\n"
      ]
    },
    {
      "cell_type": "code",
      "execution_count": null,
      "metadata": {
        "colab": {
          "base_uri": "https://localhost:8080/"
        },
        "id": "ujbIaFKF0aUG",
        "outputId": "18846c7e-5389-423d-b6b4-69c7d620b4d0"
      },
      "outputs": [
        {
          "data": {
            "text/plain": [
              "(tensor([[ 7, 10],\n",
              "         [ 8, 11],\n",
              "         [ 9, 12]]),\n",
              " torch.Size([3, 2]))"
            ]
          },
          "execution_count": 57,
          "metadata": {},
          "output_type": "execute_result"
        }
      ],
      "source": [
        "tensor_B, tensor_B.shape"
      ]
    },
    {
      "cell_type": "code",
      "execution_count": null,
      "metadata": {
        "colab": {
          "base_uri": "https://localhost:8080/"
        },
        "id": "K_Px0mgJ0aQW",
        "outputId": "ca3da2e6-d56c-45de-eb37-91f83d1d8394"
      },
      "outputs": [
        {
          "data": {
            "text/plain": [
              "(tensor([[ 7,  8,  9],\n",
              "         [10, 11, 12]]),\n",
              " torch.Size([2, 3]))"
            ]
          },
          "execution_count": 58,
          "metadata": {},
          "output_type": "execute_result"
        }
      ],
      "source": [
        "tensor_B.T, tensor_B.T.shape"
      ]
    },
    {
      "cell_type": "code",
      "execution_count": null,
      "metadata": {
        "colab": {
          "base_uri": "https://localhost:8080/"
        },
        "id": "LurqXBmv0aM_",
        "outputId": "096b3038-7503-40ae-fa72-72193d92eb46"
      },
      "outputs": [
        {
          "data": {
            "text/plain": [
              "tensor([[ 27,  30,  33],\n",
              "        [ 61,  68,  75],\n",
              "        [ 95, 106, 117]])"
            ]
          },
          "execution_count": 59,
          "metadata": {},
          "output_type": "execute_result"
        }
      ],
      "source": [
        "torch.matmul(tensor_A, tensor_B.T)"
      ]
    },
    {
      "cell_type": "code",
      "execution_count": null,
      "metadata": {
        "colab": {
          "base_uri": "https://localhost:8080/"
        },
        "id": "gdOexahh0Z8H",
        "outputId": "0fe7cdfb-7b96-48d0-efce-ee8431f67f27"
      },
      "outputs": [
        {
          "name": "stdout",
          "output_type": "stream",
          "text": [
            "Original shapes: tensor_A = torch.Size([3, 2]), tensor_B = torch.Size([3, 2])\n",
            "New shapes: tensor_A = torch.Size([3, 2]) (same as above), tensor_B.T = tensor([[ 7,  8,  9],\n",
            "        [10, 11, 12]]).shape\n",
            "Multiplying: torch.Size([3, 2]) @ torch.Size([2, 3]) <- inner dimensions must match\n",
            "Output:\n",
            "\n",
            "tensor([[ 27,  30,  33],\n",
            "        [ 61,  68,  75],\n",
            "        [ 95, 106, 117]])\n",
            "\n",
            "Output shape: torch.Size([3, 3])\n"
          ]
        }
      ],
      "source": [
        "# The matrix multiplication works when tensor_B is transposed\n",
        "print(f\"Original shapes: tensor_A = {tensor_A.shape}, tensor_B = {tensor_B.shape}\")\n",
        "print(f\"New shapes: tensor_A = {tensor_A.shape} (same as above), tensor_B.T = {tensor_B.T}.shape\")\n",
        "print(f\"Multiplying: {tensor_A.shape} @ {tensor_B.T.shape} <- inner dimensions must match\")\n",
        "print(\"Output:\\n\")\n",
        "output = torch.matmul(tensor_A, tensor_B.T)\n",
        "print(output)\n",
        "print(f\"\\nOutput shape: {output.shape}\")"
      ]
    },
    {
      "cell_type": "markdown",
      "metadata": {
        "id": "59trLf0S0Z6B"
      },
      "source": [
        "## Find min, max, mean, sum etc (Tensor Aggregation of certain tensor values)"
      ]
    },
    {
      "cell_type": "code",
      "execution_count": null,
      "metadata": {
        "colab": {
          "base_uri": "https://localhost:8080/"
        },
        "id": "Z_Vk10S60Z3F",
        "outputId": "ebae57cc-6944-4c7b-d5db-6fef47f14528"
      },
      "outputs": [
        {
          "data": {
            "text/plain": [
              "tensor([ 0, 10, 20, 30, 40, 50, 60, 70, 80, 90])"
            ]
          },
          "execution_count": 61,
          "metadata": {},
          "output_type": "execute_result"
        }
      ],
      "source": [
        "x = torch.arange(0, 100, 10)\n",
        "x"
      ]
    },
    {
      "cell_type": "code",
      "execution_count": null,
      "metadata": {
        "colab": {
          "base_uri": "https://localhost:8080/"
        },
        "id": "qKaljTdX0Z0W",
        "outputId": "5f6cd994-cff0-441b-a8b6-96c115479806"
      },
      "outputs": [
        {
          "data": {
            "text/plain": [
              "(tensor(0), tensor(0))"
            ]
          },
          "execution_count": 62,
          "metadata": {},
          "output_type": "execute_result"
        }
      ],
      "source": [
        "# min.\n",
        "torch.min(x), x.min()"
      ]
    },
    {
      "cell_type": "code",
      "execution_count": null,
      "metadata": {
        "colab": {
          "base_uri": "https://localhost:8080/"
        },
        "id": "tDxQRWaA0ZxK",
        "outputId": "579cbe4e-395a-4001-d3d5-980fe602da4a"
      },
      "outputs": [
        {
          "data": {
            "text/plain": [
              "(tensor(90), tensor(90))"
            ]
          },
          "execution_count": 63,
          "metadata": {},
          "output_type": "execute_result"
        }
      ],
      "source": [
        "# max\n",
        "torch.max(x), x.max()"
      ]
    },
    {
      "cell_type": "code",
      "execution_count": null,
      "metadata": {
        "colab": {
          "base_uri": "https://localhost:8080/"
        },
        "id": "yMELouRq0ZoS",
        "outputId": "63922f5e-d547-452c-bd7d-f0aee87eb6ec"
      },
      "outputs": [
        {
          "data": {
            "text/plain": [
              "(tensor(45.), tensor(45.))"
            ]
          },
          "execution_count": 64,
          "metadata": {},
          "output_type": "execute_result"
        }
      ],
      "source": [
        "# mean\n",
        "torch.mean(x.type(torch.float32)), x.type(torch.float32).mean() # requires a tensor of float 32 datatype to work"
      ]
    },
    {
      "cell_type": "code",
      "execution_count": null,
      "metadata": {
        "colab": {
          "base_uri": "https://localhost:8080/"
        },
        "id": "MP0TflPMm5Jv",
        "outputId": "740cf391-f532-4add-98f4-1cc3b46b3f18"
      },
      "outputs": [
        {
          "data": {
            "text/plain": [
              "(tensor(450), tensor(450))"
            ]
          },
          "execution_count": 65,
          "metadata": {},
          "output_type": "execute_result"
        }
      ],
      "source": [
        "# sum\n",
        "torch.sum(x), x.sum()"
      ]
    },
    {
      "cell_type": "markdown",
      "metadata": {
        "id": "2Ipzp52c9yBA"
      },
      "source": [
        "# Positional min and max(Index at which min or max operates)\n",
        "use the arg min and arg max"
      ]
    },
    {
      "cell_type": "code",
      "execution_count": null,
      "metadata": {
        "colab": {
          "base_uri": "https://localhost:8080/"
        },
        "id": "WB3-HVBO9x8y",
        "outputId": "fbb3ada1-b242-47ca-d042-f23a34a66c92"
      },
      "outputs": [
        {
          "data": {
            "text/plain": [
              "tensor(0)"
            ]
          },
          "execution_count": 66,
          "metadata": {},
          "output_type": "execute_result"
        }
      ],
      "source": [
        "# Find position in tensor that has the minimium value argmin() --> returns index position of target tensor where the minimum value occurs\n",
        "x.argmin()"
      ]
    },
    {
      "cell_type": "code",
      "execution_count": null,
      "metadata": {
        "colab": {
          "base_uri": "https://localhost:8080/"
        },
        "id": "cR6ctZQA9x5-",
        "outputId": "c32d393c-421f-47a3-a981-d3c60096dff9"
      },
      "outputs": [
        {
          "data": {
            "text/plain": [
              "tensor(0)"
            ]
          },
          "execution_count": 67,
          "metadata": {},
          "output_type": "execute_result"
        }
      ],
      "source": [
        "x[0]"
      ]
    },
    {
      "cell_type": "code",
      "execution_count": null,
      "metadata": {
        "colab": {
          "base_uri": "https://localhost:8080/"
        },
        "id": "BDzByEDI9x2v",
        "outputId": "ec77d42c-236b-46d7-dc88-d4c743ad5e6f"
      },
      "outputs": [
        {
          "data": {
            "text/plain": [
              "tensor(9)"
            ]
          },
          "execution_count": 68,
          "metadata": {},
          "output_type": "execute_result"
        }
      ],
      "source": [
        "x.argmax()"
      ]
    },
    {
      "cell_type": "code",
      "execution_count": null,
      "metadata": {
        "colab": {
          "base_uri": "https://localhost:8080/"
        },
        "id": "zUka8GO89x0x",
        "outputId": "f97e5839-e8d7-4869-bb20-8109b565dd52"
      },
      "outputs": [
        {
          "data": {
            "text/plain": [
              "tensor(90)"
            ]
          },
          "execution_count": 70,
          "metadata": {},
          "output_type": "execute_result"
        }
      ],
      "source": [
        "x[9]"
      ]
    },
    {
      "cell_type": "markdown",
      "metadata": {
        "id": "JvCXdgyH9xxz"
      },
      "source": [
        "# Reshaping , stacking, squeezing and unsqueezing tensors (To change shape of tensor)\n",
        "* Reshaping - reshapes an input tensor to a defined shape\n",
        "* View - Return a view of an input tensor of certain shape but keep the same memory as the original tensor\n",
        "* Stacking - combine multiple tensors on top of each other (vstack) or side by side (hstack)\n",
        "* Squeeze - removes all `1` dimensions from a tensor\n",
        "* Unsqueeze - add a `1` dimension to a target tensor\n",
        "* Permute - Return a view of the input with dimensions permuted (swapped) in a certain way"
      ]
    },
    {
      "cell_type": "code",
      "execution_count": null,
      "metadata": {
        "colab": {
          "base_uri": "https://localhost:8080/"
        },
        "id": "0yGTxayk9xvI",
        "outputId": "72466c61-4b54-4c63-bf7f-a16311ae4a28"
      },
      "outputs": [
        {
          "output_type": "execute_result",
          "data": {
            "text/plain": [
              "(tensor([1., 2., 3., 4., 5., 6., 7., 8., 9.]), torch.Size([9]))"
            ]
          },
          "metadata": {},
          "execution_count": 53
        }
      ],
      "source": [
        "# Create a tensor\n",
        "import torch\n",
        "x = torch.arange(1., 10.)\n",
        "x, x.shape"
      ]
    },
    {
      "cell_type": "code",
      "execution_count": null,
      "metadata": {
        "colab": {
          "base_uri": "https://localhost:8080/"
        },
        "id": "LtsWXbmI9xrS",
        "outputId": "b701b112-1449-4277-f7d1-d4bc119cf2e9"
      },
      "outputs": [
        {
          "output_type": "execute_result",
          "data": {
            "text/plain": [
              "(tensor([[1., 2., 3., 4., 5., 6., 7., 8., 9.]]), torch.Size([1, 9]))"
            ]
          },
          "metadata": {},
          "execution_count": 54
        }
      ],
      "source": [
        "# Reshape -- Add an extra dimension\n",
        "x_reshaped = x.reshape(1, 9)\n",
        "x_reshaped, x_reshaped.shape"
      ]
    },
    {
      "cell_type": "code",
      "execution_count": null,
      "metadata": {
        "colab": {
          "base_uri": "https://localhost:8080/"
        },
        "id": "dwASvdd-9xpI",
        "outputId": "a60478da-b822-4c0d-803a-d9a382f7fe3e"
      },
      "outputs": [
        {
          "output_type": "execute_result",
          "data": {
            "text/plain": [
              "(tensor([[1.],\n",
              "         [2.],\n",
              "         [3.],\n",
              "         [4.],\n",
              "         [5.],\n",
              "         [6.],\n",
              "         [7.],\n",
              "         [8.],\n",
              "         [9.]]),\n",
              " torch.Size([9, 1]))"
            ]
          },
          "metadata": {},
          "execution_count": 55
        }
      ],
      "source": [
        "x_reshaped = x.reshape(9, 1)\n",
        "x_reshaped, x_reshaped.shape"
      ]
    },
    {
      "cell_type": "code",
      "execution_count": null,
      "metadata": {
        "colab": {
          "base_uri": "https://localhost:8080/"
        },
        "id": "oHUF3FHx9xlT",
        "outputId": "df91bb65-54dd-45e2-ab67-a59e001401e4"
      },
      "outputs": [
        {
          "output_type": "execute_result",
          "data": {
            "text/plain": [
              "(tensor([[1., 2., 3.],\n",
              "         [4., 5., 6.],\n",
              "         [7., 8., 9.]]),\n",
              " torch.Size([3, 3]))"
            ]
          },
          "metadata": {},
          "execution_count": 56
        }
      ],
      "source": [
        "# Extra Dimension\n",
        "x_reshaped = x.reshape(3, 3)\n",
        "x_reshaped, x_reshaped.shape"
      ]
    },
    {
      "cell_type": "code",
      "execution_count": null,
      "metadata": {
        "colab": {
          "base_uri": "https://localhost:8080/"
        },
        "id": "NVn8XG-U9xhn",
        "outputId": "158e614d-2f6c-4099-c131-b1d6f2299f0e"
      },
      "outputs": [
        {
          "output_type": "execute_result",
          "data": {
            "text/plain": [
              "(tensor([[1., 2., 3., 4., 5., 6., 7., 8., 9.]]), torch.Size([1, 9]))"
            ]
          },
          "metadata": {},
          "execution_count": 57
        }
      ],
      "source": [
        "# Change view\n",
        "z = x.view(1, 9)\n",
        "z, z.shape"
      ]
    },
    {
      "cell_type": "code",
      "execution_count": null,
      "metadata": {
        "colab": {
          "base_uri": "https://localhost:8080/"
        },
        "id": "BTqJhrxiAZgO",
        "outputId": "de6e1d9c-1779-41b0-93cd-cdee1a4f4444"
      },
      "outputs": [
        {
          "output_type": "execute_result",
          "data": {
            "text/plain": [
              "(tensor([[5., 2., 3., 4., 5., 6., 7., 8., 9.]]),\n",
              " tensor([5., 2., 3., 4., 5., 6., 7., 8., 9.]))"
            ]
          },
          "metadata": {},
          "execution_count": 58
        }
      ],
      "source": [
        "# Changing z changes x (because a view of a tensor shares the same memory as the original input)\n",
        "\n",
        "z[:, 0] = 5\n",
        "z, x"
      ]
    },
    {
      "cell_type": "code",
      "execution_count": null,
      "metadata": {
        "colab": {
          "base_uri": "https://localhost:8080/"
        },
        "id": "uXrslNwbAZdM",
        "outputId": "d23b8fb2-6700-434d-e32d-5d2d0519b351"
      },
      "outputs": [
        {
          "output_type": "execute_result",
          "data": {
            "text/plain": [
              "tensor([[5., 2., 3., 4., 5., 6., 7., 8., 9.],\n",
              "        [5., 2., 3., 4., 5., 6., 7., 8., 9.],\n",
              "        [5., 2., 3., 4., 5., 6., 7., 8., 9.],\n",
              "        [5., 2., 3., 4., 5., 6., 7., 8., 9.]])"
            ]
          },
          "metadata": {},
          "execution_count": 59
        }
      ],
      "source": [
        "# Stack tensors on top of each other\n",
        "\n",
        "x_stacked = torch.stack([x, x, x, x], dim=0)\n",
        "x_stacked"
      ]
    },
    {
      "cell_type": "markdown",
      "metadata": {
        "id": "mU-4pLHWBLgO"
      },
      "source": [
        "torch.squeeze() = removes all single dimensions from a target tensor\n",
        "\n",
        "torch.unsqueeze() = adds a single dimension to a target tensor at a specific dim\n",
        "\n",
        "torch.permute() = rearranges the dimensions of a target tensor in a specified order"
      ]
    },
    {
      "cell_type": "code",
      "execution_count": null,
      "metadata": {
        "colab": {
          "base_uri": "https://localhost:8080/"
        },
        "id": "rhpVJa8lCeb0",
        "outputId": "d8118156-b8c5-4f36-812b-4845a9c179d2"
      },
      "outputs": [
        {
          "output_type": "stream",
          "name": "stdout",
          "text": [
            "Previous tensor: tensor([[5., 2., 3.],\n",
            "        [4., 5., 6.],\n",
            "        [7., 8., 9.]])\n",
            "Previous shape: torch.Size([3, 3])\n",
            "\n",
            "New tensor: tensor([[5., 2., 3.],\n",
            "        [4., 5., 6.],\n",
            "        [7., 8., 9.]])\n",
            "New shape: torch.Size([3, 3])\n"
          ]
        }
      ],
      "source": [
        "print(f\"Previous tensor: {x_reshaped}\")\n",
        "print(f\"Previous shape: {x_reshaped.shape}\")\n",
        "\n",
        "# Remove extra  dimensions from x_shaped (at dim 0)\n",
        "x_squeezed = x_reshaped.squeeze()\n",
        "print(f\"\\nNew tensor: {x_squeezed}\")\n",
        "print(f\"New shape: {x_squeezed.shape}\")"
      ]
    },
    {
      "cell_type": "code",
      "execution_count": null,
      "metadata": {
        "id": "7gpxxf-kC4-O",
        "colab": {
          "base_uri": "https://localhost:8080/"
        },
        "outputId": "c0d3d474-138c-414a-e9d8-36fc59e8a9ff"
      },
      "outputs": [
        {
          "output_type": "execute_result",
          "data": {
            "text/plain": [
              "tensor([[5., 2., 3.],\n",
              "        [4., 5., 6.],\n",
              "        [7., 8., 9.]])"
            ]
          },
          "metadata": {},
          "execution_count": 61
        }
      ],
      "source": [
        "# Add extra dimension with unsqueeze\n",
        "x_reshaped"
      ]
    },
    {
      "cell_type": "code",
      "execution_count": null,
      "metadata": {
        "colab": {
          "base_uri": "https://localhost:8080/"
        },
        "id": "NE04VOK2AZar",
        "outputId": "dcde4593-4513-4378-d9cd-c9e08ec42247"
      },
      "outputs": [
        {
          "output_type": "execute_result",
          "data": {
            "text/plain": [
              "tensor([[1, 2, 3]])"
            ]
          },
          "metadata": {},
          "execution_count": 62
        }
      ],
      "source": [
        "squeeze = torch.tensor([[1, 2, 3]])\n",
        "squeeze"
      ]
    },
    {
      "cell_type": "code",
      "execution_count": null,
      "metadata": {
        "id": "y2a4TXn4AZXz"
      },
      "outputs": [],
      "source": [
        "unsqueeze = torch.tensor([1, 2, 3])"
      ]
    },
    {
      "cell_type": "markdown",
      "source": [
        "# PyTorch tensors and Numpy\n",
        "\n",
        "Numpy is a popular scientific Python numerical computing library.\n",
        "PyTorch has functionality to interact with it.\n",
        "\n",
        "# Numpy array to tensor\n",
        "Data in Numpy, want in PyTorch tensor -> `torch.from_numpy(ndarray)`\n",
        "# Tensor to Numpy array -> `torch.Tensor.numpy()`\n",
        "PyTorch tensor --> Numpy array -> `torch.Tensor.numpy()`\n",
        "PyTorch reflects Numpy's default datatype of `float64` unless specified otherwise.\n",
        "pytorch tensors run on the CPU, numpy arrays run on the CPU"
      ],
      "metadata": {
        "id": "1Bn6SZriAZUi"
      }
    },
    {
      "cell_type": "code",
      "execution_count": null,
      "metadata": {
        "id": "3opFyBrQAZQ_",
        "colab": {
          "base_uri": "https://localhost:8080/"
        },
        "outputId": "9fe327e2-7f4f-4f5e-f289-abff5e0c63a3"
      },
      "outputs": [
        {
          "output_type": "execute_result",
          "data": {
            "text/plain": [
              "(array([1., 2., 3., 4., 5., 6., 7.]),\n",
              " tensor([1., 2., 3., 4., 5., 6., 7.], dtype=torch.float64))"
            ]
          },
          "metadata": {},
          "execution_count": 63
        }
      ],
      "source": [
        "#Numpy array to tensor\n",
        "\n",
        "import torch\n",
        "import numpy as np\n",
        "\n",
        "array = np.arange(1.0, 8.0)\n",
        "tensor = torch.from_numpy(array)\n",
        "array, tensor"
      ]
    },
    {
      "cell_type": "code",
      "execution_count": null,
      "metadata": {
        "id": "liS5OP1oAZOH",
        "colab": {
          "base_uri": "https://localhost:8080/"
        },
        "outputId": "12acc530-90fb-42fe-ad86-6b719c545ab7"
      },
      "outputs": [
        {
          "output_type": "execute_result",
          "data": {
            "text/plain": [
              "dtype('float64')"
            ]
          },
          "metadata": {},
          "execution_count": 64
        }
      ],
      "source": [
        "array.dtype"
      ]
    },
    {
      "cell_type": "code",
      "execution_count": null,
      "metadata": {
        "id": "M7cAhDamAZJ7",
        "colab": {
          "base_uri": "https://localhost:8080/"
        },
        "outputId": "0d3283b8-264d-424e-d72e-40fc4c75ffc4"
      },
      "outputs": [
        {
          "output_type": "execute_result",
          "data": {
            "text/plain": [
              "torch.float64"
            ]
          },
          "metadata": {},
          "execution_count": 65
        }
      ],
      "source": [
        "tensor.dtype"
      ]
    },
    {
      "cell_type": "code",
      "execution_count": null,
      "metadata": {
        "id": "js3dTAcVAZHZ",
        "colab": {
          "base_uri": "https://localhost:8080/"
        },
        "outputId": "4002926c-94e4-47cf-b140-4b7e7da62294"
      },
      "outputs": [
        {
          "output_type": "execute_result",
          "data": {
            "text/plain": [
              "torch.float32"
            ]
          },
          "metadata": {},
          "execution_count": 66
        }
      ],
      "source": [
        "torch.arange(1.0, 8.0).dtype"
      ]
    },
    {
      "cell_type": "code",
      "execution_count": null,
      "metadata": {
        "id": "6dFSlIKUAZEK"
      },
      "outputs": [],
      "source": [
        "tensor = torch(1.0, 8.0)\n",
        "tensor = torch.from_numpy(array)  # warning: when converting from numpy -> pytorch, pytorch reflects numpy's default datatype of float64 unless specified otherwise\n",
        "array, tensor"
      ]
    },
    {
      "cell_type": "code",
      "execution_count": null,
      "metadata": {
        "id": "vw-phP4GAZBv",
        "colab": {
          "base_uri": "https://localhost:8080/"
        },
        "outputId": "4da411a0-f648-4bce-e7e4-056ec4cff175"
      },
      "outputs": [
        {
          "output_type": "execute_result",
          "data": {
            "text/plain": [
              "(array([2., 3., 4., 5., 6., 7., 8.]),\n",
              " tensor([1., 2., 3., 4., 5., 6., 7.], dtype=torch.float64))"
            ]
          },
          "metadata": {},
          "execution_count": 67
        }
      ],
      "source": [
        "# Change the value of array, what will this do to `tensor`? Does not change\n",
        "array = array + 1\n",
        "array, tensor"
      ]
    },
    {
      "cell_type": "code",
      "execution_count": null,
      "metadata": {
        "id": "8GnpAGLkAY_J",
        "colab": {
          "base_uri": "https://localhost:8080/"
        },
        "outputId": "69036917-3eec-4ac1-90a7-661ce5748484"
      },
      "outputs": [
        {
          "output_type": "execute_result",
          "data": {
            "text/plain": [
              "(tensor([1., 1., 1., 1., 1., 1., 1.]),\n",
              " array([1., 1., 1., 1., 1., 1., 1.], dtype=float32))"
            ]
          },
          "metadata": {},
          "execution_count": 68
        }
      ],
      "source": [
        "# Tensor to Numpy\n",
        "\n",
        "tensor = torch.ones(7)\n",
        "numpy_tensor = tensor.numpy()\n",
        "tensor, numpy_tensor"
      ]
    },
    {
      "cell_type": "code",
      "execution_count": null,
      "metadata": {
        "id": "oVvQx42jAY85",
        "colab": {
          "base_uri": "https://localhost:8080/"
        },
        "outputId": "47c20692-b9a0-4e5c-9917-fcc33055c066"
      },
      "outputs": [
        {
          "output_type": "execute_result",
          "data": {
            "text/plain": [
              "dtype('float32')"
            ]
          },
          "metadata": {},
          "execution_count": 69
        }
      ],
      "source": [
        "numpy_tensor.dtype"
      ]
    },
    {
      "cell_type": "code",
      "execution_count": null,
      "metadata": {
        "id": "21QTW8ngAY6W",
        "colab": {
          "base_uri": "https://localhost:8080/"
        },
        "outputId": "cb53c1a8-b8b8-46ab-a21e-08683ebbf7ea"
      },
      "outputs": [
        {
          "output_type": "execute_result",
          "data": {
            "text/plain": [
              "(tensor([2., 2., 2., 2., 2., 2., 2.]),\n",
              " array([1., 1., 1., 1., 1., 1., 1.], dtype=float32))"
            ]
          },
          "metadata": {},
          "execution_count": 70
        }
      ],
      "source": [
        "# Change the tensor, what happens to `numpy_tensor`?\n",
        "tensor = tensor + 1\n",
        "tensor, numpy_tensor"
      ]
    },
    {
      "cell_type": "markdown",
      "source": [
        "Reproducibility (trying to take the random out of random):\n",
        "\n",
        "`How neural network learns is start with neural numbers to try and make them better represenations of the data\n",
        "update again again again`\n",
        "\n",
        "To reduce randomness in neural networks and PyTorch comes the concept of a **random seed**.\n",
        "\n",
        "Essentially what the random seed does is \"flavour\" the randomness.\n",
        "\n",
        "\n",
        "Reproducibility documents:\n",
        "\n",
        "[Pytorch document on Reproducibility](https://pytorch.org/docs/stable/notes/randomness.html)\n",
        "\n",
        "[wikipedia.randomseed](https://en.wikipedia.org/wiki/Random_seed)\n"
      ],
      "metadata": {
        "id": "VVN4xY65AY4J"
      }
    },
    {
      "cell_type": "code",
      "source": [],
      "metadata": {
        "id": "QDOrhtdD0ZWZ"
      },
      "execution_count": null,
      "outputs": []
    },
    {
      "cell_type": "code",
      "execution_count": null,
      "metadata": {
        "id": "N82Fzu7fAY16",
        "colab": {
          "base_uri": "https://localhost:8080/"
        },
        "outputId": "386d17ca-02cb-4887-e521-ecc24ccedaf3"
      },
      "outputs": [
        {
          "output_type": "execute_result",
          "data": {
            "text/plain": [
              "tensor([[0.1446, 0.5540, 0.5761],\n",
              "        [0.4942, 0.1887, 0.6807],\n",
              "        [0.2447, 0.7174, 0.7434]])"
            ]
          },
          "metadata": {},
          "execution_count": 71
        }
      ],
      "source": [
        "torch.rand(3, 3)"
      ]
    },
    {
      "cell_type": "code",
      "execution_count": null,
      "metadata": {
        "id": "k0uc_KkeAYzG",
        "colab": {
          "base_uri": "https://localhost:8080/"
        },
        "outputId": "925271ed-d008-4a4a-e76e-8e9ba563c614"
      },
      "outputs": [
        {
          "output_type": "stream",
          "name": "stdout",
          "text": [
            "tensor([[0.3668, 0.3936, 0.7239, 0.1595],\n",
            "        [0.7996, 0.7480, 0.5309, 0.5998],\n",
            "        [0.0404, 0.6763, 0.2149, 0.7108]])\n",
            "tensor([[0.6421, 0.9835, 0.0516, 0.2561],\n",
            "        [0.7190, 0.0435, 0.4283, 0.2516],\n",
            "        [0.6680, 0.6409, 0.4619, 0.2763]])\n",
            "tensor([[False, False, False, False],\n",
            "        [False, False, False, False],\n",
            "        [False, False, False, False]])\n"
          ]
        }
      ],
      "source": [
        "import torch\n",
        "\n",
        "# create two random tensors\n",
        "\n",
        "random_tensor_A = torch.rand(3, 4)\n",
        "random_tensor_B = torch.rand(3, 4)\n",
        "\n",
        "print(random_tensor_A)\n",
        "print(random_tensor_B)\n",
        "print(random_tensor_A == random_tensor_B)"
      ]
    },
    {
      "cell_type": "code",
      "execution_count": null,
      "metadata": {
        "id": "AnWYo3TNAYxD",
        "colab": {
          "base_uri": "https://localhost:8080/"
        },
        "outputId": "06099cef-2549-47ab-882d-73060fbd2724"
      },
      "outputs": [
        {
          "output_type": "stream",
          "name": "stdout",
          "text": [
            "tensor([[0.8823, 0.9150, 0.3829, 0.9593],\n",
            "        [0.3904, 0.6009, 0.2566, 0.7936],\n",
            "        [0.9408, 0.1332, 0.9346, 0.5936]])\n",
            "tensor([[0.8823, 0.9150, 0.3829, 0.9593],\n",
            "        [0.3904, 0.6009, 0.2566, 0.7936],\n",
            "        [0.9408, 0.1332, 0.9346, 0.5936]])\n",
            "tensor([[True, True, True, True],\n",
            "        [True, True, True, True],\n",
            "        [True, True, True, True]])\n"
          ]
        }
      ],
      "source": [
        "# Make some random reproducible tensors\n",
        "\n",
        "import torch\n",
        "\n",
        "# Set the random seed\n",
        "RANDOM_SEED = 42\n",
        "torch.manual_seed(RANDOM_SEED)\n",
        "random_tensor_C = torch.rand(3, 4)\n",
        "\n",
        "torch.manual_seed(RANDOM_SEED)\n",
        "random_tensor_D = torch.rand(3, 4)\n",
        "\n",
        "print(random_tensor_C)\n",
        "print(random_tensor_D)\n",
        "print(random_tensor_C == random_tensor_D)"
      ]
    },
    {
      "cell_type": "markdown",
      "source": [
        "Rnnning tensors and PyTorch objects on the GPUs is faster\n",
        "\n",
        "GPUs = faster computation on numbers,\n",
        "\n",
        "Thanks to CUDA + NVIDIA hardware + PyTorch working behind the scenes to make everything hunky dory(good)"
      ],
      "metadata": {
        "id": "npHXOGl8AYrj"
      }
    },
    {
      "cell_type": "markdown",
      "source": [
        "# Getting a GPU\n",
        "\n",
        "!nvidia-smi\n",
        "\n",
        "1. Easiest - Use google colab for a free GPU (options to upgrade as well) downside is using locally.\n",
        "\n",
        "2. Use your own GPU = takes a little bit of setup and requires the investment of purchasing a GPU:\n",
        "\n",
        "    what option to get: [which-gpu-for-deep-learning](https://timdettmers.com/2020/09/07/which-gpu-for-deep-learning/)\n",
        "    \n",
        "3. Use cloud computing - `GCP, AWS, Azure`, these services allow you to rent computers on the cloud and access them\n",
        "\n",
        "\n",
        "For 2, 3 PyTorch + GPU drivers (CUDA) takes a little bit of setting up, to do this, refer to: [PyTorch setup Documentation](https://pytorch.org/get-started/locally/)"
      ],
      "metadata": {
        "id": "J81dGchgAYos"
      }
    },
    {
      "cell_type": "code",
      "source": [
        "# 1. Check GPU Access\n",
        "!nvidia-smi"
      ],
      "metadata": {
        "colab": {
          "base_uri": "https://localhost:8080/"
        },
        "id": "QUiRM4HS3RN6",
        "outputId": "1d0862a8-e494-454d-b51e-7b536f8aa0f4"
      },
      "execution_count": null,
      "outputs": [
        {
          "output_type": "stream",
          "name": "stdout",
          "text": [
            "Sat Oct 12 08:32:37 2024       \n",
            "+---------------------------------------------------------------------------------------+\n",
            "| NVIDIA-SMI 535.104.05             Driver Version: 535.104.05   CUDA Version: 12.2     |\n",
            "|-----------------------------------------+----------------------+----------------------+\n",
            "| GPU  Name                 Persistence-M | Bus-Id        Disp.A | Volatile Uncorr. ECC |\n",
            "| Fan  Temp   Perf          Pwr:Usage/Cap |         Memory-Usage | GPU-Util  Compute M. |\n",
            "|                                         |                      |               MIG M. |\n",
            "|=========================================+======================+======================|\n",
            "|   0  Tesla T4                       Off | 00000000:00:04.0 Off |                    0 |\n",
            "| N/A   43C    P8              10W /  70W |      0MiB / 15360MiB |      0%      Default |\n",
            "|                                         |                      |                  N/A |\n",
            "+-----------------------------------------+----------------------+----------------------+\n",
            "                                                                                         \n",
            "+---------------------------------------------------------------------------------------+\n",
            "| Processes:                                                                            |\n",
            "|  GPU   GI   CI        PID   Type   Process name                            GPU Memory |\n",
            "|        ID   ID                                                             Usage      |\n",
            "|=======================================================================================|\n",
            "|  No running processes found                                                           |\n",
            "+---------------------------------------------------------------------------------------+\n"
          ]
        }
      ]
    },
    {
      "cell_type": "code",
      "execution_count": null,
      "metadata": {
        "id": "OPQ-8vmcAYmC",
        "colab": {
          "base_uri": "https://localhost:8080/"
        },
        "outputId": "7349a118-31a9-4172-af48-7370c1f9081f"
      },
      "outputs": [
        {
          "output_type": "execute_result",
          "data": {
            "text/plain": [
              "True"
            ]
          },
          "metadata": {},
          "execution_count": 76
        }
      ],
      "source": [
        "# 2. Check for GPU access with PyTorch\n",
        "import torch\n",
        "invidia = torch.cuda.is_available()\n",
        "invidia"
      ]
    },
    {
      "cell_type": "markdown",
      "source": [
        "For PyTorch since it's capable of running compute on the GPU or CPU, it's best practice to setup device agnostic code:\n",
        "\n",
        "[best-practices](https://pytorch.org/docs/stable/notes/cuda.html#best-practices)\n",
        "\n",
        "E.g. run on GPU if available, else default to CPU"
      ],
      "metadata": {
        "id": "C56-FSPu4yXw"
      }
    },
    {
      "cell_type": "code",
      "execution_count": null,
      "metadata": {
        "id": "RwdC6CAPAYh1",
        "colab": {
          "base_uri": "https://localhost:8080/",
          "height": 35
        },
        "outputId": "c16f0a43-154b-4582-8708-e9c581153799"
      },
      "outputs": [
        {
          "output_type": "execute_result",
          "data": {
            "text/plain": [
              "'cuda'"
            ],
            "application/vnd.google.colaboratory.intrinsic+json": {
              "type": "string"
            }
          },
          "metadata": {},
          "execution_count": 77
        }
      ],
      "source": [
        "#3. Setup device agnostic code (Very important in pytorch)\n",
        "\n",
        "# Set Device Variable (set to use cuda)\n",
        "device = \"cuda\" if torch.cuda.is_available() else \"cpu\"\n",
        "device"
      ]
    },
    {
      "cell_type": "code",
      "execution_count": null,
      "metadata": {
        "id": "Dy2uFcrW9xY1",
        "colab": {
          "base_uri": "https://localhost:8080/"
        },
        "outputId": "c962f4a4-12fa-461d-bf44-240ec2072c53"
      },
      "outputs": [
        {
          "output_type": "execute_result",
          "data": {
            "text/plain": [
              "1"
            ]
          },
          "metadata": {},
          "execution_count": 78
        }
      ],
      "source": [
        "#4. Count Number of devices (For upgraded use, when running large models, to run different models on diff GPU's)\n",
        "torch.cuda.device_count()"
      ]
    },
    {
      "cell_type": "markdown",
      "source": [
        "## Putting tensors and models on the GPU\n",
        "Reason is because using a GPU results in faster computations."
      ],
      "metadata": {
        "id": "yMX-vPDjm5M5"
      }
    },
    {
      "cell_type": "code",
      "execution_count": null,
      "metadata": {
        "id": "VW_bSUURm5QM",
        "colab": {
          "base_uri": "https://localhost:8080/"
        },
        "outputId": "03253f55-d5e5-4814-88f6-0c8f8848581a"
      },
      "outputs": [
        {
          "output_type": "stream",
          "name": "stdout",
          "text": [
            "tensor([1, 2, 3]) cpu\n"
          ]
        }
      ],
      "source": [
        "# Create a tensor (default on CPU)\n",
        "tensor = torch.tensor([1, 2, 3])\n",
        "\n",
        "# Tensor not on GPU\n",
        "print(tensor, tensor.device)"
      ]
    },
    {
      "cell_type": "code",
      "source": [
        "# Move tensor to GPU (if available)\n",
        "tensor_on_gpu = tensor.to(device)\n",
        "tensor_on_gpu"
      ],
      "metadata": {
        "colab": {
          "base_uri": "https://localhost:8080/"
        },
        "id": "SjSiM7UK56gG",
        "outputId": "fe504975-6275-4b0b-aa71-913810b739a3"
      },
      "execution_count": null,
      "outputs": [
        {
          "output_type": "execute_result",
          "data": {
            "text/plain": [
              "tensor([1, 2, 3], device='cuda:0')"
            ]
          },
          "metadata": {},
          "execution_count": 81
        }
      ]
    },
    {
      "cell_type": "markdown",
      "metadata": {
        "id": "ED6xvfxJi4FW"
      },
      "source": []
    },
    {
      "cell_type": "markdown",
      "source": [
        "## Moving tensors back to the CPU"
      ],
      "metadata": {
        "id": "453qJulI6MNC"
      }
    },
    {
      "cell_type": "code",
      "source": [
        "# If tensor is on GPU cant transform it to numpy\n",
        "\n",
        "tensor_on_gpu.numpy()"
      ],
      "metadata": {
        "id": "c0pXaTis6MJW"
      },
      "execution_count": null,
      "outputs": []
    },
    {
      "cell_type": "code",
      "source": [
        "# To fix GPU tensor with NumPy issue, we can first set it to the CPU\n",
        "tensor_back_on_cpu = tensor_on_gpu.cpu().numpy()\n",
        "tensor_back_on_cpu"
      ],
      "metadata": {
        "colab": {
          "base_uri": "https://localhost:8080/"
        },
        "id": "hRBf321I6MC5",
        "outputId": "21e7d9d7-2893-4383-a90b-db7ed082664e"
      },
      "execution_count": null,
      "outputs": [
        {
          "output_type": "execute_result",
          "data": {
            "text/plain": [
              "array([1, 2, 3])"
            ]
          },
          "metadata": {},
          "execution_count": 84
        }
      ]
    },
    {
      "cell_type": "code",
      "source": [
        "tensor_on_gpu"
      ],
      "metadata": {
        "colab": {
          "base_uri": "https://localhost:8080/"
        },
        "id": "o0nj28Eu6L_D",
        "outputId": "2d348165-f08d-456e-b5dc-dffbb5c3ca52"
      },
      "execution_count": null,
      "outputs": [
        {
          "output_type": "execute_result",
          "data": {
            "text/plain": [
              "tensor([1, 2, 3], device='cuda:0')"
            ]
          },
          "metadata": {},
          "execution_count": 85
        }
      ]
    },
    {
      "cell_type": "code",
      "source": [
        "import torch"
      ],
      "metadata": {
        "id": "ej4RnhCi6L4G"
      },
      "execution_count": null,
      "outputs": []
    },
    {
      "cell_type": "code",
      "source": [
        "Documentation reading - A big part of deep learning is knowing what the datatypes and shapes of your data are.\n",
        "If the tensors are not the right datatype - to get datatype from a tensor, can use tensor.dtype\n",
        "If the tensors are not the right shape - to get shape from a tensor, can use tensor.shape\n",
        "If the tensors are not on the right device - to get device from a tensor, can use tensor.device"
      ],
      "metadata": {
        "id": "eKMQeWpg7Plx"
      },
      "execution_count": null,
      "outputs": []
    },
    {
      "cell_type": "code",
      "source": [
        "# Create a random tensor with shape (7, 7)\n",
        "torch.rand(7, 7)"
      ],
      "metadata": {
        "colab": {
          "base_uri": "https://localhost:8080/"
        },
        "id": "Z1jShZer7Pit",
        "outputId": "95dedb6c-561d-4b5f-e861-a73e65f3b983"
      },
      "execution_count": null,
      "outputs": [
        {
          "output_type": "execute_result",
          "data": {
            "text/plain": [
              "tensor([[0.1994, 0.5472, 0.0062, 0.9516, 0.0753, 0.8860, 0.5832],\n",
              "        [0.3376, 0.8090, 0.5779, 0.9040, 0.5547, 0.3423, 0.6343],\n",
              "        [0.3644, 0.7104, 0.9464, 0.7890, 0.2814, 0.7886, 0.5895],\n",
              "        [0.7539, 0.1952, 0.0050, 0.3068, 0.1165, 0.9103, 0.6440],\n",
              "        [0.7071, 0.6581, 0.4913, 0.8913, 0.1447, 0.5315, 0.1587],\n",
              "        [0.6542, 0.3278, 0.6532, 0.3958, 0.9147, 0.2036, 0.2018],\n",
              "        [0.2018, 0.9497, 0.6666, 0.9811, 0.0874, 0.0041, 0.1088]])"
            ]
          },
          "metadata": {},
          "execution_count": 88
        }
      ]
    },
    {
      "cell_type": "code",
      "source": [
        "# Set random seed on GPU to 0\n",
        "torch.cuda.manual_seed(0)"
      ],
      "metadata": {
        "id": "SsIrdp1t7PdV"
      },
      "execution_count": null,
      "outputs": []
    },
    {
      "cell_type": "code",
      "source": [
        "# Create two random tensors of shape (3, 3) and send them both to the GPU (you'll need access to a GPU for this).\n",
        "# Set torch.manual_seed(1234) when creating the tensors (this doesn't have to be the GPU random seed).\n",
        "\n",
        "torch.manual_seed(1234) # Call torch.manual_seed directly\n",
        "torch.rand(3, 3)"
      ],
      "metadata": {
        "colab": {
          "base_uri": "https://localhost:8080/"
        },
        "id": "9svSDtFE7Pa-",
        "outputId": "c123ac5d-0240-4ee8-85f2-41605d176582"
      },
      "execution_count": null,
      "outputs": [
        {
          "output_type": "execute_result",
          "data": {
            "text/plain": [
              "tensor([[0.0290, 0.4019, 0.2598],\n",
              "        [0.3666, 0.0583, 0.7006],\n",
              "        [0.0518, 0.4681, 0.6738]])"
            ]
          },
          "metadata": {},
          "execution_count": 93
        }
      ]
    },
    {
      "cell_type": "markdown",
      "metadata": {
        "id": "OncC3TarjYME"
      },
      "source": [
        "### Autograd:\n",
        "\n",
        "Package provide automatic differentiation for all operations on Tensors.\n",
        "Torch.autograd is an engine for computing the vector-jacobian product. It computes partial derivatives while applying the chain rule.\n",
        "\n",
        "`Set requires_grad = True:`"
      ]
    },
    {
      "cell_type": "code",
      "execution_count": null,
      "metadata": {
        "id": "ASl7JMkJj9vz"
      },
      "outputs": [],
      "source": [
        "import torch\n",
        "\n",
        "# requires_grad = True --> tracks all operations on the tensor.\n",
        "x = torch.randn(3, requires_grad=True)\n",
        "y = x + 2\n",
        "\n",
        "# y was created as a result of an operation, so it has a grad_fn attribute.\n",
        "# grad_fn: references a Function that has created the Tensor\n",
        "print(x) # created by the user --> grad_fn is None\n",
        "print(y)\n",
        "print(y.grad_fn)"
      ]
    },
    {
      "cell_type": "code",
      "execution_count": null,
      "metadata": {
        "id": "WrCBFGzqknZS"
      },
      "outputs": [],
      "source": [
        "# Do more operations on y\n",
        "z = y * y * 3\n",
        "print(z)\n",
        "z = z.mean()\n",
        "print(z)"
      ]
    },
    {
      "cell_type": "code",
      "execution_count": null,
      "metadata": {
        "id": "V1qKykRNk8Ic"
      },
      "outputs": [],
      "source": [
        "z.backward() # dz/dx\n",
        "print(x.grad)"
      ]
    },
    {
      "cell_type": "markdown",
      "source": [
        "# A PyTorch Workflow\n",
        "\n",
        "Exploring an example of a pytorch end to end workflow:\n",
        "\n",
        "Resources:\n",
        "\n",
        "- Notebook: https://www.learnpytorch.io/00_pytorch_fundamentals/\n",
        "- Video: https://www.youtube.com/watch?v=Z_ikDlimN6A\n",
        "- Code: https://github.com/mrdbourke/pytorch-deep-learning\n",
        "- Data: https://github.com/mrdbourke/pytorch-deep-learning/tree/main/data\n",
        "- Exercises: https://github.com/mrdbourke/pytorch-deep-learning/tree/main/exercises\n",
        "- Discussions: https://github.com/mrdbourke/pytorch-deep-learning/discussions\n",
        "- PyTorch Forums: https://discuss.pytorch.org/\n",
        "- PyTorch Documentation: https://pytorch.org/docs/stable/index.html\n",
        "- PyTorch Official Docs: https://pytorch.org/\n",
        "- PyTorch Lightning Docs: https://pytorch-lightning.readthedocs.io/en/latest/"
      ],
      "metadata": {
        "id": "EwlWRE7elEDV"
      }
    },
    {
      "cell_type": "code",
      "source": [
        "Covering = {1: \"data (prepare and load)\",\n",
        "            2: \"build model\",\n",
        "            3: \"Fit model to data (training)\",\n",
        "            4: \"Make Predictions and Evaluate model (inference)\",\n",
        "            5: \"Save and load model\",\n",
        "            6: \"Putting it all together\"}\n",
        "\n",
        "Covering"
      ],
      "metadata": {
        "colab": {
          "base_uri": "https://localhost:8080/"
        },
        "id": "Z5vVBjJg9geb",
        "outputId": "bad82348-4b77-4f78-ba4c-50143629abf5"
      },
      "execution_count": 1,
      "outputs": [
        {
          "output_type": "execute_result",
          "data": {
            "text/plain": [
              "{1: 'data (prepare and load)',\n",
              " 2: 'build model',\n",
              " 3: 'Fit model to data (training)',\n",
              " 4: 'Make Predictions and Evaluate model (inference)',\n",
              " 5: 'Save and load model',\n",
              " 6: 'Putting it all together'}"
            ]
          },
          "metadata": {},
          "execution_count": 1
        }
      ]
    },
    {
      "cell_type": "code",
      "source": [
        "import torch\n",
        "from torch import nn # nn contains all of PyTorch's building blocks for neural networks\n",
        "import matplotlib.pyplot as plt\n",
        "\n",
        "# Check PyTorch version\n",
        "torch.__version__"
      ],
      "metadata": {
        "id": "Gwr9A5Pl9gbw",
        "colab": {
          "base_uri": "https://localhost:8080/",
          "height": 35
        },
        "outputId": "a4dbb3fa-80fa-4fe7-9712-165c08fcb843"
      },
      "execution_count": 2,
      "outputs": [
        {
          "output_type": "execute_result",
          "data": {
            "text/plain": [
              "'2.4.1+cu121'"
            ],
            "application/vnd.google.colaboratory.intrinsic+json": {
              "type": "string"
            }
          },
          "metadata": {},
          "execution_count": 2
        }
      ]
    },
    {
      "cell_type": "markdown",
      "source": [
        "1. Data: prepare and load data\n",
        "\n",
        "Data can be anything going from images, text to tables on databases.\n",
        "in the following formats:\n",
        "Excel spreadsheet\n",
        "CSV file\n",
        "Text file\n",
        "Tensor\n",
        "DNA\n",
        "Videos\n",
        "Audio\n",
        "Images\n",
        "etc\n",
        "\n",
        "Machine Learning is a game of two parts\n",
        "1. Get data ready (into numerical representations).\n",
        "2. Build a model to learn patterns in that data\n",
        "\n",
        "To showcase this, we create some data using: LinearRegeression(y = w*x + b) formula to make a straight line with some known parameters."
      ],
      "metadata": {
        "id": "wGHJey719gYs"
      }
    },
    {
      "cell_type": "code",
      "source": [
        "# Create *known* parameters\n",
        "weight = 0.7\n",
        "bias = 0.3\n",
        "\n",
        "# Create data\n",
        "start = 0\n",
        "end = 1\n",
        "step = 0.02\n",
        "X = torch.arange(start, end, step).unsqueeze(dim=1)\n",
        "y = weight * X + bias\n",
        "\n",
        "X[:10], y[:10]"
      ],
      "metadata": {
        "id": "BE5to0oO9gWF",
        "colab": {
          "base_uri": "https://localhost:8080/"
        },
        "outputId": "a7a1fccb-a02e-42ae-ef52-fb36d30935b0"
      },
      "execution_count": 3,
      "outputs": [
        {
          "output_type": "execute_result",
          "data": {
            "text/plain": [
              "(tensor([[0.0000],\n",
              "         [0.0200],\n",
              "         [0.0400],\n",
              "         [0.0600],\n",
              "         [0.0800],\n",
              "         [0.1000],\n",
              "         [0.1200],\n",
              "         [0.1400],\n",
              "         [0.1600],\n",
              "         [0.1800]]),\n",
              " tensor([[0.3000],\n",
              "         [0.3140],\n",
              "         [0.3280],\n",
              "         [0.3420],\n",
              "         [0.3560],\n",
              "         [0.3700],\n",
              "         [0.3840],\n",
              "         [0.3980],\n",
              "         [0.4120],\n",
              "         [0.4260]]))"
            ]
          },
          "metadata": {},
          "execution_count": 3
        }
      ]
    },
    {
      "cell_type": "markdown",
      "source": [
        "### Splitting data into training and test sets (a very important concept in machine learning)\n",
        "\n",
        "Create a training and test split of the data"
      ],
      "metadata": {
        "id": "XLGWqWRR9gSy"
      }
    },
    {
      "cell_type": "code",
      "source": [
        "# Train/Test split\n",
        "train_split = int(0.8 * len(X))\n",
        "train_split"
      ],
      "metadata": {
        "colab": {
          "base_uri": "https://localhost:8080/"
        },
        "id": "5BOBb9a2hoL_",
        "outputId": "c9b4d2af-2d55-4955-986a-576b817b2d5f"
      },
      "execution_count": 4,
      "outputs": [
        {
          "output_type": "execute_result",
          "data": {
            "text/plain": [
              "40"
            ]
          },
          "metadata": {},
          "execution_count": 4
        }
      ]
    },
    {
      "cell_type": "code",
      "source": [
        "X_train, y_train = X[:train_split], y[:train_split]\n",
        "X_test, y_test = X[train_split:], y[train_split:]\n",
        "\n",
        "len(X_train), len(y_train), len(X_test), len(y_test)"
      ],
      "metadata": {
        "colab": {
          "base_uri": "https://localhost:8080/"
        },
        "id": "LDA93PY4hoJg",
        "outputId": "21739ba2-bd85-435f-ec00-0822c5bfa65e"
      },
      "execution_count": 5,
      "outputs": [
        {
          "output_type": "execute_result",
          "data": {
            "text/plain": [
              "(40, 40, 10, 10)"
            ]
          },
          "metadata": {},
          "execution_count": 5
        }
      ]
    },
    {
      "cell_type": "code",
      "source": [
        "X_train,  y_train"
      ],
      "metadata": {
        "colab": {
          "base_uri": "https://localhost:8080/"
        },
        "id": "jAgXkvkShoFx",
        "outputId": "20180363-e874-4eeb-cb76-9f30b7b65cf7"
      },
      "execution_count": 6,
      "outputs": [
        {
          "output_type": "execute_result",
          "data": {
            "text/plain": [
              "(tensor([[0.0000],\n",
              "         [0.0200],\n",
              "         [0.0400],\n",
              "         [0.0600],\n",
              "         [0.0800],\n",
              "         [0.1000],\n",
              "         [0.1200],\n",
              "         [0.1400],\n",
              "         [0.1600],\n",
              "         [0.1800],\n",
              "         [0.2000],\n",
              "         [0.2200],\n",
              "         [0.2400],\n",
              "         [0.2600],\n",
              "         [0.2800],\n",
              "         [0.3000],\n",
              "         [0.3200],\n",
              "         [0.3400],\n",
              "         [0.3600],\n",
              "         [0.3800],\n",
              "         [0.4000],\n",
              "         [0.4200],\n",
              "         [0.4400],\n",
              "         [0.4600],\n",
              "         [0.4800],\n",
              "         [0.5000],\n",
              "         [0.5200],\n",
              "         [0.5400],\n",
              "         [0.5600],\n",
              "         [0.5800],\n",
              "         [0.6000],\n",
              "         [0.6200],\n",
              "         [0.6400],\n",
              "         [0.6600],\n",
              "         [0.6800],\n",
              "         [0.7000],\n",
              "         [0.7200],\n",
              "         [0.7400],\n",
              "         [0.7600],\n",
              "         [0.7800]]),\n",
              " tensor([[0.3000],\n",
              "         [0.3140],\n",
              "         [0.3280],\n",
              "         [0.3420],\n",
              "         [0.3560],\n",
              "         [0.3700],\n",
              "         [0.3840],\n",
              "         [0.3980],\n",
              "         [0.4120],\n",
              "         [0.4260],\n",
              "         [0.4400],\n",
              "         [0.4540],\n",
              "         [0.4680],\n",
              "         [0.4820],\n",
              "         [0.4960],\n",
              "         [0.5100],\n",
              "         [0.5240],\n",
              "         [0.5380],\n",
              "         [0.5520],\n",
              "         [0.5660],\n",
              "         [0.5800],\n",
              "         [0.5940],\n",
              "         [0.6080],\n",
              "         [0.6220],\n",
              "         [0.6360],\n",
              "         [0.6500],\n",
              "         [0.6640],\n",
              "         [0.6780],\n",
              "         [0.6920],\n",
              "         [0.7060],\n",
              "         [0.7200],\n",
              "         [0.7340],\n",
              "         [0.7480],\n",
              "         [0.7620],\n",
              "         [0.7760],\n",
              "         [0.7900],\n",
              "         [0.8040],\n",
              "         [0.8180],\n",
              "         [0.8320],\n",
              "         [0.8460]]))"
            ]
          },
          "metadata": {},
          "execution_count": 6
        }
      ]
    },
    {
      "cell_type": "markdown",
      "source": [
        "Visualizing the data\n",
        "\n",
        "This is where data visualization comes in.\n",
        "\n",
        "Visualize the data."
      ],
      "metadata": {
        "id": "aK6Ez-vWhoDl"
      }
    },
    {
      "cell_type": "code",
      "source": [
        "def plot_predictions(train_data=X_train,\n",
        "                     train_labels=y_train,\n",
        "                     test_data=X_test,\n",
        "                     test_labels=y_test,\n",
        "                     predictions=None):\n",
        "  \"\"\"plots training data, test and compare predictions\n",
        "  \"\"\"\n",
        "  plt.figure(figsize=(10, 7))\n",
        "\n",
        "  # Plot training data in blue\n",
        "  plt.scatter(train_data, train_labels, c=\"b\", s=4, label=\"Training data\")\n",
        "\n",
        "  # Plot test data in green\n",
        "  plt.scatter(test_data, test_labels, c=\"g\", s=4, label=\"Testing data\")\n",
        "\n",
        "  if predictions is not None:\n",
        "    # Plot the predictions in red (predictions were made on the test data)\n",
        "    plt.scatter(test_data, predictions, c=\"r\", s=4, label=\"Predictions\")\n",
        "    # Show the legend\n",
        "  plt.legend(prop={\"size\": 14});"
      ],
      "metadata": {
        "id": "2AlYOrFBhoAw"
      },
      "execution_count": 7,
      "outputs": []
    },
    {
      "cell_type": "code",
      "source": [
        "plot_predictions()"
      ],
      "metadata": {
        "colab": {
          "base_uri": "https://localhost:8080/",
          "height": 599
        },
        "id": "_tf9u4LAhn-Z",
        "outputId": "f659d02b-2ba6-4ab7-e0b3-a5ae5dfd815d"
      },
      "execution_count": 8,
      "outputs": [
        {
          "output_type": "display_data",
          "data": {
            "text/plain": [
              "<Figure size 1000x700 with 1 Axes>"
            ],
            "image/png": "[encoded data removed]"
          },
          "metadata": {}
        }
      ]
    },
    {
      "cell_type": "markdown",
      "source": [
        "## Building a PyTorch model\n",
        "\n",
        "An exciting moment:\n",
        "We building classes throughout the course\n",
        "\n",
        "Resource to guide python classes:\n",
        "[Real python classes OOP in python](https://realpython.com/python3-object-oriented-programming/)\n",
        "\n",
        "What the model does:\n",
        "* Start with random values (weights and bia)\n",
        "* Look at training data and adjust the random values to better represent the data (i.e. better fit) into the weights and bias used in the formula.\n",
        "\n",
        "How it works:\n",
        "1. Gradient descent\n",
        "2. Update weights\n",
        "3. Loss\n",
        "4. Repeat\n",
        "5. Backpropagation (gradient descent)\n",
        "\n",
        "Resources:\n",
        "https://www.youtube.com/watch?v=Z_ikDlimN6A\n",
        "\n",
        "https://www.youtu.be.com/llg3gGewO5U"
      ],
      "metadata": {
        "id": "ML_i3LiThn7e"
      }
    },
    {
      "cell_type": "code",
      "source": [
        "# Create a Linear Regression model class\n",
        "\n",
        "# Containts all building blocks for neural networks\n",
        "class LinearRegressionModelV1(nn.Module): # <- almost everything in PyTorch is a nn.Module (think of this as neural network lego blocks) nn.module in pytorch\n",
        "  def __init__(self):\n",
        "    super().__init__()\n",
        "    # Initialize model parameters\n",
        "    self.weights = nn.Parameter(torch.randn(1, # start with a random weight and try to adjust to the ideal weight\n",
        "                                            requires_grad=True, # can parameter be updated via gradient descent?\n",
        "                                            dtype=torch.float)) # Pytorch default datatype is float 32\n",
        "    self.bias = nn.Parameter(torch.randn(1,\n",
        "                                         requires_grad=True,\n",
        "                                         dtype=torch.float))\n",
        "\n",
        "    # Forward method to define the computation in the model\n",
        "  def forward(self, x: torch.Tensor) -> torch.Tensor: # x is the input data\n",
        "        return self.weights * x + self.bias # this is the linear regression formula\n"
      ],
      "metadata": {
        "id": "Q82auDoohn41"
      },
      "execution_count": 9,
      "outputs": []
    },
    {
      "cell_type": "markdown",
      "source": [
        "import torch\n",
        "import torch.nn as nn\n",
        "\n",
        "class LinearRegressionModelV1(nn.Module):\n",
        "    def __init__(self):\n",
        "        super().__init__()\n",
        "        self.weights = nn.Parameter(torch.randn(1, requires_grad=True)) #requires_grad=True so they are trainable\n",
        "        self.bias = nn.Parameter(torch.randn(1, requires_grad=True))\n",
        "\n",
        "    # Define the forward method\n",
        "    def forward(self, x):\n",
        "        # Linear regression formula: y = weight * x + bias\n",
        "        return self.weights * x + self.bias"
      ],
      "metadata": {
        "id": "0z0qPpj_B6pO"
      }
    },
    {
      "cell_type": "markdown",
      "source": [
        "PyTorch model building essentials\n",
        "\n",
        "* torch.nn - contains all the building for computational graphs ( a neural network can be considered a computational graph)\n",
        "* torch.nn.Parameter - Parameters the model will learn - contains the weights and biases, often used in neural networks, a PyTorch layer from torch.nn will set this\n",
        "* torch.nn.Module - Base class for all neural networks (PyTorch modules, if sublass, overwrite forward())\n",
        "* torch.nn.functional - contains activation functions\n",
        "\n",
        "torch.optim - where the optimers in  PyTorch live, will help with gradient descent\n",
        "\n",
        "def forward() - defines the computation in the model.\n",
        "\n",
        "Essential Modules for PyTorch cheatsheet:\n",
        "\n",
        "https://pytorch.org/tutorials/beginner/ptcheat/.html\n",
        "https://www.learnpytorch.io/00_pytorch_fundamentals/,\n",
        "https://github.com/mrdbourke/pytorch-deep-learning/blob/main/00_pytorch_fundamentals_exercises.ipynb\n",
        "https://pytorch.org/tutorials/beginner/basics/buildmodel_tutorial.html"
      ],
      "metadata": {
        "id": "Fn-Mbzf3hn15"
      }
    },
    {
      "cell_type": "markdown",
      "source": [
        "Check content of PyTorch model\n",
        "\n",
        "check whats in the model\n",
        "\n",
        "check model parameters using `.parameters()`."
      ],
      "metadata": {
        "id": "WvjZU-zxhnyv"
      }
    },
    {
      "cell_type": "code",
      "source": [
        "# Create a random seed\n",
        "\n",
        "torch.manual_seed(42)\n",
        "\n",
        "# Create an instance of model (a subclass of nn.Module)\n",
        "# model_0 = LinearRegresssionModel() #typo here - class is called LinearRegressionModelV1\n",
        "model_0 = LinearRegressionModelV1()\n",
        "\n",
        "# Check the parameters\n",
        "list(model_0.parameters())"
      ],
      "metadata": {
        "id": "IMIDC05Shnu5",
        "colab": {
          "base_uri": "https://localhost:8080/"
        },
        "outputId": "b9a28cc2-083e-4039-f721-a93239399b60"
      },
      "execution_count": 10,
      "outputs": [
        {
          "output_type": "execute_result",
          "data": {
            "text/plain": [
              "[Parameter containing:\n",
              " tensor([0.3367], requires_grad=True),\n",
              " Parameter containing:\n",
              " tensor([0.1288], requires_grad=True)]"
            ]
          },
          "metadata": {},
          "execution_count": 10
        }
      ]
    },
    {
      "cell_type": "code",
      "source": [
        "# List of parameters in the model\n",
        "model_0.state_dict()"
      ],
      "metadata": {
        "id": "-vLT4GpzhnOg",
        "colab": {
          "base_uri": "https://localhost:8080/"
        },
        "outputId": "8273c183-7fd8-4fa1-e027-d6bc79e376d7"
      },
      "execution_count": 11,
      "outputs": [
        {
          "output_type": "execute_result",
          "data": {
            "text/plain": [
              "OrderedDict([('weights', tensor([0.3367])), ('bias', tensor([0.1288]))])"
            ]
          },
          "metadata": {},
          "execution_count": 11
        }
      ]
    },
    {
      "cell_type": "code",
      "source": [
        "weight, bias"
      ],
      "metadata": {
        "id": "dnLs4gTC9gP-",
        "colab": {
          "base_uri": "https://localhost:8080/"
        },
        "outputId": "d499a423-ec92-4892-8773-8aa84684ae30"
      },
      "execution_count": 12,
      "outputs": [
        {
          "output_type": "execute_result",
          "data": {
            "text/plain": [
              "(0.7, 0.3)"
            ]
          },
          "metadata": {},
          "execution_count": 12
        }
      ]
    },
    {
      "cell_type": "markdown",
      "source": [
        "Make prediction using `torch.inference_mode()`\n",
        "\n",
        "To check model's predicting power, see how well the model predicts on the `test data`.\n",
        "\n",
        "when data is passed its going to run through the forward() method."
      ],
      "metadata": {
        "id": "OS40PiRk9gMT"
      }
    },
    {
      "cell_type": "code",
      "source": [
        "# Make predictions with model\n",
        "\n",
        "with torch.inference_mode():\n",
        "  y_preds = model_0(X_test)\n",
        "y_preds"
      ],
      "metadata": {
        "id": "0bDIZ1JU9gJH",
        "colab": {
          "base_uri": "https://localhost:8080/"
        },
        "outputId": "be9b2104-267d-48a1-adab-36449330e6a5"
      },
      "execution_count": 13,
      "outputs": [
        {
          "output_type": "execute_result",
          "data": {
            "text/plain": [
              "tensor([[0.3982],\n",
              "        [0.4049],\n",
              "        [0.4116],\n",
              "        [0.4184],\n",
              "        [0.4251],\n",
              "        [0.4318],\n",
              "        [0.4386],\n",
              "        [0.4453],\n",
              "        [0.4520],\n",
              "        [0.4588]])"
            ]
          },
          "metadata": {},
          "execution_count": 13
        }
      ]
    },
    {
      "cell_type": "code",
      "source": [
        "y_test"
      ],
      "metadata": {
        "colab": {
          "base_uri": "https://localhost:8080/"
        },
        "id": "7jE2firkBZ73",
        "outputId": "ec959a49-a498-49f3-87b2-703c5e12d7a7"
      },
      "execution_count": 14,
      "outputs": [
        {
          "output_type": "execute_result",
          "data": {
            "text/plain": [
              "tensor([[0.8600],\n",
              "        [0.8740],\n",
              "        [0.8880],\n",
              "        [0.9020],\n",
              "        [0.9160],\n",
              "        [0.9300],\n",
              "        [0.9440],\n",
              "        [0.9580],\n",
              "        [0.9720],\n",
              "        [0.9860]])"
            ]
          },
          "metadata": {},
          "execution_count": 14
        }
      ]
    },
    {
      "cell_type": "code",
      "source": [
        "plot_predictions(predictions=y_preds)"
      ],
      "metadata": {
        "colab": {
          "base_uri": "https://localhost:8080/",
          "height": 599
        },
        "id": "GMJ3kt2cDxL6",
        "outputId": "104270bd-ad31-4a86-8b9b-2618db4aeea6"
      },
      "execution_count": 15,
      "outputs": [
        {
          "output_type": "display_data",
          "data": {
            "text/plain": [
              "<Figure size 1000x700 with 1 Axes>"
            ],
            "image/png": "[encoded data removed]"
          },
          "metadata": {}
        }
      ]
    },
    {
      "cell_type": "markdown",
      "source": [
        "Train model\n",
        "\n",
        "The idea for training is from some unknown parameters to some known parameters or from a poor representation of data to a better representation of the data\n",
        "\n",
        "How to measure how well the model is performing?\n",
        "\n",
        "`Use Loss function`: Also called `cost function` or criterian in different areas. A function to measure how wrong the model is predicting on the ideal outputs.\n",
        "\n",
        "`Optimizer`: Takes into account the loss of a model and adjusts the models parameters (i.e weights and biases) to try and make the loss less. i.e to improve the losss function.\n",
        "\n",
        "Specifically for pytorch, there is need for :\n",
        "\n",
        "- training loop\n",
        "- test loop\n",
        "\n",
        "- Loss function: https://pytorch.org/docs/stable/nn.html#loss-functions\n",
        "- Optimizer: https://pytorch.org/docs/stable/optim.html\n"
      ],
      "metadata": {
        "id": "H633fQJuE2fz"
      }
    },
    {
      "cell_type": "code",
      "source": [
        "list(model_0.parameters())\n",
        "\n",
        "#[Parameter containing:\n",
        "# tensor([0.3367], requires_grad=True), Parameter containing:\n",
        "# tensor([0.1288], requires_grad=True)]\n"
      ],
      "metadata": {
        "colab": {
          "base_uri": "https://localhost:8080/"
        },
        "id": "A0hLAU7xzJbw",
        "outputId": "0cc02e65-c7f9-4a3b-fc55-e187dc853a5a"
      },
      "execution_count": 16,
      "outputs": [
        {
          "output_type": "execute_result",
          "data": {
            "text/plain": [
              "[Parameter containing:\n",
              " tensor([0.3367], requires_grad=True),\n",
              " Parameter containing:\n",
              " tensor([0.1288], requires_grad=True)]"
            ]
          },
          "metadata": {},
          "execution_count": 16
        }
      ]
    },
    {
      "cell_type": "code",
      "source": [
        "model_0.state_dict()"
      ],
      "metadata": {
        "colab": {
          "base_uri": "https://localhost:8080/"
        },
        "id": "qJuX0vaB0-hZ",
        "outputId": "159594a6-1853-453a-f470-485ddf99ed9a"
      },
      "execution_count": 17,
      "outputs": [
        {
          "output_type": "execute_result",
          "data": {
            "text/plain": [
              "OrderedDict([('weights', tensor([0.3367])), ('bias', tensor([0.1288]))])"
            ]
          },
          "metadata": {},
          "execution_count": 17
        }
      ]
    },
    {
      "cell_type": "code",
      "source": [
        "# Setup a loss function\n",
        "loss_fn = nn.L1Loss() # MAE loss is same as L1Loss\n",
        "\n",
        "# Setup an optimizer = stochastic gradient descent (SGD) - (Takes into account the loss of the model)\n",
        "optimizer = torch.optim.SGD(params=model_0.parameters(),\n",
        "                            lr=0.01) # lr = learning rate = possibly the most important hyperparameter"
      ],
      "metadata": {
        "id": "llze4hAS1LuC"
      },
      "execution_count": 18,
      "outputs": []
    },
    {
      "cell_type": "markdown",
      "source": [
        "Which loss function to use? = it will depend on the problem you are trying to solve.  \n",
        "\n",
        "Which optimizer to use? = it will depend on the problem you are trying to solve. As its problem speciific."
      ],
      "metadata": {
        "id": "4FwtNkwz3KcH"
      }
    },
    {
      "cell_type": "markdown",
      "source": [
        "Build a training loop in PyTorch\n",
        "\n",
        "What is needed in a training loop:\n",
        "- Loop through the data\n",
        "- Forward pass : Involves data moving through the model to make predictions also called forward propagation\n",
        "- Calculate the loss: Compare forward pass predictions to the ground truth labels\n",
        "- Optimizer zero grad\n",
        "- Loss backward: Move backwards through the network to calculate the gradients of each parameter of model with respect to the loss.\n",
        "- Optimizer step: Adjust the parameters by taking a small step in the right direction."
      ],
      "metadata": {
        "id": "aP9qpg633q0L"
      }
    },
    {
      "cell_type": "code",
      "source": [
        "torch.manual_seed(42)\n",
        "\n",
        "# Set the number of epochs (a hyperparameter)\n",
        "# An Epoch is one loop through the data... (It is a hypeparameter as its been set)\n",
        "epochs = 1\n",
        "\n",
        "# loop through data\n",
        "for epoch in range(epochs):\n",
        "  #Set model to training mode\n",
        "  model_0.train()    # Set model to training mode in PyTorch, require gradients\n",
        "\n",
        "\n",
        "  # Forward pass: Perform forward pass in the training model\n",
        "  y_pred = model_0(X_train)\n",
        "\n",
        "  # Calculate the loss value (difference between model prediction and training values)\n",
        "  loss = loss_fn(y_pred, y_train)\n",
        "\n",
        "  # Optimizer zero grad; Zero optimizer gradients, they accumulate by default\n",
        "  optimizer.zero_grad()\n",
        "\n",
        "  # Perform Backpropagation on the loss with respect to the parameters of the model\n",
        "  loss.backward()\n",
        "\n",
        "  # Step the optimizer (perform gradient descent) step the optimizer\n",
        "  optimizer.step()  # optimizer changes through the loop\n",
        "\n",
        "  # Testing\n",
        "  model_0.eval() # Set model to evaluation mode in PyTorch, no gradients(turn off gradients tracking)\n",
        "\n",
        "  # Print out model state_dict()\n",
        "  print(f\"\\nEpoch: {epoch}\\n----------\")\n",
        "  print(f\"weight: {model_0.state_dict()['weights']}\\nbias: {model_0.state_dict()['bias']}\\nloss: {loss}\")\n"
      ],
      "metadata": {
        "colab": {
          "base_uri": "https://localhost:8080/"
        },
        "id": "emRCyRti5Q0A",
        "outputId": "254c3552-14ae-411d-84b8-6faee338dda2"
      },
      "execution_count": 19,
      "outputs": [
        {
          "output_type": "stream",
          "name": "stdout",
          "text": [
            "\n",
            "Epoch: 0\n",
            "----------\n",
            "weight: tensor([0.3406])\n",
            "bias: tensor([0.1388])\n",
            "loss: 0.31288138031959534\n"
          ]
        }
      ]
    },
    {
      "cell_type": "code",
      "source": [
        "with torch.inference_mode():\n",
        "  y_preds_new = model_0(X_test)\n",
        "  print(y_preds_new)"
      ],
      "metadata": {
        "colab": {
          "base_uri": "https://localhost:8080/"
        },
        "id": "WW8pcufQjdcj",
        "outputId": "4c348a70-ec17-4e21-bb81-2704b1f05e8c"
      },
      "execution_count": 20,
      "outputs": [
        {
          "output_type": "stream",
          "name": "stdout",
          "text": [
            "tensor([[0.4113],\n",
            "        [0.4181],\n",
            "        [0.4249],\n",
            "        [0.4317],\n",
            "        [0.4385],\n",
            "        [0.4453],\n",
            "        [0.4522],\n",
            "        [0.4590],\n",
            "        [0.4658],\n",
            "        [0.4726]])\n"
          ]
        }
      ]
    },
    {
      "cell_type": "code",
      "source": [
        "model_0.state_dict()"
      ],
      "metadata": {
        "colab": {
          "base_uri": "https://localhost:8080/"
        },
        "id": "LFC50DeD8UV7",
        "outputId": "bc46d0e8-4823-4be5-e830-fe465a8037e9"
      },
      "execution_count": 21,
      "outputs": [
        {
          "output_type": "execute_result",
          "data": {
            "text/plain": [
              "OrderedDict([('weights', tensor([0.3406])), ('bias', tensor([0.1388]))])"
            ]
          },
          "metadata": {},
          "execution_count": 21
        }
      ]
    },
    {
      "cell_type": "code",
      "source": [
        "model_0.state_dict()"
      ],
      "metadata": {
        "colab": {
          "base_uri": "https://localhost:8080/"
        },
        "id": "AGFhsTf_d3pB",
        "outputId": "6373e277-9da3-47d3-e5a2-c62a3e41d4c9"
      },
      "execution_count": 22,
      "outputs": [
        {
          "output_type": "execute_result",
          "data": {
            "text/plain": [
              "OrderedDict([('weights', tensor([0.3406])), ('bias', tensor([0.1388]))])"
            ]
          },
          "metadata": {},
          "execution_count": 22
        }
      ]
    },
    {
      "cell_type": "code",
      "source": [
        "plot_predictions(predictions=y_preds)"
      ],
      "metadata": {
        "colab": {
          "base_uri": "https://localhost:8080/",
          "height": 599
        },
        "id": "u36OZ_Qid3mg",
        "outputId": "4c077977-b6bc-4957-9bb8-214a06d5c10b"
      },
      "execution_count": 23,
      "outputs": [
        {
          "output_type": "display_data",
          "data": {
            "text/plain": [
              "<Figure size 1000x700 with 1 Axes>"
            ],
            "image/png": "[encoded data removed]"
          },
          "metadata": {}
        }
      ]
    },
    {
      "cell_type": "code",
      "source": [
        "plot_predictions(predictions=y_preds_new)"
      ],
      "metadata": {
        "colab": {
          "base_uri": "https://localhost:8080/",
          "height": 599
        },
        "id": "tbB9RhLxd3jn",
        "outputId": "e034df49-15b1-4ee9-de5c-fc9578a71d77"
      },
      "execution_count": 24,
      "outputs": [
        {
          "output_type": "display_data",
          "data": {
            "text/plain": [
              "<Figure size 1000x700 with 1 Axes>"
            ],
            "image/png": "[encoded data removed]"
          },
          "metadata": {}
        }
      ]
    },
    {
      "cell_type": "markdown",
      "source": [
        "# Changing the Epochs to a 100: to see how closer the predictions will get."
      ],
      "metadata": {
        "id": "ZM0kcI_td3gr"
      }
    },
    {
      "cell_type": "code",
      "source": [
        "torch.manual_seed(42)\n",
        "\n",
        "# Set the number of epochs (a hyperparameter)\n",
        "# An Epoch is one loop through the data... (It is a hypeparameter as its been set)\n",
        "epochs = 100\n",
        "\n",
        "# loop through data\n",
        "for epoch in range(epochs):\n",
        "  #Set model to training mode\n",
        "  model_0.train()    # Set model to training mode in PyTorch, require gradients\n",
        "\n",
        "\n",
        "  # Forward pass: Perform forward pass in the training model\n",
        "  y_pred = model_0(X_train)\n",
        "\n",
        "  # Calculate the loss value (difference between model prediction and training values)\n",
        "  loss = loss_fn(y_pred, y_train)\n",
        "\n",
        "  # Optimizer zero grad; Zero optimizer gradients, they accumulate by default\n",
        "  optimizer.zero_grad()\n",
        "\n",
        "  # Perform Backpropagation on the loss with respect to the parameters of the model\n",
        "  loss.backward()\n",
        "\n",
        "  # Step the optimizer (perform gradient descent) step the optimizer\n",
        "  optimizer.step()  # optimizer changes through the loop\n",
        "\n",
        "  # Testing\n",
        "  model_0.eval() # Set model to evaluation mode in PyTorch, no gradients(turn off gradients tracking)\n",
        "\n",
        "  # Print out model state_dict()\n",
        "  print(f\"\\nEpoch: {epoch}\\n----------\")\n",
        "  print(f\"weight: {model_0.state_dict()['weights']}\\nbias: {model_0.state_dict()['bias']}\\nloss: {loss}\")\n"
      ],
      "metadata": {
        "colab": {
          "base_uri": "https://localhost:8080/"
        },
        "id": "LaQjKbfBd3dh",
        "outputId": "f1e757d7-f10b-45ba-b4b4-6fd69363ee61"
      },
      "execution_count": 25,
      "outputs": [
        {
          "output_type": "stream",
          "name": "stdout",
          "text": [
            "\n",
            "Epoch: 0\n",
            "----------\n",
            "weight: tensor([0.3445])\n",
            "bias: tensor([0.1488])\n",
            "loss: 0.3013603389263153\n",
            "\n",
            "Epoch: 1\n",
            "----------\n",
            "weight: tensor([0.3484])\n",
            "bias: tensor([0.1588])\n",
            "loss: 0.28983935713768005\n",
            "\n",
            "Epoch: 2\n",
            "----------\n",
            "weight: tensor([0.3523])\n",
            "bias: tensor([0.1688])\n",
            "loss: 0.2783183455467224\n",
            "\n",
            "Epoch: 3\n",
            "----------\n",
            "weight: tensor([0.3562])\n",
            "bias: tensor([0.1788])\n",
            "loss: 0.26679736375808716\n",
            "\n",
            "Epoch: 4\n",
            "----------\n",
            "weight: tensor([0.3601])\n",
            "bias: tensor([0.1888])\n",
            "loss: 0.2552763521671295\n",
            "\n",
            "Epoch: 5\n",
            "----------\n",
            "weight: tensor([0.3640])\n",
            "bias: tensor([0.1988])\n",
            "loss: 0.24375534057617188\n",
            "\n",
            "Epoch: 6\n",
            "----------\n",
            "weight: tensor([0.3679])\n",
            "bias: tensor([0.2088])\n",
            "loss: 0.23223432898521423\n",
            "\n",
            "Epoch: 7\n",
            "----------\n",
            "weight: tensor([0.3718])\n",
            "bias: tensor([0.2188])\n",
            "loss: 0.22071333229541779\n",
            "\n",
            "Epoch: 8\n",
            "----------\n",
            "weight: tensor([0.3757])\n",
            "bias: tensor([0.2288])\n",
            "loss: 0.20919232070446014\n",
            "\n",
            "Epoch: 9\n",
            "----------\n",
            "weight: tensor([0.3796])\n",
            "bias: tensor([0.2388])\n",
            "loss: 0.1976713240146637\n",
            "\n",
            "Epoch: 10\n",
            "----------\n",
            "weight: tensor([0.3835])\n",
            "bias: tensor([0.2488])\n",
            "loss: 0.18615034222602844\n",
            "\n",
            "Epoch: 11\n",
            "----------\n",
            "weight: tensor([0.3874])\n",
            "bias: tensor([0.2588])\n",
            "loss: 0.1746293306350708\n",
            "\n",
            "Epoch: 12\n",
            "----------\n",
            "weight: tensor([0.3913])\n",
            "bias: tensor([0.2688])\n",
            "loss: 0.16310831904411316\n",
            "\n",
            "Epoch: 13\n",
            "----------\n",
            "weight: tensor([0.3952])\n",
            "bias: tensor([0.2788])\n",
            "loss: 0.1515873372554779\n",
            "\n",
            "Epoch: 14\n",
            "----------\n",
            "weight: tensor([0.3991])\n",
            "bias: tensor([0.2888])\n",
            "loss: 0.14006635546684265\n",
            "\n",
            "Epoch: 15\n",
            "----------\n",
            "weight: tensor([0.4030])\n",
            "bias: tensor([0.2988])\n",
            "loss: 0.1285453587770462\n",
            "\n",
            "Epoch: 16\n",
            "----------\n",
            "weight: tensor([0.4069])\n",
            "bias: tensor([0.3088])\n",
            "loss: 0.11702437698841095\n",
            "\n",
            "Epoch: 17\n",
            "----------\n",
            "weight: tensor([0.4108])\n",
            "bias: tensor([0.3178])\n",
            "loss: 0.1060912236571312\n",
            "\n",
            "Epoch: 18\n",
            "----------\n",
            "weight: tensor([0.4146])\n",
            "bias: tensor([0.3258])\n",
            "loss: 0.09681284427642822\n",
            "\n",
            "Epoch: 19\n",
            "----------\n",
            "weight: tensor([0.4184])\n",
            "bias: tensor([0.3333])\n",
            "loss: 0.08908725529909134\n",
            "\n",
            "Epoch: 20\n",
            "----------\n",
            "weight: tensor([0.4222])\n",
            "bias: tensor([0.3403])\n",
            "loss: 0.08227583020925522\n",
            "\n",
            "Epoch: 21\n",
            "----------\n",
            "weight: tensor([0.4258])\n",
            "bias: tensor([0.3463])\n",
            "loss: 0.07638873159885406\n",
            "\n",
            "Epoch: 22\n",
            "----------\n",
            "weight: tensor([0.4293])\n",
            "bias: tensor([0.3518])\n",
            "loss: 0.07160007208585739\n",
            "\n",
            "Epoch: 23\n",
            "----------\n",
            "weight: tensor([0.4328])\n",
            "bias: tensor([0.3568])\n",
            "loss: 0.06747635453939438\n",
            "\n",
            "Epoch: 24\n",
            "----------\n",
            "weight: tensor([0.4361])\n",
            "bias: tensor([0.3613])\n",
            "loss: 0.06395438313484192\n",
            "\n",
            "Epoch: 25\n",
            "----------\n",
            "weight: tensor([0.4394])\n",
            "bias: tensor([0.3653])\n",
            "loss: 0.06097004935145378\n",
            "\n",
            "Epoch: 26\n",
            "----------\n",
            "weight: tensor([0.4425])\n",
            "bias: tensor([0.3688])\n",
            "loss: 0.05845819041132927\n",
            "\n",
            "Epoch: 27\n",
            "----------\n",
            "weight: tensor([0.4455])\n",
            "bias: tensor([0.3718])\n",
            "loss: 0.05635259300470352\n",
            "\n",
            "Epoch: 28\n",
            "----------\n",
            "weight: tensor([0.4483])\n",
            "bias: tensor([0.3743])\n",
            "loss: 0.0545857772231102\n",
            "\n",
            "Epoch: 29\n",
            "----------\n",
            "weight: tensor([0.4512])\n",
            "bias: tensor([0.3768])\n",
            "loss: 0.053148526698350906\n",
            "\n",
            "Epoch: 30\n",
            "----------\n",
            "weight: tensor([0.4539])\n",
            "bias: tensor([0.3788])\n",
            "loss: 0.05181945487856865\n",
            "\n",
            "Epoch: 31\n",
            "----------\n",
            "weight: tensor([0.4564])\n",
            "bias: tensor([0.3803])\n",
            "loss: 0.05069301277399063\n",
            "\n",
            "Epoch: 32\n",
            "----------\n",
            "weight: tensor([0.4590])\n",
            "bias: tensor([0.3818])\n",
            "loss: 0.0498228520154953\n",
            "\n",
            "Epoch: 33\n",
            "----------\n",
            "weight: tensor([0.4615])\n",
            "bias: tensor([0.3833])\n",
            "loss: 0.04895269125699997\n",
            "\n",
            "Epoch: 34\n",
            "----------\n",
            "weight: tensor([0.4639])\n",
            "bias: tensor([0.3843])\n",
            "loss: 0.04819351062178612\n",
            "\n",
            "Epoch: 35\n",
            "----------\n",
            "weight: tensor([0.4662])\n",
            "bias: tensor([0.3853])\n",
            "loss: 0.047531817108392715\n",
            "\n",
            "Epoch: 36\n",
            "----------\n",
            "weight: tensor([0.4684])\n",
            "bias: tensor([0.3858])\n",
            "loss: 0.04692792519927025\n",
            "\n",
            "Epoch: 37\n",
            "----------\n",
            "weight: tensor([0.4706])\n",
            "bias: tensor([0.3863])\n",
            "loss: 0.04642331600189209\n",
            "\n",
            "Epoch: 38\n",
            "----------\n",
            "weight: tensor([0.4728])\n",
            "bias: tensor([0.3868])\n",
            "loss: 0.04591871052980423\n",
            "\n",
            "Epoch: 39\n",
            "----------\n",
            "weight: tensor([0.4748])\n",
            "bias: tensor([0.3868])\n",
            "loss: 0.04543796554207802\n",
            "\n",
            "Epoch: 40\n",
            "----------\n",
            "weight: tensor([0.4768])\n",
            "bias: tensor([0.3868])\n",
            "loss: 0.04503796249628067\n",
            "\n",
            "Epoch: 41\n",
            "----------\n",
            "weight: tensor([0.4788])\n",
            "bias: tensor([0.3868])\n",
            "loss: 0.04463795945048332\n",
            "\n",
            "Epoch: 42\n",
            "----------\n",
            "weight: tensor([0.4808])\n",
            "bias: tensor([0.3868])\n",
            "loss: 0.04423796385526657\n",
            "\n",
            "Epoch: 43\n",
            "----------\n",
            "weight: tensor([0.4828])\n",
            "bias: tensor([0.3868])\n",
            "loss: 0.04383796453475952\n",
            "\n",
            "Epoch: 44\n",
            "----------\n",
            "weight: tensor([0.4848])\n",
            "bias: tensor([0.3868])\n",
            "loss: 0.04343796148896217\n",
            "\n",
            "Epoch: 45\n",
            "----------\n",
            "weight: tensor([0.4866])\n",
            "bias: tensor([0.3863])\n",
            "loss: 0.043074630200862885\n",
            "\n",
            "Epoch: 46\n",
            "----------\n",
            "weight: tensor([0.4884])\n",
            "bias: tensor([0.3858])\n",
            "loss: 0.04272563382983208\n",
            "\n",
            "Epoch: 47\n",
            "----------\n",
            "weight: tensor([0.4902])\n",
            "bias: tensor([0.3853])\n",
            "loss: 0.04237663000822067\n",
            "\n",
            "Epoch: 48\n",
            "----------\n",
            "weight: tensor([0.4920])\n",
            "bias: tensor([0.3848])\n",
            "loss: 0.04202762991189957\n",
            "\n",
            "Epoch: 49\n",
            "----------\n",
            "weight: tensor([0.4938])\n",
            "bias: tensor([0.3843])\n",
            "loss: 0.04167863354086876\n",
            "\n",
            "Epoch: 50\n",
            "----------\n",
            "weight: tensor([0.4956])\n",
            "bias: tensor([0.3838])\n",
            "loss: 0.04132963344454765\n",
            "\n",
            "Epoch: 51\n",
            "----------\n",
            "weight: tensor([0.4974])\n",
            "bias: tensor([0.3833])\n",
            "loss: 0.04098063334822655\n",
            "\n",
            "Epoch: 52\n",
            "----------\n",
            "weight: tensor([0.4992])\n",
            "bias: tensor([0.3828])\n",
            "loss: 0.04063162952661514\n",
            "\n",
            "Epoch: 53\n",
            "----------\n",
            "weight: tensor([0.5010])\n",
            "bias: tensor([0.3823])\n",
            "loss: 0.040282636880874634\n",
            "\n",
            "Epoch: 54\n",
            "----------\n",
            "weight: tensor([0.5028])\n",
            "bias: tensor([0.3818])\n",
            "loss: 0.039933640509843826\n",
            "\n",
            "Epoch: 55\n",
            "----------\n",
            "weight: tensor([0.5046])\n",
            "bias: tensor([0.3813])\n",
            "loss: 0.03958464413881302\n",
            "\n",
            "Epoch: 56\n",
            "----------\n",
            "weight: tensor([0.5064])\n",
            "bias: tensor([0.3808])\n",
            "loss: 0.03923564404249191\n",
            "\n",
            "Epoch: 57\n",
            "----------\n",
            "weight: tensor([0.5082])\n",
            "bias: tensor([0.3803])\n",
            "loss: 0.03888664394617081\n",
            "\n",
            "Epoch: 58\n",
            "----------\n",
            "weight: tensor([0.5100])\n",
            "bias: tensor([0.3798])\n",
            "loss: 0.0385376438498497\n",
            "\n",
            "Epoch: 59\n",
            "----------\n",
            "weight: tensor([0.5116])\n",
            "bias: tensor([0.3788])\n",
            "loss: 0.03818932920694351\n",
            "\n",
            "Epoch: 60\n",
            "----------\n",
            "weight: tensor([0.5134])\n",
            "bias: tensor([0.3783])\n",
            "loss: 0.03785243630409241\n",
            "\n",
            "Epoch: 61\n",
            "----------\n",
            "weight: tensor([0.5152])\n",
            "bias: tensor([0.3778])\n",
            "loss: 0.0375034399330616\n",
            "\n",
            "Epoch: 62\n",
            "----------\n",
            "weight: tensor([0.5168])\n",
            "bias: tensor([0.3768])\n",
            "loss: 0.037164121866226196\n",
            "\n",
            "Epoch: 63\n",
            "----------\n",
            "weight: tensor([0.5186])\n",
            "bias: tensor([0.3763])\n",
            "loss: 0.03681822493672371\n",
            "\n",
            "Epoch: 64\n",
            "----------\n",
            "weight: tensor([0.5202])\n",
            "bias: tensor([0.3753])\n",
            "loss: 0.03647511452436447\n",
            "\n",
            "Epoch: 65\n",
            "----------\n",
            "weight: tensor([0.5220])\n",
            "bias: tensor([0.3748])\n",
            "loss: 0.03613303601741791\n",
            "\n",
            "Epoch: 66\n",
            "----------\n",
            "weight: tensor([0.5236])\n",
            "bias: tensor([0.3738])\n",
            "loss: 0.03578609973192215\n",
            "\n",
            "Epoch: 67\n",
            "----------\n",
            "weight: tensor([0.5254])\n",
            "bias: tensor([0.3733])\n",
            "loss: 0.03544783592224121\n",
            "\n",
            "Epoch: 68\n",
            "----------\n",
            "weight: tensor([0.5272])\n",
            "bias: tensor([0.3728])\n",
            "loss: 0.035098835825920105\n",
            "\n",
            "Epoch: 69\n",
            "----------\n",
            "weight: tensor([0.5288])\n",
            "bias: tensor([0.3718])\n",
            "loss: 0.03476089984178543\n",
            "\n",
            "Epoch: 70\n",
            "----------\n",
            "weight: tensor([0.5306])\n",
            "bias: tensor([0.3713])\n",
            "loss: 0.03441363573074341\n",
            "\n",
            "Epoch: 71\n",
            "----------\n",
            "weight: tensor([0.5322])\n",
            "bias: tensor([0.3703])\n",
            "loss: 0.03407188132405281\n",
            "\n",
            "Epoch: 72\n",
            "----------\n",
            "weight: tensor([0.5340])\n",
            "bias: tensor([0.3698])\n",
            "loss: 0.03372843936085701\n",
            "\n",
            "Epoch: 73\n",
            "----------\n",
            "weight: tensor([0.5355])\n",
            "bias: tensor([0.3688])\n",
            "loss: 0.03338287025690079\n",
            "\n",
            "Epoch: 74\n",
            "----------\n",
            "weight: tensor([0.5373])\n",
            "bias: tensor([0.3683])\n",
            "loss: 0.033043231815099716\n",
            "\n",
            "Epoch: 75\n",
            "----------\n",
            "weight: tensor([0.5391])\n",
            "bias: tensor([0.3678])\n",
            "loss: 0.03269423171877861\n",
            "\n",
            "Epoch: 76\n",
            "----------\n",
            "weight: tensor([0.5407])\n",
            "bias: tensor([0.3668])\n",
            "loss: 0.032357655465602875\n",
            "\n",
            "Epoch: 77\n",
            "----------\n",
            "weight: tensor([0.5425])\n",
            "bias: tensor([0.3663])\n",
            "loss: 0.03200903534889221\n",
            "\n",
            "Epoch: 78\n",
            "----------\n",
            "weight: tensor([0.5441])\n",
            "bias: tensor([0.3653])\n",
            "loss: 0.03166864812374115\n",
            "\n",
            "Epoch: 79\n",
            "----------\n",
            "weight: tensor([0.5459])\n",
            "bias: tensor([0.3648])\n",
            "loss: 0.03132382780313492\n",
            "\n",
            "Epoch: 80\n",
            "----------\n",
            "weight: tensor([0.5475])\n",
            "bias: tensor([0.3638])\n",
            "loss: 0.030979642644524574\n",
            "\n",
            "Epoch: 81\n",
            "----------\n",
            "weight: tensor([0.5493])\n",
            "bias: tensor([0.3633])\n",
            "loss: 0.030638623982667923\n",
            "\n",
            "Epoch: 82\n",
            "----------\n",
            "weight: tensor([0.5509])\n",
            "bias: tensor([0.3623])\n",
            "loss: 0.0302906334400177\n",
            "\n",
            "Epoch: 83\n",
            "----------\n",
            "weight: tensor([0.5527])\n",
            "bias: tensor([0.3618])\n",
            "loss: 0.029953425750136375\n",
            "\n",
            "Epoch: 84\n",
            "----------\n",
            "weight: tensor([0.5545])\n",
            "bias: tensor([0.3613])\n",
            "loss: 0.02960442565381527\n",
            "\n",
            "Epoch: 85\n",
            "----------\n",
            "weight: tensor([0.5561])\n",
            "bias: tensor([0.3603])\n",
            "loss: 0.029265418648719788\n",
            "\n",
            "Epoch: 86\n",
            "----------\n",
            "weight: tensor([0.5579])\n",
            "bias: tensor([0.3598])\n",
            "loss: 0.028919223695993423\n",
            "\n",
            "Epoch: 87\n",
            "----------\n",
            "weight: tensor([0.5595])\n",
            "bias: tensor([0.3588])\n",
            "loss: 0.028576409444212914\n",
            "\n",
            "Epoch: 88\n",
            "----------\n",
            "weight: tensor([0.5613])\n",
            "bias: tensor([0.3583])\n",
            "loss: 0.028234025463461876\n",
            "\n",
            "Epoch: 89\n",
            "----------\n",
            "weight: tensor([0.5629])\n",
            "bias: tensor([0.3573])\n",
            "loss: 0.02788739837706089\n",
            "\n",
            "Epoch: 90\n",
            "----------\n",
            "weight: tensor([0.5647])\n",
            "bias: tensor([0.3568])\n",
            "loss: 0.02754882536828518\n",
            "\n",
            "Epoch: 91\n",
            "----------\n",
            "weight: tensor([0.5665])\n",
            "bias: tensor([0.3563])\n",
            "loss: 0.027199819684028625\n",
            "\n",
            "Epoch: 92\n",
            "----------\n",
            "weight: tensor([0.5681])\n",
            "bias: tensor([0.3553])\n",
            "loss: 0.026862185448408127\n",
            "\n",
            "Epoch: 93\n",
            "----------\n",
            "weight: tensor([0.5699])\n",
            "bias: tensor([0.3548])\n",
            "loss: 0.02651461586356163\n",
            "\n",
            "Epoch: 94\n",
            "----------\n",
            "weight: tensor([0.5715])\n",
            "bias: tensor([0.3538])\n",
            "loss: 0.026173178106546402\n",
            "\n",
            "Epoch: 95\n",
            "----------\n",
            "weight: tensor([0.5733])\n",
            "bias: tensor([0.3533])\n",
            "loss: 0.025829419493675232\n",
            "\n",
            "Epoch: 96\n",
            "----------\n",
            "weight: tensor([0.5748])\n",
            "bias: tensor([0.3523])\n",
            "loss: 0.02548416517674923\n",
            "\n",
            "Epoch: 97\n",
            "----------\n",
            "weight: tensor([0.5766])\n",
            "bias: tensor([0.3518])\n",
            "loss: 0.025144213810563087\n",
            "\n",
            "Epoch: 98\n",
            "----------\n",
            "weight: tensor([0.5784])\n",
            "bias: tensor([0.3513])\n",
            "loss: 0.02479521557688713\n",
            "\n",
            "Epoch: 99\n",
            "----------\n",
            "weight: tensor([0.5800])\n",
            "bias: tensor([0.3503])\n",
            "loss: 0.024458957836031914\n"
          ]
        }
      ]
    },
    {
      "cell_type": "code",
      "source": [
        "with torch.inference_mode():\n",
        "  y_preds_new = model_0(X_test)\n",
        "  print(y_preds_new)"
      ],
      "metadata": {
        "colab": {
          "base_uri": "https://localhost:8080/"
        },
        "id": "p4C3eOJ_d3aj",
        "outputId": "39b2a7b7-f3eb-4ef3-9ae2-8adee7264c39"
      },
      "execution_count": 26,
      "outputs": [
        {
          "output_type": "stream",
          "name": "stdout",
          "text": [
            "tensor([[0.8143],\n",
            "        [0.8259],\n",
            "        [0.8375],\n",
            "        [0.8491],\n",
            "        [0.8607],\n",
            "        [0.8723],\n",
            "        [0.8839],\n",
            "        [0.8955],\n",
            "        [0.9071],\n",
            "        [0.9187]])\n"
          ]
        }
      ]
    },
    {
      "cell_type": "code",
      "source": [
        "plot_predictions(predictions=y_preds)"
      ],
      "metadata": {
        "colab": {
          "base_uri": "https://localhost:8080/",
          "height": 599
        },
        "id": "8RWK9isrd3Xo",
        "outputId": "7ae86121-4167-41d8-dbcd-126e528bc848"
      },
      "execution_count": 27,
      "outputs": [
        {
          "output_type": "display_data",
          "data": {
            "text/plain": [
              "<Figure size 1000x700 with 1 Axes>"
            ],
            "image/png": "[encoded data removed]"
          },
          "metadata": {}
        }
      ]
    },
    {
      "cell_type": "code",
      "source": [
        "plot_predictions(predictions=y_preds_new)"
      ],
      "metadata": {
        "colab": {
          "base_uri": "https://localhost:8080/",
          "height": 599
        },
        "id": "wk2_x-xxd3U4",
        "outputId": "56349db6-cd81-4b06-90ad-55def56f21fd"
      },
      "execution_count": 28,
      "outputs": [
        {
          "output_type": "display_data",
          "data": {
            "text/plain": [
              "<Figure size 1000x700 with 1 Axes>"
            ],
            "image/png": "[encoded data removed]"
          },
          "metadata": {}
        }
      ]
    },
    {
      "cell_type": "code",
      "source": [
        "# TESTING MODEL\n",
        "model_0.eval() # Set model to evaluation mode in PyTorch, no gradients(turn off gradients tracking)\n",
        "\n",
        "with torch.inference_mode(): # Turn off gradients tracking may also see torch.nograd.\n",
        "\n",
        "# Do Forward pass\n",
        "  test_pred = model_0(X_test)\n",
        "\n",
        "# Calculate the loss\n",
        "  test_loss = loss_fn(test_pred, y_test)\n",
        "\n",
        "# Print out what's happening\n",
        "if epoch % 10 == 0:\n",
        "  print(f\"Epoch: {epoch} | Loss: {loss} | Test loss: {test_loss}\")\n",
        "\n",
        "# Print out what's happening\n",
        "#print(f\"Test loss: {test_loss}\")\n",
        "\n",
        "# print out model state_dict()\n",
        "print(model_0.state_dict())\n",
        "# print(f\"weight: {model_0.state_dict()['weights']}\\nbias: {model_0.state_dict()['bias']}\")\n",
        "\n",
        "# y_preds = model_0(X_test)"
      ],
      "metadata": {
        "colab": {
          "base_uri": "https://localhost:8080/"
        },
        "id": "hMg7H8Mqd3SF",
        "outputId": "b3f62c61-939c-4c82-9a55-fce97f53b433"
      },
      "execution_count": 36,
      "outputs": [
        {
          "output_type": "stream",
          "name": "stdout",
          "text": [
            "OrderedDict([('weights', tensor([0.5800])), ('bias', tensor([0.3503]))])\n"
          ]
        }
      ]
    },
    {
      "cell_type": "code",
      "source": [
        "# Align the red dots with the green dots\n",
        "\n",
        "# Training\n",
        "\n",
        "# Loop through the data\n",
        "for epoch in range (epochs):\n",
        "\n",
        "  # Set Model to training mode\n",
        "  model_0.train()\n",
        "\n",
        "  # Forward Pass\n",
        "  y_pred = model_0(X_train)\n",
        "\n",
        "  # Calculate Loss\n",
        "  loss = loss_fn(y_pred, y_train)\n",
        "\n",
        "  # Optimizer Zero Grad\n",
        "  optimizer.zero_grad()\n",
        "\n",
        "  # Perform backpropagation on the loss with respect to the parameters of the model\n",
        "  loss.backward()\n",
        "\n",
        "  # Step the optimizer (perform gradient descent) step the optimizer\n",
        "  optimizer.step()\n",
        "\n",
        "  # Testing\n",
        "  model_0.eval() # Set model to evaluation mode in PyTorch, no gradients(turn off gradients tracking)\n",
        "\n",
        "  with torch.inference_mode(): # Turn off gradients tracking may also see torch.nograd.\n",
        "\n",
        "    # Do Forward pass\n",
        "    test_pred = model_0(X_test)\n",
        "\n",
        "  # Calculate the loss\n",
        "  test_loss = loss_fn(test_pred, y_test)\n",
        "\n",
        "  # Print out what's happening\n",
        "  if epoch % 10 == 0:\n",
        "    print(f\"Epoch: {epoch} | Loss: {loss} | Test loss: {test_loss}\")\n",
        "\n",
        "  # print out model state_dict()\n",
        "  print(model_0.state_dict())"
      ],
      "metadata": {
        "colab": {
          "base_uri": "https://localhost:8080/"
        },
        "id": "1TeZCWiEd3O_",
        "outputId": "46a3f415-5e3a-4e14-d13b-8c1eb067c34f"
      },
      "execution_count": 39,
      "outputs": [
        {
          "output_type": "stream",
          "name": "stdout",
          "text": [
            "Epoch: 0 | Loss: 0.024110013619065285 | Test loss: 0.05536102131009102\n",
            "OrderedDict([('weights', tensor([0.5818])), ('bias', tensor([0.3498]))])\n",
            "OrderedDict([('weights', tensor([0.5834])), ('bias', tensor([0.3488]))])\n",
            "OrderedDict([('weights', tensor([0.5852])), ('bias', tensor([0.3483]))])\n",
            "OrderedDict([('weights', tensor([0.5868])), ('bias', tensor([0.3473]))])\n",
            "OrderedDict([('weights', tensor([0.5886])), ('bias', tensor([0.3468]))])\n",
            "OrderedDict([('weights', tensor([0.5902])), ('bias', tensor([0.3458]))])\n",
            "OrderedDict([('weights', tensor([0.5920])), ('bias', tensor([0.3453]))])\n",
            "OrderedDict([('weights', tensor([0.5938])), ('bias', tensor([0.3448]))])\n",
            "OrderedDict([('weights', tensor([0.5954])), ('bias', tensor([0.3438]))])\n",
            "OrderedDict([('weights', tensor([0.5972])), ('bias', tensor([0.3433]))])\n",
            "Epoch: 10 | Loss: 0.020677709951996803 | Test loss: 0.04777535796165466\n",
            "OrderedDict([('weights', tensor([0.5988])), ('bias', tensor([0.3423]))])\n",
            "OrderedDict([('weights', tensor([0.6006])), ('bias', tensor([0.3418]))])\n",
            "OrderedDict([('weights', tensor([0.6022])), ('bias', tensor([0.3408]))])\n",
            "OrderedDict([('weights', tensor([0.6040])), ('bias', tensor([0.3403]))])\n",
            "OrderedDict([('weights', tensor([0.6058])), ('bias', tensor([0.3398]))])\n",
            "OrderedDict([('weights', tensor([0.6074])), ('bias', tensor([0.3388]))])\n",
            "OrderedDict([('weights', tensor([0.6092])), ('bias', tensor([0.3383]))])\n",
            "OrderedDict([('weights', tensor([0.6108])), ('bias', tensor([0.3373]))])\n",
            "OrderedDict([('weights', tensor([0.6126])), ('bias', tensor([0.3368]))])\n",
            "OrderedDict([('weights', tensor([0.6141])), ('bias', tensor([0.3358]))])\n",
            "Epoch: 20 | Loss: 0.017245199531316757 | Test loss: 0.0395028181374073\n",
            "OrderedDict([('weights', tensor([0.6159])), ('bias', tensor([0.3353]))])\n",
            "OrderedDict([('weights', tensor([0.6175])), ('bias', tensor([0.3343]))])\n",
            "OrderedDict([('weights', tensor([0.6193])), ('bias', tensor([0.3338]))])\n",
            "OrderedDict([('weights', tensor([0.6211])), ('bias', tensor([0.3333]))])\n",
            "OrderedDict([('weights', tensor([0.6227])), ('bias', tensor([0.3323]))])\n",
            "OrderedDict([('weights', tensor([0.6245])), ('bias', tensor([0.3318]))])\n",
            "OrderedDict([('weights', tensor([0.6261])), ('bias', tensor([0.3308]))])\n",
            "OrderedDict([('weights', tensor([0.6279])), ('bias', tensor([0.3303]))])\n",
            "OrderedDict([('weights', tensor([0.6295])), ('bias', tensor([0.3293]))])\n",
            "OrderedDict([('weights', tensor([0.6313])), ('bias', tensor([0.3288]))])\n",
            "Epoch: 30 | Loss: 0.013806397095322609 | Test loss: 0.031230276450514793\n",
            "OrderedDict([('weights', tensor([0.6331])), ('bias', tensor([0.3283]))])\n",
            "OrderedDict([('weights', tensor([0.6347])), ('bias', tensor([0.3273]))])\n",
            "OrderedDict([('weights', tensor([0.6365])), ('bias', tensor([0.3268]))])\n",
            "OrderedDict([('weights', tensor([0.6381])), ('bias', tensor([0.3258]))])\n",
            "OrderedDict([('weights', tensor([0.6399])), ('bias', tensor([0.3253]))])\n",
            "OrderedDict([('weights', tensor([0.6415])), ('bias', tensor([0.3243]))])\n",
            "OrderedDict([('weights', tensor([0.6433])), ('bias', tensor([0.3238]))])\n",
            "OrderedDict([('weights', tensor([0.6451])), ('bias', tensor([0.3233]))])\n",
            "OrderedDict([('weights', tensor([0.6467])), ('bias', tensor([0.3223]))])\n",
            "OrderedDict([('weights', tensor([0.6485])), ('bias', tensor([0.3218]))])\n",
            "Epoch: 40 | Loss: 0.010375778190791607 | Test loss: 0.023644620552659035\n",
            "OrderedDict([('weights', tensor([0.6501])), ('bias', tensor([0.3208]))])\n",
            "OrderedDict([('weights', tensor([0.6519])), ('bias', tensor([0.3203]))])\n",
            "OrderedDict([('weights', tensor([0.6534])), ('bias', tensor([0.3193]))])\n",
            "OrderedDict([('weights', tensor([0.6552])), ('bias', tensor([0.3188]))])\n",
            "OrderedDict([('weights', tensor([0.6568])), ('bias', tensor([0.3178]))])\n",
            "OrderedDict([('weights', tensor([0.6586])), ('bias', tensor([0.3173]))])\n",
            "OrderedDict([('weights', tensor([0.6604])), ('bias', tensor([0.3168]))])\n",
            "OrderedDict([('weights', tensor([0.6620])), ('bias', tensor([0.3158]))])\n",
            "OrderedDict([('weights', tensor([0.6638])), ('bias', tensor([0.3153]))])\n",
            "OrderedDict([('weights', tensor([0.6654])), ('bias', tensor([0.3143]))])\n",
            "Epoch: 50 | Loss: 0.006941580679267645 | Test loss: 0.0153720797970891\n",
            "OrderedDict([('weights', tensor([0.6672])), ('bias', tensor([0.3138]))])\n",
            "OrderedDict([('weights', tensor([0.6688])), ('bias', tensor([0.3128]))])\n",
            "OrderedDict([('weights', tensor([0.6706])), ('bias', tensor([0.3123]))])\n",
            "OrderedDict([('weights', tensor([0.6724])), ('bias', tensor([0.3118]))])\n",
            "OrderedDict([('weights', tensor([0.6740])), ('bias', tensor([0.3108]))])\n",
            "OrderedDict([('weights', tensor([0.6758])), ('bias', tensor([0.3103]))])\n",
            "OrderedDict([('weights', tensor([0.6774])), ('bias', tensor([0.3093]))])\n",
            "OrderedDict([('weights', tensor([0.6792])), ('bias', tensor([0.3088]))])\n",
            "OrderedDict([('weights', tensor([0.6808])), ('bias', tensor([0.3078]))])\n",
            "OrderedDict([('weights', tensor([0.6826])), ('bias', tensor([0.3073]))])\n",
            "Epoch: 60 | Loss: 0.0035027749836444855 | Test loss: 0.007099539041519165\n",
            "OrderedDict([('weights', tensor([0.6844])), ('bias', tensor([0.3068]))])\n",
            "OrderedDict([('weights', tensor([0.6860])), ('bias', tensor([0.3058]))])\n",
            "OrderedDict([('weights', tensor([0.6878])), ('bias', tensor([0.3053]))])\n",
            "OrderedDict([('weights', tensor([0.6894])), ('bias', tensor([0.3043]))])\n",
            "OrderedDict([('weights', tensor([0.6912])), ('bias', tensor([0.3038]))])\n",
            "OrderedDict([('weights', tensor([0.6927])), ('bias', tensor([0.3028]))])\n",
            "OrderedDict([('weights', tensor([0.6947])), ('bias', tensor([0.3028]))])\n",
            "OrderedDict([('weights', tensor([0.6951])), ('bias', tensor([0.2993]))])\n",
            "OrderedDict([('weights', tensor([0.6990])), ('bias', tensor([0.3093]))])\n",
            "OrderedDict([('weights', tensor([0.6951])), ('bias', tensor([0.2993]))])\n",
            "Epoch: 70 | Loss: 0.0025885067880153656 | Test loss: 0.008447891101241112\n",
            "OrderedDict([('weights', tensor([0.6990])), ('bias', tensor([0.3093]))])\n",
            "OrderedDict([('weights', tensor([0.6951])), ('bias', tensor([0.2993]))])\n",
            "OrderedDict([('weights', tensor([0.6990])), ('bias', tensor([0.3093]))])\n",
            "OrderedDict([('weights', tensor([0.6951])), ('bias', tensor([0.2993]))])\n",
            "OrderedDict([('weights', tensor([0.6990])), ('bias', tensor([0.3093]))])\n",
            "OrderedDict([('weights', tensor([0.6951])), ('bias', tensor([0.2993]))])\n",
            "OrderedDict([('weights', tensor([0.6990])), ('bias', tensor([0.3093]))])\n",
            "OrderedDict([('weights', tensor([0.6951])), ('bias', tensor([0.2993]))])\n",
            "OrderedDict([('weights', tensor([0.6990])), ('bias', tensor([0.3093]))])\n",
            "OrderedDict([('weights', tensor([0.6951])), ('bias', tensor([0.2993]))])\n",
            "Epoch: 80 | Loss: 0.0025885067880153656 | Test loss: 0.008447891101241112\n",
            "OrderedDict([('weights', tensor([0.6990])), ('bias', tensor([0.3093]))])\n",
            "OrderedDict([('weights', tensor([0.6951])), ('bias', tensor([0.2993]))])\n",
            "OrderedDict([('weights', tensor([0.6990])), ('bias', tensor([0.3093]))])\n",
            "OrderedDict([('weights', tensor([0.6951])), ('bias', tensor([0.2993]))])\n",
            "OrderedDict([('weights', tensor([0.6990])), ('bias', tensor([0.3093]))])\n",
            "OrderedDict([('weights', tensor([0.6951])), ('bias', tensor([0.2993]))])\n",
            "OrderedDict([('weights', tensor([0.6990])), ('bias', tensor([0.3093]))])\n",
            "OrderedDict([('weights', tensor([0.6951])), ('bias', tensor([0.2993]))])\n",
            "OrderedDict([('weights', tensor([0.6990])), ('bias', tensor([0.3093]))])\n",
            "OrderedDict([('weights', tensor([0.6951])), ('bias', tensor([0.2993]))])\n",
            "Epoch: 90 | Loss: 0.0025885067880153656 | Test loss: 0.008447891101241112\n",
            "OrderedDict([('weights', tensor([0.6990])), ('bias', tensor([0.3093]))])\n",
            "OrderedDict([('weights', tensor([0.6951])), ('bias', tensor([0.2993]))])\n",
            "OrderedDict([('weights', tensor([0.6990])), ('bias', tensor([0.3093]))])\n",
            "OrderedDict([('weights', tensor([0.6951])), ('bias', tensor([0.2993]))])\n",
            "OrderedDict([('weights', tensor([0.6990])), ('bias', tensor([0.3093]))])\n",
            "OrderedDict([('weights', tensor([0.6951])), ('bias', tensor([0.2993]))])\n",
            "OrderedDict([('weights', tensor([0.6990])), ('bias', tensor([0.3093]))])\n",
            "OrderedDict([('weights', tensor([0.6951])), ('bias', tensor([0.2993]))])\n",
            "OrderedDict([('weights', tensor([0.6990])), ('bias', tensor([0.3093]))])\n",
            "OrderedDict([('weights', tensor([0.6951])), ('bias', tensor([0.2993]))])\n"
          ]
        }
      ]
    },
    {
      "cell_type": "code",
      "source": [
        "with torch.inference_mode():\n",
        "  y_preds_new = model_0(X_test)\n",
        "  print(y_preds_new)"
      ],
      "metadata": {
        "colab": {
          "base_uri": "https://localhost:8080/"
        },
        "id": "N3cq1Ea6d3MS",
        "outputId": "9a7e019c-5a03-44b2-a805-3598d8ba07bd"
      },
      "execution_count": 40,
      "outputs": [
        {
          "output_type": "stream",
          "name": "stdout",
          "text": [
            "tensor([[0.8554],\n",
            "        [0.8693],\n",
            "        [0.8832],\n",
            "        [0.8971],\n",
            "        [0.9110],\n",
            "        [0.9249],\n",
            "        [0.9388],\n",
            "        [0.9527],\n",
            "        [0.9666],\n",
            "        [0.9805]])\n"
          ]
        }
      ]
    },
    {
      "cell_type": "code",
      "source": [
        "model_0.state_dict()"
      ],
      "metadata": {
        "colab": {
          "base_uri": "https://localhost:8080/"
        },
        "id": "w68ndKq7d3Jh",
        "outputId": "1c2dcaa0-4093-4fb2-9c77-13fdfa450c38"
      },
      "execution_count": 41,
      "outputs": [
        {
          "output_type": "execute_result",
          "data": {
            "text/plain": [
              "OrderedDict([('weights', tensor([0.6951])), ('bias', tensor([0.2993]))])"
            ]
          },
          "metadata": {},
          "execution_count": 41
        }
      ]
    },
    {
      "cell_type": "code",
      "source": [
        "plot_predictions(predictions=y_preds);"
      ],
      "metadata": {
        "colab": {
          "base_uri": "https://localhost:8080/",
          "height": 599
        },
        "id": "c9G9nwEbd3GZ",
        "outputId": "06926e6d-caf0-4f75-ecc1-d3f8449934e3"
      },
      "execution_count": 42,
      "outputs": [
        {
          "output_type": "display_data",
          "data": {
            "text/plain": [
              "<Figure size 1000x700 with 1 Axes>"
            ],
            "image/png": "[encoded data removed]"
          },
          "metadata": {}
        }
      ]
    },
    {
      "cell_type": "code",
      "source": [
        "plot_predictions(predictions=y_preds_new);"
      ],
      "metadata": {
        "colab": {
          "base_uri": "https://localhost:8080/",
          "height": 599
        },
        "id": "ypkBqvopd3C6",
        "outputId": "fbadab18-3b09-4940-e190-47ff0db2e360"
      },
      "execution_count": 43,
      "outputs": [
        {
          "output_type": "display_data",
          "data": {
            "text/plain": [
              "<Figure size 1000x700 with 1 Axes>"
            ],
            "image/png": "[encoded data removed]"
          },
          "metadata": {}
        }
      ]
    },
    {
      "cell_type": "code",
      "source": [],
      "metadata": {
        "id": "bYrh7pDId2_9"
      },
      "execution_count": null,
      "outputs": []
    },
    {
      "cell_type": "code",
      "source": [],
      "metadata": {
        "id": "JlRIA0gGd27_"
      },
      "execution_count": null,
      "outputs": []
    },
    {
      "cell_type": "code",
      "source": [],
      "metadata": {
        "id": "9mmeOtgMd2zJ"
      },
      "execution_count": null,
      "outputs": []
    }
  ],
  "metadata": {
    "accelerator": "GPU",
    "colab": {
      "gpuType": "T4",
      "provenance": [],
      "authorship_tag": "ABX9TyP3kvUt2vvDrTxrk9EO158p",
      "include_colab_link": true
    },
    "kernelspec": {
      "display_name": "Python 3",
      "name": "python3"
    },
    "language_info": {
      "name": "python"
    }
  },
  "nbformat": 4,
  "nbformat_minor": 0
}